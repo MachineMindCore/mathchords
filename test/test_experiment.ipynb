{
  "cells": [
    {
      "cell_type": "markdown",
      "metadata": {
        "id": "d0uM0V5XrHZA"
      },
      "source": [
        "# Librerias"
      ]
    },
    {
      "cell_type": "code",
      "execution_count": 7,
      "metadata": {
        "id": "NJXLndRAp3RB"
      },
      "outputs": [],
      "source": [
        "from sklearn.manifold import MDS\n",
        "import sys\n",
        "import ipywidgets\n",
        "\n",
        "from mathchords.io import ExperimentHandler\n",
        "from mathchords.functions.characteristics import process\n",
        "\n",
        "import mathchords.functions.gen_chords as gen\n",
        "import mathchords.functions.clustering as cg\n",
        "import mathchords.functions.characteristics as ce\n",
        "#import pruebas1 as p\n",
        "\n",
        "from mathchords.constans import SCALES"
      ]
    },
    {
      "cell_type": "markdown",
      "metadata": {
        "id": "youhIAscrRbq"
      },
      "source": [
        "# cargar datos"
      ]
    },
    {
      "cell_type": "code",
      "execution_count": 8,
      "metadata": {
        "colab": {
          "base_uri": "https://localhost:8080/",
          "height": 162,
          "referenced_widgets": [
            "80bdaac18b1c47f4a9a65edff66ba756",
            "6a26e4c393b14083ae4c47f0a207f7c4",
            "64364596d6e0420fb9c0e47bc9578e4c",
            "1fb413ff86c04548b5bc23a4666b5cd4",
            "74a0f201cf46498b99869b7efc19d6c2",
            "6153703ff84f4b509939782919a651b0",
            "4dd18e15ce4a44e782bac81e82394190",
            "a4648fa1ba9c46278be42815bac80024",
            "ac347f52ae8945e4b955ae7c2c286179",
            "95f5d3f5ba4f408dbfe9384cc8777ce3",
            "9383095f3a1e4548ab794d02f3927cda",
            "6b2c9ade6c124b6c9c82d77e5016cea3"
          ]
        },
        "id": "OHgRlPKIqu8b",
        "outputId": "3d6410d4-208e-4c19-ca57-f541f45ca74c"
      },
      "outputs": [],
      "source": [
        "BASE_PATH = \"../data/\"\n",
        "handler = ExperimentHandler(BASE_PATH)"
      ]
    },
    {
      "cell_type": "markdown",
      "metadata": {
        "id": "bXJwAvQ5rWxR"
      },
      "source": [
        "# Extraer Datos y caractertisiticas"
      ]
    },
    {
      "cell_type": "code",
      "execution_count": 9,
      "metadata": {
        "id": "iieLIc4yGYV8"
      },
      "outputs": [
        {
          "ename": "KeyError",
          "evalue": "'bass'",
          "output_type": "error",
          "traceback": [
            "\u001b[0;31m---------------------------------------------------------------------------\u001b[0m",
            "\u001b[0;31mKeyError\u001b[0m                                  Traceback (most recent call last)",
            "Cell \u001b[0;32mIn[9], line 5\u001b[0m\n\u001b[1;32m      3\u001b[0m results_structure\u001b[38;5;241m=\u001b[39mce\u001b[38;5;241m.\u001b[39mprocess(chords, datos, ce\u001b[38;5;241m.\u001b[39mtranspose_to_zero, BASE_PATH)[\u001b[38;5;124m'\u001b[39m\u001b[38;5;124mresults\u001b[39m\u001b[38;5;124m'\u001b[39m]\n\u001b[1;32m      4\u001b[0m results_intervals_theory\u001b[38;5;241m=\u001b[39mce\u001b[38;5;241m.\u001b[39mprocess(chords, datos, ce\u001b[38;5;241m.\u001b[39minterval_vector, BASE_PATH)[\u001b[38;5;124m'\u001b[39m\u001b[38;5;124mresults\u001b[39m\u001b[38;5;124m'\u001b[39m]\n\u001b[0;32m----> 5\u001b[0m results_intervals_histo_12\u001b[38;5;241m=\u001b[39m\u001b[43mce\u001b[49m\u001b[38;5;241;43m.\u001b[39;49m\u001b[43mprocess\u001b[49m\u001b[43m(\u001b[49m\u001b[43mchords\u001b[49m\u001b[43m,\u001b[49m\u001b[43m \u001b[49m\u001b[43mdatos\u001b[49m\u001b[43m,\u001b[49m\u001b[43m \u001b[49m\u001b[43mce\u001b[49m\u001b[38;5;241;43m.\u001b[39;49m\u001b[43minterval_histogram_with_dissmeasure\u001b[49m\u001b[43m,\u001b[49m\u001b[43m \u001b[49m\u001b[43mBASE_PATH\u001b[49m\u001b[43m)\u001b[49m[\u001b[38;5;124m'\u001b[39m\u001b[38;5;124mresults\u001b[39m\u001b[38;5;124m'\u001b[39m]\n\u001b[1;32m      6\u001b[0m results_binary_notes\u001b[38;5;241m=\u001b[39mce\u001b[38;5;241m.\u001b[39mprocess(chords, datos, ce\u001b[38;5;241m.\u001b[39mbinary_pitch_class_set, BASE_PATH)[\u001b[38;5;124m'\u001b[39m\u001b[38;5;124mresults\u001b[39m\u001b[38;5;124m'\u001b[39m]\n\u001b[1;32m      7\u001b[0m results_binary_intervals_12\u001b[38;5;241m=\u001b[39mce\u001b[38;5;241m.\u001b[39mprocess(chords, datos, ce\u001b[38;5;241m.\u001b[39minterval_histogram, BASE_PATH)[\u001b[38;5;124m'\u001b[39m\u001b[38;5;124mresults\u001b[39m\u001b[38;5;124m'\u001b[39m]\n",
            "File \u001b[0;32m~/Repo/maths-chords/mathchords/functions/characteristics.py:451\u001b[0m, in \u001b[0;36mprocess\u001b[0;34m(chords, experiment_data, func, path)\u001b[0m\n\u001b[1;32m    449\u001b[0m \u001b[38;5;28;01mfor\u001b[39;00m i, chord \u001b[38;5;129;01min\u001b[39;00m \u001b[38;5;28menumerate\u001b[39m(chords):\n\u001b[1;32m    450\u001b[0m     chord_id \u001b[38;5;241m=\u001b[39m \u001b[38;5;124mf\u001b[39m\u001b[38;5;124m\"\u001b[39m\u001b[38;5;124mchord_\u001b[39m\u001b[38;5;132;01m{\u001b[39;00mi\u001b[38;5;132;01m}\u001b[39;00m\u001b[38;5;124m\"\u001b[39m  \u001b[38;5;66;03m# Generar un identificador único para el acorde\u001b[39;00m\n\u001b[0;32m--> 451\u001b[0m     result \u001b[38;5;241m=\u001b[39m \u001b[43mfunc\u001b[49m\u001b[43m(\u001b[49m\u001b[43mchord\u001b[49m\u001b[43m,\u001b[49m\u001b[43m \u001b[49m\u001b[43mchord_id\u001b[49m\u001b[43m)\u001b[49m  \u001b[38;5;66;03m# Llamamos a func en lugar de Experiment_pcset directamente\u001b[39;00m\n\u001b[1;32m    452\u001b[0m     \u001b[38;5;66;03m#print(result)\u001b[39;00m\n\u001b[1;32m    453\u001b[0m     result[\u001b[38;5;124m'\u001b[39m\u001b[38;5;124mchord_id\u001b[39m\u001b[38;5;124m'\u001b[39m] \u001b[38;5;241m=\u001b[39m chord_id  \u001b[38;5;66;03m# Agregar el identificador único al resultado\u001b[39;00m\n",
            "File \u001b[0;32m~/Repo/maths-chords/mathchords/functions/characteristics.py:564\u001b[0m, in \u001b[0;36minterval_histogram_with_dissmeasure\u001b[0;34m(chord, chord_id)\u001b[0m\n\u001b[1;32m    562\u001b[0m fixed_amp \u001b[38;5;241m=\u001b[39m \u001b[38;5;241m1\u001b[39m\n\u001b[1;32m    563\u001b[0m \u001b[38;5;66;03m# Genera la secuencia de notas con inversión basada en el bajo\u001b[39;00m\n\u001b[0;32m--> 564\u001b[0m note_sequence \u001b[38;5;241m=\u001b[39m \u001b[43minversion_from_bass\u001b[49m\u001b[43m(\u001b[49m\u001b[43mchord\u001b[49m\u001b[43m)\u001b[49m\n\u001b[1;32m    565\u001b[0m frequencies \u001b[38;5;241m=\u001b[39m inversion_to_frequencies(chord)  \u001b[38;5;66;03m# Asume que esta es la función correcta para obtener frecuencias\u001b[39;00m\n\u001b[1;32m    567\u001b[0m histogram \u001b[38;5;241m=\u001b[39m [\u001b[38;5;241m0\u001b[39m] \u001b[38;5;241m*\u001b[39m \u001b[38;5;241m11\u001b[39m  \u001b[38;5;66;03m# Histograma para intervalos\u001b[39;00m\n",
            "File \u001b[0;32m~/Repo/maths-chords/mathchords/functions/characteristics.py:383\u001b[0m, in \u001b[0;36minversion_from_bass\u001b[0;34m(chord)\u001b[0m\n\u001b[1;32m    380\u001b[0m note_sequence \u001b[38;5;241m=\u001b[39m [root_note] \u001b[38;5;241m+\u001b[39m [(root_note \u001b[38;5;241m+\u001b[39m \u001b[38;5;28msum\u001b[39m(intervals[:i\u001b[38;5;241m+\u001b[39m\u001b[38;5;241m1\u001b[39m])) \u001b[38;5;241m%\u001b[39m \u001b[38;5;241m12\u001b[39m \u001b[38;5;28;01mfor\u001b[39;00m i \u001b[38;5;129;01min\u001b[39;00m \u001b[38;5;28mrange\u001b[39m(\u001b[38;5;28mlen\u001b[39m(intervals))]\n\u001b[1;32m    382\u001b[0m \u001b[38;5;66;03m# Encuentra el índice del bajo en la secuencia de notas\u001b[39;00m\n\u001b[0;32m--> 383\u001b[0m bass_index \u001b[38;5;241m=\u001b[39m note_sequence\u001b[38;5;241m.\u001b[39mindex(\u001b[43mchord\u001b[49m\u001b[43m[\u001b[49m\u001b[38;5;124;43m'\u001b[39;49m\u001b[38;5;124;43mbass\u001b[39;49m\u001b[38;5;124;43m'\u001b[39;49m\u001b[43m]\u001b[49m)\n\u001b[1;32m    385\u001b[0m \u001b[38;5;66;03m# Reorganiza la secuencia de notas para que comience desde el bajo\u001b[39;00m\n\u001b[1;32m    386\u001b[0m reordered_sequence \u001b[38;5;241m=\u001b[39m note_sequence[bass_index:] \u001b[38;5;241m+\u001b[39m note_sequence[:bass_index]\n",
            "\u001b[0;31mKeyError\u001b[0m: 'bass'"
          ]
        }
      ],
      "source": [
        "datos = handler.read(\"experiment_data.pkl\")\n",
        "chords=datos[\"chords\"]\n",
        "results_structure=ce.process(chords, datos, ce.transpose_to_zero, BASE_PATH)['results']\n",
        "results_intervals_theory=ce.process(chords, datos, ce.interval_vector, BASE_PATH)['results']\n",
        "results_intervals_histo_12=ce.process(chords, datos, ce.interval_histogram_with_dissmeasure, BASE_PATH)['results']\n",
        "results_binary_notes=ce.process(chords, datos, ce.binary_pitch_class_set, BASE_PATH)['results']\n",
        "results_binary_intervals_12=ce.process(chords, datos, ce.interval_histogram, BASE_PATH)['results']\n",
        "results_polar_notes=ce.process(chords, datos, ce.polar_pitch_classes, BASE_PATH)['results']\n",
        "results_polar_degree=ce.polar_degree(datos)\n",
        "chord_ids = list(results_intervals_theory.keys())\n",
        "def perform_mds(data, n_components=2):\n",
        "    mds = MDS(n_components=n_components,  max_iter=30000,eps=1e-16)\n",
        "    val=mds.fit_transform(data)\n",
        "    print(mds.n_iter_,mds.stress_)\n",
        "    return val,mds.dissimilarity_matrix_\n",
        "\n"
      ]
    },
    {
      "cell_type": "code",
      "execution_count": null,
      "metadata": {
        "colab": {
          "base_uri": "https://localhost:8080/"
        },
        "id": "tOkDJ-0E6kiw",
        "outputId": "dd20e6ba-b9ad-4649-83dc-ee2bff70b18a"
      },
      "outputs": [
        {
          "data": {
            "text/plain": [
              "{'octave': 5, 'bass': 0, 'root': 0, 'degree': 1, 'intervals': [4, 3]}"
            ]
          },
          "execution_count": 5,
          "metadata": {},
          "output_type": "execute_result"
        }
      ],
      "source": [
        "chords[0]"
      ]
    },
    {
      "cell_type": "markdown",
      "metadata": {
        "id": "ypnnnTwLrg6z"
      },
      "source": [
        "# Acordes transpuestos a cero: estructura e intervalos clasicos"
      ]
    },
    {
      "cell_type": "code",
      "execution_count": null,
      "metadata": {
        "colab": {
          "base_uri": "https://localhost:8080/",
          "referenced_widgets": [
            "c369dc9d60c3412983684d07cd5592dc",
            "5c54ab98dc614fbb962522108f489c0d",
            "9fad67381dde476ebf3aec6199845403",
            "bef15f39c6f246be9963bbfe7d958449"
          ]
        },
        "id": "fMgs-yWGV7mf",
        "outputId": "60d23add-6ce1-410f-d248-aac5dfb51b7f"
      },
      "outputs": [
        {
          "name": "stderr",
          "output_type": "stream",
          "text": [
            "/usr/local/lib/python3.10/dist-packages/sklearn/manifold/_mds.py:299: FutureWarning: The default value of `normalized_stress` will change to `'auto'` in version 1.4. To suppress this warning, manually set the value of `normalized_stress`.\n",
            "  warnings.warn(\n"
          ]
        },
        {
          "name": "stdout",
          "output_type": "stream",
          "text": [
            "99 4.794725833495432e-15\n",
            "['C', 'C/E', 'C/G', 'Dm', 'Dm/F', 'Dm/A', 'Em', 'Em/G', 'Em/B', 'F', 'F/A', 'F/C', 'G', 'G/B', 'G/D', 'Am', 'Am/C', 'Am/E', 'B°', 'B°/D', 'B°/F']\n"
          ]
        },
        {
          "data": {
            "application/vnd.jupyter.widget-view+json": {
              "model_id": "c369dc9d60c3412983684d07cd5592dc",
              "version_major": 2,
              "version_minor": 0
            },
            "text/plain": [
              "Dropdown(description='Chord ID:', options=(('Chord ID: chord_0, C', 'chord_0'), ('Chord ID: chord_1, C/E', 'ch…"
            ]
          },
          "metadata": {
            "application/vnd.jupyter.widget-view+json": {
              "colab": {
                "custom_widget_manager": {
                  "url": "https://ssl.gstatic.com/colaboratory-static/widgets/colab-cdn-widget-manager/2b70e893a8ba7c0f/manager.min.js"
                }
              }
            }
          },
          "output_type": "display_data"
        },
        {
          "data": {
            "application/vnd.jupyter.widget-view+json": {
              "model_id": "bef15f39c6f246be9963bbfe7d958449",
              "version_major": 2,
              "version_minor": 0
            },
            "text/plain": [
              "FigureWidget({\n",
              "    'data': [{'hoverinfo': 'text',\n",
              "              'hovertext': [Root: C<br>Bass: C<br>Octave: 5<br>Degree:\n",
              "                            1<br>Intervals: [4, 3], Root: C<br>Bass: E<br>Octave:\n",
              "                            5<br>Degree: 1<br>Intervals: [4, 3], Root: C<br>Bass:\n",
              "                            G<br>Octave: 5<br>Degree: 1<br>Intervals: [4, 3], Root:\n",
              "                            D<br>Bass: D<br>Octave: 5<br>Degree: 2<br>Intervals:\n",
              "                            [3, 4], Root: D<br>Bass: F<br>Octave: 5<br>Degree:\n",
              "                            2<br>Intervals: [3, 4], Root: D<br>Bass: A<br>Octave:\n",
              "                            5<br>Degree: 2<br>Intervals: [3, 4], Root: E<br>Bass:\n",
              "                            E<br>Octave: 5<br>Degree: 3<br>Intervals: [3, 4], Root:\n",
              "                            E<br>Bass: G<br>Octave: 5<br>Degree: 3<br>Intervals:\n",
              "                            [3, 4], Root: E<br>Bass: B<br>Octave: 5<br>Degree:\n",
              "                            3<br>Intervals: [3, 4], Root: F<br>Bass: F<br>Octave:\n",
              "                            5<br>Degree: 4<br>Intervals: [4, 3], Root: F<br>Bass:\n",
              "                            A<br>Octave: 5<br>Degree: 4<br>Intervals: [4, 3], Root:\n",
              "                            F<br>Bass: C<br>Octave: 5<br>Degree: 4<br>Intervals:\n",
              "                            [4, 3], Root: G<br>Bass: G<br>Octave: 5<br>Degree:\n",
              "                            5<br>Intervals: [4, 3], Root: G<br>Bass: B<br>Octave:\n",
              "                            5<br>Degree: 5<br>Intervals: [4, 3], Root: G<br>Bass:\n",
              "                            D<br>Octave: 5<br>Degree: 5<br>Intervals: [4, 3], Root:\n",
              "                            A<br>Bass: A<br>Octave: 5<br>Degree: 6<br>Intervals:\n",
              "                            [3, 4], Root: A<br>Bass: C<br>Octave: 5<br>Degree:\n",
              "                            6<br>Intervals: [3, 4], Root: A<br>Bass: E<br>Octave:\n",
              "                            5<br>Degree: 6<br>Intervals: [3, 4], Root: B<br>Bass:\n",
              "                            B<br>Octave: 5<br>Degree: 7<br>Intervals: [3, 3], Root:\n",
              "                            B<br>Bass: D<br>Octave: 5<br>Degree: 7<br>Intervals:\n",
              "                            [3, 3], Root: B<br>Bass: F<br>Octave: 5<br>Degree:\n",
              "                            7<br>Intervals: [3, 3]],\n",
              "              'marker': {'color': [black, black, black, black, black, black,\n",
              "                                   black, black, black, black, black, black, black,\n",
              "                                   black, black, black, black, black, black, black,\n",
              "                                   black],\n",
              "                         'size': 13,\n",
              "                         'symbol': [circle, circle, circle, circle, circle,\n",
              "                                    circle, circle, circle, circle, circle, circle,\n",
              "                                    circle, circle, circle, circle, circle, circle,\n",
              "                                    circle, circle, circle, circle]},\n",
              "              'mode': 'markers+text',\n",
              "              'text': [C, C/E, C/G, Dm, Dm/F, Dm/A, Em, Em/G, Em/B, F, F/A, F/C,\n",
              "                       G, G/B, G/D, Am, Am/C, Am/E, B°, B°/D, B°/F],\n",
              "              'textposition': 'top center',\n",
              "              'type': 'scatter',\n",
              "              'uid': '2ec39e56-3fc1-4c99-b5f3-acaf8ce2cf75',\n",
              "              'x': array([-0.54221725, -0.54221725, -0.54221725,  0.45416577,  0.45416577,\n",
              "                           0.45416577,  0.45416577,  0.45416577,  0.45416577, -0.54221725,\n",
              "                          -0.54221725, -0.54221725, -0.54221725, -0.54221725, -0.54221725,\n",
              "                           0.45416577,  0.45416577,  0.45416577,  0.26415444,  0.26415444,\n",
              "                           0.26415444]),\n",
              "              'y': array([-0.3668404 , -0.3668404 , -0.3668404 , -0.28186474, -0.28186474,\n",
              "                          -0.28186474, -0.28186474, -0.28186474, -0.28186474, -0.3668404 ,\n",
              "                          -0.3668404 , -0.3668404 , -0.3668404 , -0.3668404 , -0.3668404 ,\n",
              "                          -0.28186474, -0.28186474, -0.28186474,  1.94611544,  1.94611544,\n",
              "                           1.94611544])}],\n",
              "    'layout': {'autosize': False,\n",
              "               'height': 800,\n",
              "               'showlegend': False,\n",
              "               'template': '...',\n",
              "               'title': {'text': 'Chord Representation (2D)'},\n",
              "               'width': 800,\n",
              "               'xaxis': {'autorange': False, 'range': [-1.5422172535365053, 1.454165773046566], 'title': {'text': ''}},\n",
              "               'yaxis': {'autorange': False,\n",
              "                         'range': [-1.3668404042549418, 2.946115436259008],\n",
              "                         'scaleanchor': 'x',\n",
              "                         'scaleratio': 1,\n",
              "                         'title': {'text': ''}}}\n",
              "})"
            ]
          },
          "metadata": {
            "application/vnd.jupyter.widget-view+json": {
              "colab": {
                "custom_widget_manager": {
                  "url": "https://ssl.gstatic.com/colaboratory-static/widgets/colab-cdn-widget-manager/2b70e893a8ba7c0f/manager.min.js"
                }
              }
            }
          },
          "output_type": "display_data"
        },
        {
          "data": {
            "text/html": [
              "<html>\n",
              "<head><meta charset=\"utf-8\" /></head>\n",
              "<body>\n",
              "    <div>            <script src=\"https://cdnjs.cloudflare.com/ajax/libs/mathjax/2.7.5/MathJax.js?config=TeX-AMS-MML_SVG\"></script><script type=\"text/javascript\">if (window.MathJax && window.MathJax.Hub && window.MathJax.Hub.Config) {window.MathJax.Hub.Config({SVG: {font: \"STIX-Web\"}});}</script>                <script type=\"text/javascript\">window.PlotlyConfig = {MathJaxConfig: 'local'};</script>\n",
              "        <script charset=\"utf-8\" src=\"https://cdn.plot.ly/plotly-2.24.1.min.js\"></script>                <div id=\"85b5f3f8-1d87-434d-b580-7209b5f355fb\" class=\"plotly-graph-div\" style=\"height:800px; width:800px;\"></div>            <script type=\"text/javascript\">                                    window.PLOTLYENV=window.PLOTLYENV || {};                                    if (document.getElementById(\"85b5f3f8-1d87-434d-b580-7209b5f355fb\")) {                    Plotly.newPlot(                        \"85b5f3f8-1d87-434d-b580-7209b5f355fb\",                        [{\"coloraxis\":\"coloraxis\",\"name\":\"0\",\"x\":[\"C\",\"C\\u002fE\",\"C\\u002fG\",\"Dm\",\"Dm\\u002fF\",\"Dm\\u002fA\",\"Em\",\"Em\\u002fG\",\"Em\\u002fB\",\"F\",\"F\\u002fA\",\"F\\u002fC\",\"G\",\"G\\u002fB\",\"G\\u002fD\",\"Am\",\"Am\\u002fC\",\"Am\\u002fE\",\"B\\u00b0\",\"B\\u00b0\\u002fD\",\"B\\u00b0\\u002fF\"],\"y\":[\"C\",\"C\\u002fE\",\"C\\u002fG\",\"Dm\",\"Dm\\u002fF\",\"Dm\\u002fA\",\"Em\",\"Em\\u002fG\",\"Em\\u002fB\",\"F\",\"F\\u002fA\",\"F\\u002fC\",\"G\",\"G\\u002fB\",\"G\\u002fD\",\"Am\",\"Am\\u002fC\",\"Am\\u002fE\",\"B\\u00b0\",\"B\\u00b0\\u002fD\",\"B\\u00b0\\u002fF\"],\"z\":[[0.0,0.0,0.0,1.0,1.0,1.0,1.0,1.0,1.0,0.0,0.0,0.0,0.0,0.0,0.0,1.0,1.0,1.0,2.449489742783178,2.449489742783178,2.449489742783178],[0.0,0.0,0.0,1.0,1.0,1.0,1.0,1.0,1.0,0.0,0.0,0.0,0.0,0.0,0.0,1.0,1.0,1.0,2.449489742783178,2.449489742783178,2.449489742783178],[0.0,0.0,0.0,1.0,1.0,1.0,1.0,1.0,1.0,0.0,0.0,0.0,0.0,0.0,0.0,1.0,1.0,1.0,2.449489742783178,2.449489742783178,2.449489742783178],[1.0,1.0,1.0,0.0,0.0,0.0,0.0,0.0,0.0,1.0,1.0,1.0,1.0,1.0,1.0,0.0,0.0,0.0,2.23606797749979,2.23606797749979,2.23606797749979],[1.0,1.0,1.0,0.0,0.0,0.0,0.0,0.0,0.0,1.0,1.0,1.0,1.0,1.0,1.0,0.0,0.0,0.0,2.23606797749979,2.23606797749979,2.23606797749979],[1.0,1.0,1.0,0.0,0.0,0.0,0.0,0.0,0.0,1.0,1.0,1.0,1.0,1.0,1.0,0.0,0.0,0.0,2.23606797749979,2.23606797749979,2.23606797749979],[1.0,1.0,1.0,0.0,0.0,0.0,0.0,0.0,0.0,1.0,1.0,1.0,1.0,1.0,1.0,0.0,0.0,0.0,2.23606797749979,2.23606797749979,2.23606797749979],[1.0,1.0,1.0,0.0,0.0,0.0,0.0,0.0,0.0,1.0,1.0,1.0,1.0,1.0,1.0,0.0,0.0,0.0,2.23606797749979,2.23606797749979,2.23606797749979],[1.0,1.0,1.0,0.0,0.0,0.0,0.0,0.0,0.0,1.0,1.0,1.0,1.0,1.0,1.0,0.0,0.0,0.0,2.23606797749979,2.23606797749979,2.23606797749979],[0.0,0.0,0.0,1.0,1.0,1.0,1.0,1.0,1.0,0.0,0.0,0.0,0.0,0.0,0.0,1.0,1.0,1.0,2.449489742783178,2.449489742783178,2.449489742783178],[0.0,0.0,0.0,1.0,1.0,1.0,1.0,1.0,1.0,0.0,0.0,0.0,0.0,0.0,0.0,1.0,1.0,1.0,2.449489742783178,2.449489742783178,2.449489742783178],[0.0,0.0,0.0,1.0,1.0,1.0,1.0,1.0,1.0,0.0,0.0,0.0,0.0,0.0,0.0,1.0,1.0,1.0,2.449489742783178,2.449489742783178,2.449489742783178],[0.0,0.0,0.0,1.0,1.0,1.0,1.0,1.0,1.0,0.0,0.0,0.0,0.0,0.0,0.0,1.0,1.0,1.0,2.449489742783178,2.449489742783178,2.449489742783178],[0.0,0.0,0.0,1.0,1.0,1.0,1.0,1.0,1.0,0.0,0.0,0.0,0.0,0.0,0.0,1.0,1.0,1.0,2.449489742783178,2.449489742783178,2.449489742783178],[0.0,0.0,0.0,1.0,1.0,1.0,1.0,1.0,1.0,0.0,0.0,0.0,0.0,0.0,0.0,1.0,1.0,1.0,2.449489742783178,2.449489742783178,2.449489742783178],[1.0,1.0,1.0,0.0,0.0,0.0,0.0,0.0,0.0,1.0,1.0,1.0,1.0,1.0,1.0,0.0,0.0,0.0,2.23606797749979,2.23606797749979,2.23606797749979],[1.0,1.0,1.0,0.0,0.0,0.0,0.0,0.0,0.0,1.0,1.0,1.0,1.0,1.0,1.0,0.0,0.0,0.0,2.23606797749979,2.23606797749979,2.23606797749979],[1.0,1.0,1.0,0.0,0.0,0.0,0.0,0.0,0.0,1.0,1.0,1.0,1.0,1.0,1.0,0.0,0.0,0.0,2.23606797749979,2.23606797749979,2.23606797749979],[2.449489742783178,2.449489742783178,2.449489742783178,2.23606797749979,2.23606797749979,2.23606797749979,2.23606797749979,2.23606797749979,2.23606797749979,2.449489742783178,2.449489742783178,2.449489742783178,2.449489742783178,2.449489742783178,2.449489742783178,2.23606797749979,2.23606797749979,2.23606797749979,0.0,0.0,0.0],[2.449489742783178,2.449489742783178,2.449489742783178,2.23606797749979,2.23606797749979,2.23606797749979,2.23606797749979,2.23606797749979,2.23606797749979,2.449489742783178,2.449489742783178,2.449489742783178,2.449489742783178,2.449489742783178,2.449489742783178,2.23606797749979,2.23606797749979,2.23606797749979,0.0,0.0,0.0],[2.449489742783178,2.449489742783178,2.449489742783178,2.23606797749979,2.23606797749979,2.23606797749979,2.23606797749979,2.23606797749979,2.23606797749979,2.449489742783178,2.449489742783178,2.449489742783178,2.449489742783178,2.449489742783178,2.449489742783178,2.23606797749979,2.23606797749979,2.23606797749979,0.0,0.0,0.0]],\"type\":\"heatmap\",\"xaxis\":\"x\",\"yaxis\":\"y\",\"hovertemplate\":\"x: %{x}\\u003cbr\\u003ey: %{y}\\u003cbr\\u003eDissimilarity: %{z}\\u003cextra\\u003e\\u003c\\u002fextra\\u003e\"}],                        {\"template\":{\"data\":{\"histogram2dcontour\":[{\"type\":\"histogram2dcontour\",\"colorbar\":{\"outlinewidth\":0,\"ticks\":\"\"},\"colorscale\":[[0.0,\"#0d0887\"],[0.1111111111111111,\"#46039f\"],[0.2222222222222222,\"#7201a8\"],[0.3333333333333333,\"#9c179e\"],[0.4444444444444444,\"#bd3786\"],[0.5555555555555556,\"#d8576b\"],[0.6666666666666666,\"#ed7953\"],[0.7777777777777778,\"#fb9f3a\"],[0.8888888888888888,\"#fdca26\"],[1.0,\"#f0f921\"]]}],\"choropleth\":[{\"type\":\"choropleth\",\"colorbar\":{\"outlinewidth\":0,\"ticks\":\"\"}}],\"histogram2d\":[{\"type\":\"histogram2d\",\"colorbar\":{\"outlinewidth\":0,\"ticks\":\"\"},\"colorscale\":[[0.0,\"#0d0887\"],[0.1111111111111111,\"#46039f\"],[0.2222222222222222,\"#7201a8\"],[0.3333333333333333,\"#9c179e\"],[0.4444444444444444,\"#bd3786\"],[0.5555555555555556,\"#d8576b\"],[0.6666666666666666,\"#ed7953\"],[0.7777777777777778,\"#fb9f3a\"],[0.8888888888888888,\"#fdca26\"],[1.0,\"#f0f921\"]]}],\"heatmap\":[{\"type\":\"heatmap\",\"colorbar\":{\"outlinewidth\":0,\"ticks\":\"\"},\"colorscale\":[[0.0,\"#0d0887\"],[0.1111111111111111,\"#46039f\"],[0.2222222222222222,\"#7201a8\"],[0.3333333333333333,\"#9c179e\"],[0.4444444444444444,\"#bd3786\"],[0.5555555555555556,\"#d8576b\"],[0.6666666666666666,\"#ed7953\"],[0.7777777777777778,\"#fb9f3a\"],[0.8888888888888888,\"#fdca26\"],[1.0,\"#f0f921\"]]}],\"heatmapgl\":[{\"type\":\"heatmapgl\",\"colorbar\":{\"outlinewidth\":0,\"ticks\":\"\"},\"colorscale\":[[0.0,\"#0d0887\"],[0.1111111111111111,\"#46039f\"],[0.2222222222222222,\"#7201a8\"],[0.3333333333333333,\"#9c179e\"],[0.4444444444444444,\"#bd3786\"],[0.5555555555555556,\"#d8576b\"],[0.6666666666666666,\"#ed7953\"],[0.7777777777777778,\"#fb9f3a\"],[0.8888888888888888,\"#fdca26\"],[1.0,\"#f0f921\"]]}],\"contourcarpet\":[{\"type\":\"contourcarpet\",\"colorbar\":{\"outlinewidth\":0,\"ticks\":\"\"}}],\"contour\":[{\"type\":\"contour\",\"colorbar\":{\"outlinewidth\":0,\"ticks\":\"\"},\"colorscale\":[[0.0,\"#0d0887\"],[0.1111111111111111,\"#46039f\"],[0.2222222222222222,\"#7201a8\"],[0.3333333333333333,\"#9c179e\"],[0.4444444444444444,\"#bd3786\"],[0.5555555555555556,\"#d8576b\"],[0.6666666666666666,\"#ed7953\"],[0.7777777777777778,\"#fb9f3a\"],[0.8888888888888888,\"#fdca26\"],[1.0,\"#f0f921\"]]}],\"surface\":[{\"type\":\"surface\",\"colorbar\":{\"outlinewidth\":0,\"ticks\":\"\"},\"colorscale\":[[0.0,\"#0d0887\"],[0.1111111111111111,\"#46039f\"],[0.2222222222222222,\"#7201a8\"],[0.3333333333333333,\"#9c179e\"],[0.4444444444444444,\"#bd3786\"],[0.5555555555555556,\"#d8576b\"],[0.6666666666666666,\"#ed7953\"],[0.7777777777777778,\"#fb9f3a\"],[0.8888888888888888,\"#fdca26\"],[1.0,\"#f0f921\"]]}],\"mesh3d\":[{\"type\":\"mesh3d\",\"colorbar\":{\"outlinewidth\":0,\"ticks\":\"\"}}],\"scatter\":[{\"fillpattern\":{\"fillmode\":\"overlay\",\"size\":10,\"solidity\":0.2},\"type\":\"scatter\"}],\"parcoords\":[{\"type\":\"parcoords\",\"line\":{\"colorbar\":{\"outlinewidth\":0,\"ticks\":\"\"}}}],\"scatterpolargl\":[{\"type\":\"scatterpolargl\",\"marker\":{\"colorbar\":{\"outlinewidth\":0,\"ticks\":\"\"}}}],\"bar\":[{\"error_x\":{\"color\":\"#2a3f5f\"},\"error_y\":{\"color\":\"#2a3f5f\"},\"marker\":{\"line\":{\"color\":\"#E5ECF6\",\"width\":0.5},\"pattern\":{\"fillmode\":\"overlay\",\"size\":10,\"solidity\":0.2}},\"type\":\"bar\"}],\"scattergeo\":[{\"type\":\"scattergeo\",\"marker\":{\"colorbar\":{\"outlinewidth\":0,\"ticks\":\"\"}}}],\"scatterpolar\":[{\"type\":\"scatterpolar\",\"marker\":{\"colorbar\":{\"outlinewidth\":0,\"ticks\":\"\"}}}],\"histogram\":[{\"marker\":{\"pattern\":{\"fillmode\":\"overlay\",\"size\":10,\"solidity\":0.2}},\"type\":\"histogram\"}],\"scattergl\":[{\"type\":\"scattergl\",\"marker\":{\"colorbar\":{\"outlinewidth\":0,\"ticks\":\"\"}}}],\"scatter3d\":[{\"type\":\"scatter3d\",\"line\":{\"colorbar\":{\"outlinewidth\":0,\"ticks\":\"\"}},\"marker\":{\"colorbar\":{\"outlinewidth\":0,\"ticks\":\"\"}}}],\"scattermapbox\":[{\"type\":\"scattermapbox\",\"marker\":{\"colorbar\":{\"outlinewidth\":0,\"ticks\":\"\"}}}],\"scatterternary\":[{\"type\":\"scatterternary\",\"marker\":{\"colorbar\":{\"outlinewidth\":0,\"ticks\":\"\"}}}],\"scattercarpet\":[{\"type\":\"scattercarpet\",\"marker\":{\"colorbar\":{\"outlinewidth\":0,\"ticks\":\"\"}}}],\"carpet\":[{\"aaxis\":{\"endlinecolor\":\"#2a3f5f\",\"gridcolor\":\"white\",\"linecolor\":\"white\",\"minorgridcolor\":\"white\",\"startlinecolor\":\"#2a3f5f\"},\"baxis\":{\"endlinecolor\":\"#2a3f5f\",\"gridcolor\":\"white\",\"linecolor\":\"white\",\"minorgridcolor\":\"white\",\"startlinecolor\":\"#2a3f5f\"},\"type\":\"carpet\"}],\"table\":[{\"cells\":{\"fill\":{\"color\":\"#EBF0F8\"},\"line\":{\"color\":\"white\"}},\"header\":{\"fill\":{\"color\":\"#C8D4E3\"},\"line\":{\"color\":\"white\"}},\"type\":\"table\"}],\"barpolar\":[{\"marker\":{\"line\":{\"color\":\"#E5ECF6\",\"width\":0.5},\"pattern\":{\"fillmode\":\"overlay\",\"size\":10,\"solidity\":0.2}},\"type\":\"barpolar\"}],\"pie\":[{\"automargin\":true,\"type\":\"pie\"}]},\"layout\":{\"autotypenumbers\":\"strict\",\"colorway\":[\"#636efa\",\"#EF553B\",\"#00cc96\",\"#ab63fa\",\"#FFA15A\",\"#19d3f3\",\"#FF6692\",\"#B6E880\",\"#FF97FF\",\"#FECB52\"],\"font\":{\"color\":\"#2a3f5f\"},\"hovermode\":\"closest\",\"hoverlabel\":{\"align\":\"left\"},\"paper_bgcolor\":\"white\",\"plot_bgcolor\":\"#E5ECF6\",\"polar\":{\"bgcolor\":\"#E5ECF6\",\"angularaxis\":{\"gridcolor\":\"white\",\"linecolor\":\"white\",\"ticks\":\"\"},\"radialaxis\":{\"gridcolor\":\"white\",\"linecolor\":\"white\",\"ticks\":\"\"}},\"ternary\":{\"bgcolor\":\"#E5ECF6\",\"aaxis\":{\"gridcolor\":\"white\",\"linecolor\":\"white\",\"ticks\":\"\"},\"baxis\":{\"gridcolor\":\"white\",\"linecolor\":\"white\",\"ticks\":\"\"},\"caxis\":{\"gridcolor\":\"white\",\"linecolor\":\"white\",\"ticks\":\"\"}},\"coloraxis\":{\"colorbar\":{\"outlinewidth\":0,\"ticks\":\"\"}},\"colorscale\":{\"sequential\":[[0.0,\"#0d0887\"],[0.1111111111111111,\"#46039f\"],[0.2222222222222222,\"#7201a8\"],[0.3333333333333333,\"#9c179e\"],[0.4444444444444444,\"#bd3786\"],[0.5555555555555556,\"#d8576b\"],[0.6666666666666666,\"#ed7953\"],[0.7777777777777778,\"#fb9f3a\"],[0.8888888888888888,\"#fdca26\"],[1.0,\"#f0f921\"]],\"sequentialminus\":[[0.0,\"#0d0887\"],[0.1111111111111111,\"#46039f\"],[0.2222222222222222,\"#7201a8\"],[0.3333333333333333,\"#9c179e\"],[0.4444444444444444,\"#bd3786\"],[0.5555555555555556,\"#d8576b\"],[0.6666666666666666,\"#ed7953\"],[0.7777777777777778,\"#fb9f3a\"],[0.8888888888888888,\"#fdca26\"],[1.0,\"#f0f921\"]],\"diverging\":[[0,\"#8e0152\"],[0.1,\"#c51b7d\"],[0.2,\"#de77ae\"],[0.3,\"#f1b6da\"],[0.4,\"#fde0ef\"],[0.5,\"#f7f7f7\"],[0.6,\"#e6f5d0\"],[0.7,\"#b8e186\"],[0.8,\"#7fbc41\"],[0.9,\"#4d9221\"],[1,\"#276419\"]]},\"xaxis\":{\"gridcolor\":\"white\",\"linecolor\":\"white\",\"ticks\":\"\",\"title\":{\"standoff\":15},\"zerolinecolor\":\"white\",\"automargin\":true,\"zerolinewidth\":2},\"yaxis\":{\"gridcolor\":\"white\",\"linecolor\":\"white\",\"ticks\":\"\",\"title\":{\"standoff\":15},\"zerolinecolor\":\"white\",\"automargin\":true,\"zerolinewidth\":2},\"scene\":{\"xaxis\":{\"backgroundcolor\":\"#E5ECF6\",\"gridcolor\":\"white\",\"linecolor\":\"white\",\"showbackground\":true,\"ticks\":\"\",\"zerolinecolor\":\"white\",\"gridwidth\":2},\"yaxis\":{\"backgroundcolor\":\"#E5ECF6\",\"gridcolor\":\"white\",\"linecolor\":\"white\",\"showbackground\":true,\"ticks\":\"\",\"zerolinecolor\":\"white\",\"gridwidth\":2},\"zaxis\":{\"backgroundcolor\":\"#E5ECF6\",\"gridcolor\":\"white\",\"linecolor\":\"white\",\"showbackground\":true,\"ticks\":\"\",\"zerolinecolor\":\"white\",\"gridwidth\":2}},\"shapedefaults\":{\"line\":{\"color\":\"#2a3f5f\"}},\"annotationdefaults\":{\"arrowcolor\":\"#2a3f5f\",\"arrowhead\":0,\"arrowwidth\":1},\"geo\":{\"bgcolor\":\"white\",\"landcolor\":\"#E5ECF6\",\"subunitcolor\":\"white\",\"showland\":true,\"showlakes\":true,\"lakecolor\":\"white\"},\"title\":{\"x\":0.05},\"mapbox\":{\"style\":\"light\"}}},\"xaxis\":{\"anchor\":\"y\",\"domain\":[0.0,1.0],\"scaleanchor\":\"y\",\"constrain\":\"domain\"},\"yaxis\":{\"anchor\":\"x\",\"domain\":[0.0,1.0],\"autorange\":\"reversed\",\"constrain\":\"domain\"},\"coloraxis\":{\"colorbar\":{\"title\":{\"text\":\"Dissimilarity\"},\"x\":1.1,\"len\":0.55},\"colorscale\":[[0.0,\"#0d0887\"],[0.1111111111111111,\"#46039f\"],[0.2222222222222222,\"#7201a8\"],[0.3333333333333333,\"#9c179e\"],[0.4444444444444444,\"#bd3786\"],[0.5555555555555556,\"#d8576b\"],[0.6666666666666666,\"#ed7953\"],[0.7777777777777778,\"#fb9f3a\"],[0.8888888888888888,\"#fdca26\"],[1.0,\"#f0f921\"]]},\"margin\":{\"t\":100,\"l\":50,\"r\":50,\"b\":100,\"pad\":4},\"autosize\":false,\"width\":800,\"height\":800},                        {\"responsive\": true}                    ).then(function(){\n",
              "                            \n",
              "var gd = document.getElementById('85b5f3f8-1d87-434d-b580-7209b5f355fb');\n",
              "var x = new MutationObserver(function (mutations, observer) {{\n",
              "        var display = window.getComputedStyle(gd).display;\n",
              "        if (!display || display === 'none') {{\n",
              "            console.log([gd, 'removed!']);\n",
              "            Plotly.purge(gd);\n",
              "            observer.disconnect();\n",
              "        }}\n",
              "}});\n",
              "\n",
              "// Listen for the removal of the full notebook cells\n",
              "var notebookContainer = gd.closest('#notebook-container');\n",
              "if (notebookContainer) {{\n",
              "    x.observe(notebookContainer, {childList: true});\n",
              "}}\n",
              "\n",
              "// Listen for the clearing of the current output cell\n",
              "var outputEl = gd.closest('.output');\n",
              "if (outputEl) {{\n",
              "    x.observe(outputEl, {childList: true});\n",
              "}}\n",
              "\n",
              "                        })                };                            </script>        </div>\n",
              "</body>\n",
              "</html>"
            ]
          },
          "metadata": {},
          "output_type": "display_data"
        },
        {
          "name": "stdout",
          "output_type": "stream",
          "text": [
            "[[0, 4, 7, 0, 0, 1, 1, 1, 0], [0, 4, 7, 0, 0, 1, 1, 1, 0], [0, 4, 7, 0, 0, 1, 1, 1, 0], [0, 3, 7, 0, 0, 1, 1, 1, 0], [0, 3, 7, 0, 0, 1, 1, 1, 0], [0, 3, 7, 0, 0, 1, 1, 1, 0], [0, 3, 7, 0, 0, 1, 1, 1, 0], [0, 3, 7, 0, 0, 1, 1, 1, 0], [0, 3, 7, 0, 0, 1, 1, 1, 0], [0, 4, 7, 0, 0, 1, 1, 1, 0], [0, 4, 7, 0, 0, 1, 1, 1, 0], [0, 4, 7, 0, 0, 1, 1, 1, 0], [0, 4, 7, 0, 0, 1, 1, 1, 0], [0, 4, 7, 0, 0, 1, 1, 1, 0], [0, 4, 7, 0, 0, 1, 1, 1, 0], [0, 3, 7, 0, 0, 1, 1, 1, 0], [0, 3, 7, 0, 0, 1, 1, 1, 0], [0, 3, 7, 0, 0, 1, 1, 1, 0], [0, 3, 6, 0, 0, 2, 0, 0, 1], [0, 3, 6, 0, 0, 2, 0, 0, 1], [0, 3, 6, 0, 0, 2, 0, 0, 1]]\n"
          ]
        }
      ],
      "source": [
        "vector_encoding = [\n",
        "    results_structure[chord_id]['feature_vector'] + results_intervals_theory[chord_id]['feature_vector']\n",
        "    for chord_id in results_intervals_theory.keys()\n",
        "]\n",
        "\n",
        "\n",
        "# Realiza MDS en los datos\n",
        "vector_encoding_mds,matrix = perform_mds(vector_encoding)\n",
        "cg.plot_chords_with_selection(vector_encoding_mds,matrix, chord_ids, datos,True )\n",
        "\n",
        "print(vector_encoding)"
      ]
    },
    {
      "cell_type": "markdown",
      "metadata": {
        "id": "iu4wMS98r0iA"
      },
      "source": [
        "# Sólo vector clasico"
      ]
    },
    {
      "cell_type": "code",
      "execution_count": null,
      "metadata": {
        "colab": {
          "base_uri": "https://localhost:8080/",
          "height": 1000,
          "referenced_widgets": [
            "cde47f21657940c1ac3e312ba408811c",
            "0421d3d8eedf405fab297cd18922e7aa",
            "539fc9baf35a443e9e674878f58b03e8",
            "2e730129fbcc4559a604903a7236d50e"
          ]
        },
        "id": "d01tRV2J59co",
        "outputId": "0231246d-1f55-4de1-90ec-6d3b9daa6213"
      },
      "outputs": [
        {
          "name": "stdout",
          "output_type": "stream",
          "text": [
            "142 2.664535259100379e-15\n",
            "['C', 'C/E', 'C/G', 'Dm', 'Dm/F', 'Dm/A', 'Em', 'Em/G', 'Em/B', 'F', 'F/A', 'F/C', 'G', 'G/B', 'G/D', 'Am', 'Am/C', 'Am/E', 'B°', 'B°/D', 'B°/F']\n"
          ]
        },
        {
          "name": "stderr",
          "output_type": "stream",
          "text": [
            "/usr/local/lib/python3.10/dist-packages/sklearn/manifold/_mds.py:299: FutureWarning:\n",
            "\n",
            "The default value of `normalized_stress` will change to `'auto'` in version 1.4. To suppress this warning, manually set the value of `normalized_stress`.\n",
            "\n"
          ]
        },
        {
          "data": {
            "application/vnd.jupyter.widget-view+json": {
              "model_id": "cde47f21657940c1ac3e312ba408811c",
              "version_major": 2,
              "version_minor": 0
            },
            "text/plain": [
              "Dropdown(description='Chord ID:', options=(('Chord ID: chord_0, C', 'chord_0'), ('Chord ID: chord_1, C/E', 'ch…"
            ]
          },
          "metadata": {
            "application/vnd.jupyter.widget-view+json": {
              "colab": {
                "custom_widget_manager": {
                  "url": "https://ssl.gstatic.com/colaboratory-static/widgets/colab-cdn-widget-manager/2b70e893a8ba7c0f/manager.min.js"
                }
              }
            }
          },
          "output_type": "display_data"
        },
        {
          "data": {
            "application/vnd.jupyter.widget-view+json": {
              "model_id": "2e730129fbcc4559a604903a7236d50e",
              "version_major": 2,
              "version_minor": 0
            },
            "text/plain": [
              "FigureWidget({\n",
              "    'data': [{'hoverinfo': 'text',\n",
              "              'hovertext': [Root: C<br>Bass: C<br>Octave: 5<br>Degree:\n",
              "                            1<br>Intervals: [4, 3], Root: C<br>Bass: E<br>Octave:\n",
              "                            5<br>Degree: 1<br>Intervals: [4, 3], Root: C<br>Bass:\n",
              "                            G<br>Octave: 5<br>Degree: 1<br>Intervals: [4, 3], Root:\n",
              "                            D<br>Bass: D<br>Octave: 5<br>Degree: 2<br>Intervals:\n",
              "                            [3, 4], Root: D<br>Bass: F<br>Octave: 5<br>Degree:\n",
              "                            2<br>Intervals: [3, 4], Root: D<br>Bass: A<br>Octave:\n",
              "                            5<br>Degree: 2<br>Intervals: [3, 4], Root: E<br>Bass:\n",
              "                            E<br>Octave: 5<br>Degree: 3<br>Intervals: [3, 4], Root:\n",
              "                            E<br>Bass: G<br>Octave: 5<br>Degree: 3<br>Intervals:\n",
              "                            [3, 4], Root: E<br>Bass: B<br>Octave: 5<br>Degree:\n",
              "                            3<br>Intervals: [3, 4], Root: F<br>Bass: F<br>Octave:\n",
              "                            5<br>Degree: 4<br>Intervals: [4, 3], Root: F<br>Bass:\n",
              "                            A<br>Octave: 5<br>Degree: 4<br>Intervals: [4, 3], Root:\n",
              "                            F<br>Bass: C<br>Octave: 5<br>Degree: 4<br>Intervals:\n",
              "                            [4, 3], Root: G<br>Bass: G<br>Octave: 5<br>Degree:\n",
              "                            5<br>Intervals: [4, 3], Root: G<br>Bass: B<br>Octave:\n",
              "                            5<br>Degree: 5<br>Intervals: [4, 3], Root: G<br>Bass:\n",
              "                            D<br>Octave: 5<br>Degree: 5<br>Intervals: [4, 3], Root:\n",
              "                            A<br>Bass: A<br>Octave: 5<br>Degree: 6<br>Intervals:\n",
              "                            [3, 4], Root: A<br>Bass: C<br>Octave: 5<br>Degree:\n",
              "                            6<br>Intervals: [3, 4], Root: A<br>Bass: E<br>Octave:\n",
              "                            5<br>Degree: 6<br>Intervals: [3, 4], Root: B<br>Bass:\n",
              "                            B<br>Octave: 5<br>Degree: 7<br>Intervals: [3, 3], Root:\n",
              "                            B<br>Bass: D<br>Octave: 5<br>Degree: 7<br>Intervals:\n",
              "                            [3, 3], Root: B<br>Bass: F<br>Octave: 5<br>Degree:\n",
              "                            7<br>Intervals: [3, 3]],\n",
              "              'marker': {'color': [red, red, red, blue, blue, blue, blue, blue,\n",
              "                                   blue, red, red, red, red, red, red, blue, blue,\n",
              "                                   blue, green, green, green],\n",
              "                         'size': 13,\n",
              "                         'symbol': [star-square, star-square, star-square, star-\n",
              "                                    triangle-down, star-triangle-down, star-\n",
              "                                    triangle-down, star-triangle-down, star-\n",
              "                                    triangle-down, star-triangle-down, star-square,\n",
              "                                    star-square, star-square, star-square, star-\n",
              "                                    square, star-square, star-triangle-down, star-\n",
              "                                    triangle-down, star-triangle-down, circle,\n",
              "                                    circle, circle]},\n",
              "              'mode': 'markers+text',\n",
              "              'text': [C, C/E, C/G, Dm, Dm/F, Dm/A, Em, Em/G, Em/B, F, F/A, F/C,\n",
              "                       G, G/B, G/D, Am, Am/C, Am/E, B°, B°/D, B°/F],\n",
              "              'textposition': 'top center',\n",
              "              'type': 'scatter',\n",
              "              'uid': '40174cf0-5dca-4912-83b1-741656297a2e',\n",
              "              'x': array([-0.03923783, -0.03923783, -0.03923783, -0.03923783, -0.03923783,\n",
              "                          -0.03923783, -0.03923783, -0.03923783, -0.03923783, -0.03923783,\n",
              "                          -0.03923783, -0.03923783, -0.03923783, -0.03923783, -0.03923783,\n",
              "                          -0.03923783, -0.03923783, -0.03923783,  0.23542699,  0.23542698,\n",
              "                           0.23542695]),\n",
              "              'y': array([ 0.28300715,  0.28300715,  0.28300715,  0.28300715,  0.28300715,\n",
              "                           0.28300715,  0.28300715,  0.28300715,  0.28300715,  0.28300715,\n",
              "                           0.28300715,  0.28300715,  0.28300715,  0.28300715,  0.28300715,\n",
              "                           0.28300715,  0.28300715,  0.28300715, -1.69804289, -1.69804289,\n",
              "                          -1.69804289])}],\n",
              "    'layout': {'autosize': False,\n",
              "               'height': 800,\n",
              "               'showlegend': False,\n",
              "               'template': '...',\n",
              "               'title': {'text': 'Chord Representation (2D)'},\n",
              "               'width': 800,\n",
              "               'xaxis': {'autorange': False, 'range': [-1.0392378289988022, 1.235426985330757], 'title': {'text': ''}},\n",
              "               'yaxis': {'autorange': False,\n",
              "                         'range': [-2.6980428909751675, 1.2830071480310794],\n",
              "                         'scaleanchor': 'x',\n",
              "                         'scaleratio': 1,\n",
              "                         'title': {'text': ''}}}\n",
              "})"
            ]
          },
          "metadata": {
            "application/vnd.jupyter.widget-view+json": {
              "colab": {
                "custom_widget_manager": {
                  "url": "https://ssl.gstatic.com/colaboratory-static/widgets/colab-cdn-widget-manager/2b70e893a8ba7c0f/manager.min.js"
                }
              }
            }
          },
          "output_type": "display_data"
        },
        {
          "data": {
            "text/html": [
              "<html>\n",
              "<head><meta charset=\"utf-8\" /></head>\n",
              "<body>\n",
              "    <div>            <script src=\"https://cdnjs.cloudflare.com/ajax/libs/mathjax/2.7.5/MathJax.js?config=TeX-AMS-MML_SVG\"></script><script type=\"text/javascript\">if (window.MathJax && window.MathJax.Hub && window.MathJax.Hub.Config) {window.MathJax.Hub.Config({SVG: {font: \"STIX-Web\"}});}</script>                <script type=\"text/javascript\">window.PlotlyConfig = {MathJaxConfig: 'local'};</script>\n",
              "        <script charset=\"utf-8\" src=\"https://cdn.plot.ly/plotly-2.24.1.min.js\"></script>                <div id=\"972c14c5-f127-49d0-abff-0fbcce35eed1\" class=\"plotly-graph-div\" style=\"height:800px; width:800px;\"></div>            <script type=\"text/javascript\">                                    window.PLOTLYENV=window.PLOTLYENV || {};                                    if (document.getElementById(\"972c14c5-f127-49d0-abff-0fbcce35eed1\")) {                    Plotly.newPlot(                        \"972c14c5-f127-49d0-abff-0fbcce35eed1\",                        [{\"coloraxis\":\"coloraxis\",\"name\":\"0\",\"x\":[\"C\",\"C\\u002fE\",\"C\\u002fG\",\"Dm\",\"Dm\\u002fF\",\"Dm\\u002fA\",\"Em\",\"Em\\u002fG\",\"Em\\u002fB\",\"F\",\"F\\u002fA\",\"F\\u002fC\",\"G\",\"G\\u002fB\",\"G\\u002fD\",\"Am\",\"Am\\u002fC\",\"Am\\u002fE\",\"B\\u00b0\",\"B\\u00b0\\u002fD\",\"B\\u00b0\\u002fF\"],\"y\":[\"C\",\"C\\u002fE\",\"C\\u002fG\",\"Dm\",\"Dm\\u002fF\",\"Dm\\u002fA\",\"Em\",\"Em\\u002fG\",\"Em\\u002fB\",\"F\",\"F\\u002fA\",\"F\\u002fC\",\"G\",\"G\\u002fB\",\"G\\u002fD\",\"Am\",\"Am\\u002fC\",\"Am\\u002fE\",\"B\\u00b0\",\"B\\u00b0\\u002fD\",\"B\\u00b0\\u002fF\"],\"z\":[[0.0,0.0,0.0,0.0,0.0,0.0,0.0,0.0,0.0,0.0,0.0,0.0,0.0,0.0,0.0,0.0,0.0,0.0,2.0,2.0,2.0],[0.0,0.0,0.0,0.0,0.0,0.0,0.0,0.0,0.0,0.0,0.0,0.0,0.0,0.0,0.0,0.0,0.0,0.0,2.0,2.0,2.0],[0.0,0.0,0.0,0.0,0.0,0.0,0.0,0.0,0.0,0.0,0.0,0.0,0.0,0.0,0.0,0.0,0.0,0.0,2.0,2.0,2.0],[0.0,0.0,0.0,0.0,0.0,0.0,0.0,0.0,0.0,0.0,0.0,0.0,0.0,0.0,0.0,0.0,0.0,0.0,2.0,2.0,2.0],[0.0,0.0,0.0,0.0,0.0,0.0,0.0,0.0,0.0,0.0,0.0,0.0,0.0,0.0,0.0,0.0,0.0,0.0,2.0,2.0,2.0],[0.0,0.0,0.0,0.0,0.0,0.0,0.0,0.0,0.0,0.0,0.0,0.0,0.0,0.0,0.0,0.0,0.0,0.0,2.0,2.0,2.0],[0.0,0.0,0.0,0.0,0.0,0.0,0.0,0.0,0.0,0.0,0.0,0.0,0.0,0.0,0.0,0.0,0.0,0.0,2.0,2.0,2.0],[0.0,0.0,0.0,0.0,0.0,0.0,0.0,0.0,0.0,0.0,0.0,0.0,0.0,0.0,0.0,0.0,0.0,0.0,2.0,2.0,2.0],[0.0,0.0,0.0,0.0,0.0,0.0,0.0,0.0,0.0,0.0,0.0,0.0,0.0,0.0,0.0,0.0,0.0,0.0,2.0,2.0,2.0],[0.0,0.0,0.0,0.0,0.0,0.0,0.0,0.0,0.0,0.0,0.0,0.0,0.0,0.0,0.0,0.0,0.0,0.0,2.0,2.0,2.0],[0.0,0.0,0.0,0.0,0.0,0.0,0.0,0.0,0.0,0.0,0.0,0.0,0.0,0.0,0.0,0.0,0.0,0.0,2.0,2.0,2.0],[0.0,0.0,0.0,0.0,0.0,0.0,0.0,0.0,0.0,0.0,0.0,0.0,0.0,0.0,0.0,0.0,0.0,0.0,2.0,2.0,2.0],[0.0,0.0,0.0,0.0,0.0,0.0,0.0,0.0,0.0,0.0,0.0,0.0,0.0,0.0,0.0,0.0,0.0,0.0,2.0,2.0,2.0],[0.0,0.0,0.0,0.0,0.0,0.0,0.0,0.0,0.0,0.0,0.0,0.0,0.0,0.0,0.0,0.0,0.0,0.0,2.0,2.0,2.0],[0.0,0.0,0.0,0.0,0.0,0.0,0.0,0.0,0.0,0.0,0.0,0.0,0.0,0.0,0.0,0.0,0.0,0.0,2.0,2.0,2.0],[0.0,0.0,0.0,0.0,0.0,0.0,0.0,0.0,0.0,0.0,0.0,0.0,0.0,0.0,0.0,0.0,0.0,0.0,2.0,2.0,2.0],[0.0,0.0,0.0,0.0,0.0,0.0,0.0,0.0,0.0,0.0,0.0,0.0,0.0,0.0,0.0,0.0,0.0,0.0,2.0,2.0,2.0],[0.0,0.0,0.0,0.0,0.0,0.0,0.0,0.0,0.0,0.0,0.0,0.0,0.0,0.0,0.0,0.0,0.0,0.0,2.0,2.0,2.0],[2.0,2.0,2.0,2.0,2.0,2.0,2.0,2.0,2.0,2.0,2.0,2.0,2.0,2.0,2.0,2.0,2.0,2.0,0.0,0.0,0.0],[2.0,2.0,2.0,2.0,2.0,2.0,2.0,2.0,2.0,2.0,2.0,2.0,2.0,2.0,2.0,2.0,2.0,2.0,0.0,0.0,0.0],[2.0,2.0,2.0,2.0,2.0,2.0,2.0,2.0,2.0,2.0,2.0,2.0,2.0,2.0,2.0,2.0,2.0,2.0,0.0,0.0,0.0]],\"type\":\"heatmap\",\"xaxis\":\"x\",\"yaxis\":\"y\",\"hovertemplate\":\"x: %{x}\\u003cbr\\u003ey: %{y}\\u003cbr\\u003eDissimilarity: %{z}\\u003cextra\\u003e\\u003c\\u002fextra\\u003e\"}],                        {\"template\":{\"data\":{\"histogram2dcontour\":[{\"type\":\"histogram2dcontour\",\"colorbar\":{\"outlinewidth\":0,\"ticks\":\"\"},\"colorscale\":[[0.0,\"#0d0887\"],[0.1111111111111111,\"#46039f\"],[0.2222222222222222,\"#7201a8\"],[0.3333333333333333,\"#9c179e\"],[0.4444444444444444,\"#bd3786\"],[0.5555555555555556,\"#d8576b\"],[0.6666666666666666,\"#ed7953\"],[0.7777777777777778,\"#fb9f3a\"],[0.8888888888888888,\"#fdca26\"],[1.0,\"#f0f921\"]]}],\"choropleth\":[{\"type\":\"choropleth\",\"colorbar\":{\"outlinewidth\":0,\"ticks\":\"\"}}],\"histogram2d\":[{\"type\":\"histogram2d\",\"colorbar\":{\"outlinewidth\":0,\"ticks\":\"\"},\"colorscale\":[[0.0,\"#0d0887\"],[0.1111111111111111,\"#46039f\"],[0.2222222222222222,\"#7201a8\"],[0.3333333333333333,\"#9c179e\"],[0.4444444444444444,\"#bd3786\"],[0.5555555555555556,\"#d8576b\"],[0.6666666666666666,\"#ed7953\"],[0.7777777777777778,\"#fb9f3a\"],[0.8888888888888888,\"#fdca26\"],[1.0,\"#f0f921\"]]}],\"heatmap\":[{\"type\":\"heatmap\",\"colorbar\":{\"outlinewidth\":0,\"ticks\":\"\"},\"colorscale\":[[0.0,\"#0d0887\"],[0.1111111111111111,\"#46039f\"],[0.2222222222222222,\"#7201a8\"],[0.3333333333333333,\"#9c179e\"],[0.4444444444444444,\"#bd3786\"],[0.5555555555555556,\"#d8576b\"],[0.6666666666666666,\"#ed7953\"],[0.7777777777777778,\"#fb9f3a\"],[0.8888888888888888,\"#fdca26\"],[1.0,\"#f0f921\"]]}],\"heatmapgl\":[{\"type\":\"heatmapgl\",\"colorbar\":{\"outlinewidth\":0,\"ticks\":\"\"},\"colorscale\":[[0.0,\"#0d0887\"],[0.1111111111111111,\"#46039f\"],[0.2222222222222222,\"#7201a8\"],[0.3333333333333333,\"#9c179e\"],[0.4444444444444444,\"#bd3786\"],[0.5555555555555556,\"#d8576b\"],[0.6666666666666666,\"#ed7953\"],[0.7777777777777778,\"#fb9f3a\"],[0.8888888888888888,\"#fdca26\"],[1.0,\"#f0f921\"]]}],\"contourcarpet\":[{\"type\":\"contourcarpet\",\"colorbar\":{\"outlinewidth\":0,\"ticks\":\"\"}}],\"contour\":[{\"type\":\"contour\",\"colorbar\":{\"outlinewidth\":0,\"ticks\":\"\"},\"colorscale\":[[0.0,\"#0d0887\"],[0.1111111111111111,\"#46039f\"],[0.2222222222222222,\"#7201a8\"],[0.3333333333333333,\"#9c179e\"],[0.4444444444444444,\"#bd3786\"],[0.5555555555555556,\"#d8576b\"],[0.6666666666666666,\"#ed7953\"],[0.7777777777777778,\"#fb9f3a\"],[0.8888888888888888,\"#fdca26\"],[1.0,\"#f0f921\"]]}],\"surface\":[{\"type\":\"surface\",\"colorbar\":{\"outlinewidth\":0,\"ticks\":\"\"},\"colorscale\":[[0.0,\"#0d0887\"],[0.1111111111111111,\"#46039f\"],[0.2222222222222222,\"#7201a8\"],[0.3333333333333333,\"#9c179e\"],[0.4444444444444444,\"#bd3786\"],[0.5555555555555556,\"#d8576b\"],[0.6666666666666666,\"#ed7953\"],[0.7777777777777778,\"#fb9f3a\"],[0.8888888888888888,\"#fdca26\"],[1.0,\"#f0f921\"]]}],\"mesh3d\":[{\"type\":\"mesh3d\",\"colorbar\":{\"outlinewidth\":0,\"ticks\":\"\"}}],\"scatter\":[{\"fillpattern\":{\"fillmode\":\"overlay\",\"size\":10,\"solidity\":0.2},\"type\":\"scatter\"}],\"parcoords\":[{\"type\":\"parcoords\",\"line\":{\"colorbar\":{\"outlinewidth\":0,\"ticks\":\"\"}}}],\"scatterpolargl\":[{\"type\":\"scatterpolargl\",\"marker\":{\"colorbar\":{\"outlinewidth\":0,\"ticks\":\"\"}}}],\"bar\":[{\"error_x\":{\"color\":\"#2a3f5f\"},\"error_y\":{\"color\":\"#2a3f5f\"},\"marker\":{\"line\":{\"color\":\"#E5ECF6\",\"width\":0.5},\"pattern\":{\"fillmode\":\"overlay\",\"size\":10,\"solidity\":0.2}},\"type\":\"bar\"}],\"scattergeo\":[{\"type\":\"scattergeo\",\"marker\":{\"colorbar\":{\"outlinewidth\":0,\"ticks\":\"\"}}}],\"scatterpolar\":[{\"type\":\"scatterpolar\",\"marker\":{\"colorbar\":{\"outlinewidth\":0,\"ticks\":\"\"}}}],\"histogram\":[{\"marker\":{\"pattern\":{\"fillmode\":\"overlay\",\"size\":10,\"solidity\":0.2}},\"type\":\"histogram\"}],\"scattergl\":[{\"type\":\"scattergl\",\"marker\":{\"colorbar\":{\"outlinewidth\":0,\"ticks\":\"\"}}}],\"scatter3d\":[{\"type\":\"scatter3d\",\"line\":{\"colorbar\":{\"outlinewidth\":0,\"ticks\":\"\"}},\"marker\":{\"colorbar\":{\"outlinewidth\":0,\"ticks\":\"\"}}}],\"scattermapbox\":[{\"type\":\"scattermapbox\",\"marker\":{\"colorbar\":{\"outlinewidth\":0,\"ticks\":\"\"}}}],\"scatterternary\":[{\"type\":\"scatterternary\",\"marker\":{\"colorbar\":{\"outlinewidth\":0,\"ticks\":\"\"}}}],\"scattercarpet\":[{\"type\":\"scattercarpet\",\"marker\":{\"colorbar\":{\"outlinewidth\":0,\"ticks\":\"\"}}}],\"carpet\":[{\"aaxis\":{\"endlinecolor\":\"#2a3f5f\",\"gridcolor\":\"white\",\"linecolor\":\"white\",\"minorgridcolor\":\"white\",\"startlinecolor\":\"#2a3f5f\"},\"baxis\":{\"endlinecolor\":\"#2a3f5f\",\"gridcolor\":\"white\",\"linecolor\":\"white\",\"minorgridcolor\":\"white\",\"startlinecolor\":\"#2a3f5f\"},\"type\":\"carpet\"}],\"table\":[{\"cells\":{\"fill\":{\"color\":\"#EBF0F8\"},\"line\":{\"color\":\"white\"}},\"header\":{\"fill\":{\"color\":\"#C8D4E3\"},\"line\":{\"color\":\"white\"}},\"type\":\"table\"}],\"barpolar\":[{\"marker\":{\"line\":{\"color\":\"#E5ECF6\",\"width\":0.5},\"pattern\":{\"fillmode\":\"overlay\",\"size\":10,\"solidity\":0.2}},\"type\":\"barpolar\"}],\"pie\":[{\"automargin\":true,\"type\":\"pie\"}]},\"layout\":{\"autotypenumbers\":\"strict\",\"colorway\":[\"#636efa\",\"#EF553B\",\"#00cc96\",\"#ab63fa\",\"#FFA15A\",\"#19d3f3\",\"#FF6692\",\"#B6E880\",\"#FF97FF\",\"#FECB52\"],\"font\":{\"color\":\"#2a3f5f\"},\"hovermode\":\"closest\",\"hoverlabel\":{\"align\":\"left\"},\"paper_bgcolor\":\"white\",\"plot_bgcolor\":\"#E5ECF6\",\"polar\":{\"bgcolor\":\"#E5ECF6\",\"angularaxis\":{\"gridcolor\":\"white\",\"linecolor\":\"white\",\"ticks\":\"\"},\"radialaxis\":{\"gridcolor\":\"white\",\"linecolor\":\"white\",\"ticks\":\"\"}},\"ternary\":{\"bgcolor\":\"#E5ECF6\",\"aaxis\":{\"gridcolor\":\"white\",\"linecolor\":\"white\",\"ticks\":\"\"},\"baxis\":{\"gridcolor\":\"white\",\"linecolor\":\"white\",\"ticks\":\"\"},\"caxis\":{\"gridcolor\":\"white\",\"linecolor\":\"white\",\"ticks\":\"\"}},\"coloraxis\":{\"colorbar\":{\"outlinewidth\":0,\"ticks\":\"\"}},\"colorscale\":{\"sequential\":[[0.0,\"#0d0887\"],[0.1111111111111111,\"#46039f\"],[0.2222222222222222,\"#7201a8\"],[0.3333333333333333,\"#9c179e\"],[0.4444444444444444,\"#bd3786\"],[0.5555555555555556,\"#d8576b\"],[0.6666666666666666,\"#ed7953\"],[0.7777777777777778,\"#fb9f3a\"],[0.8888888888888888,\"#fdca26\"],[1.0,\"#f0f921\"]],\"sequentialminus\":[[0.0,\"#0d0887\"],[0.1111111111111111,\"#46039f\"],[0.2222222222222222,\"#7201a8\"],[0.3333333333333333,\"#9c179e\"],[0.4444444444444444,\"#bd3786\"],[0.5555555555555556,\"#d8576b\"],[0.6666666666666666,\"#ed7953\"],[0.7777777777777778,\"#fb9f3a\"],[0.8888888888888888,\"#fdca26\"],[1.0,\"#f0f921\"]],\"diverging\":[[0,\"#8e0152\"],[0.1,\"#c51b7d\"],[0.2,\"#de77ae\"],[0.3,\"#f1b6da\"],[0.4,\"#fde0ef\"],[0.5,\"#f7f7f7\"],[0.6,\"#e6f5d0\"],[0.7,\"#b8e186\"],[0.8,\"#7fbc41\"],[0.9,\"#4d9221\"],[1,\"#276419\"]]},\"xaxis\":{\"gridcolor\":\"white\",\"linecolor\":\"white\",\"ticks\":\"\",\"title\":{\"standoff\":15},\"zerolinecolor\":\"white\",\"automargin\":true,\"zerolinewidth\":2},\"yaxis\":{\"gridcolor\":\"white\",\"linecolor\":\"white\",\"ticks\":\"\",\"title\":{\"standoff\":15},\"zerolinecolor\":\"white\",\"automargin\":true,\"zerolinewidth\":2},\"scene\":{\"xaxis\":{\"backgroundcolor\":\"#E5ECF6\",\"gridcolor\":\"white\",\"linecolor\":\"white\",\"showbackground\":true,\"ticks\":\"\",\"zerolinecolor\":\"white\",\"gridwidth\":2},\"yaxis\":{\"backgroundcolor\":\"#E5ECF6\",\"gridcolor\":\"white\",\"linecolor\":\"white\",\"showbackground\":true,\"ticks\":\"\",\"zerolinecolor\":\"white\",\"gridwidth\":2},\"zaxis\":{\"backgroundcolor\":\"#E5ECF6\",\"gridcolor\":\"white\",\"linecolor\":\"white\",\"showbackground\":true,\"ticks\":\"\",\"zerolinecolor\":\"white\",\"gridwidth\":2}},\"shapedefaults\":{\"line\":{\"color\":\"#2a3f5f\"}},\"annotationdefaults\":{\"arrowcolor\":\"#2a3f5f\",\"arrowhead\":0,\"arrowwidth\":1},\"geo\":{\"bgcolor\":\"white\",\"landcolor\":\"#E5ECF6\",\"subunitcolor\":\"white\",\"showland\":true,\"showlakes\":true,\"lakecolor\":\"white\"},\"title\":{\"x\":0.05},\"mapbox\":{\"style\":\"light\"}}},\"xaxis\":{\"anchor\":\"y\",\"domain\":[0.0,1.0],\"scaleanchor\":\"y\",\"constrain\":\"domain\"},\"yaxis\":{\"anchor\":\"x\",\"domain\":[0.0,1.0],\"autorange\":\"reversed\",\"constrain\":\"domain\"},\"coloraxis\":{\"colorbar\":{\"title\":{\"text\":\"Dissimilarity\"},\"x\":1.1,\"len\":0.55},\"colorscale\":[[0.0,\"#0d0887\"],[0.1111111111111111,\"#46039f\"],[0.2222222222222222,\"#7201a8\"],[0.3333333333333333,\"#9c179e\"],[0.4444444444444444,\"#bd3786\"],[0.5555555555555556,\"#d8576b\"],[0.6666666666666666,\"#ed7953\"],[0.7777777777777778,\"#fb9f3a\"],[0.8888888888888888,\"#fdca26\"],[1.0,\"#f0f921\"]]},\"margin\":{\"t\":100,\"l\":50,\"r\":50,\"b\":100,\"pad\":4},\"autosize\":false,\"width\":800,\"height\":800},                        {\"responsive\": true}                    ).then(function(){\n",
              "                            \n",
              "var gd = document.getElementById('972c14c5-f127-49d0-abff-0fbcce35eed1');\n",
              "var x = new MutationObserver(function (mutations, observer) {{\n",
              "        var display = window.getComputedStyle(gd).display;\n",
              "        if (!display || display === 'none') {{\n",
              "            console.log([gd, 'removed!']);\n",
              "            Plotly.purge(gd);\n",
              "            observer.disconnect();\n",
              "        }}\n",
              "}});\n",
              "\n",
              "// Listen for the removal of the full notebook cells\n",
              "var notebookContainer = gd.closest('#notebook-container');\n",
              "if (notebookContainer) {{\n",
              "    x.observe(notebookContainer, {childList: true});\n",
              "}}\n",
              "\n",
              "// Listen for the clearing of the current output cell\n",
              "var outputEl = gd.closest('.output');\n",
              "if (outputEl) {{\n",
              "    x.observe(outputEl, {childList: true});\n",
              "}}\n",
              "\n",
              "                        })                };                            </script>        </div>\n",
              "</body>\n",
              "</html>"
            ]
          },
          "metadata": {},
          "output_type": "display_data"
        },
        {
          "name": "stdout",
          "output_type": "stream",
          "text": [
            "[[0, 0, 1, 1, 1, 0], [0, 0, 1, 1, 1, 0], [0, 0, 1, 1, 1, 0], [0, 0, 1, 1, 1, 0], [0, 0, 1, 1, 1, 0], [0, 0, 1, 1, 1, 0], [0, 0, 1, 1, 1, 0], [0, 0, 1, 1, 1, 0], [0, 0, 1, 1, 1, 0], [0, 0, 1, 1, 1, 0], [0, 0, 1, 1, 1, 0], [0, 0, 1, 1, 1, 0], [0, 0, 1, 1, 1, 0], [0, 0, 1, 1, 1, 0], [0, 0, 1, 1, 1, 0], [0, 0, 1, 1, 1, 0], [0, 0, 1, 1, 1, 0], [0, 0, 1, 1, 1, 0], [0, 0, 2, 0, 0, 1], [0, 0, 2, 0, 0, 1], [0, 0, 2, 0, 0, 1]]\n"
          ]
        }
      ],
      "source": [
        "\n",
        "vector_encoding2 = [\n",
        "    # results[chord_id]['feature_vector'] +\n",
        "     #results_polar_degree[chord_id]['feature_vector'] +\n",
        "\n",
        "    results_intervals_theory[chord_id]['feature_vector']\n",
        "    for chord_id in results_structure.keys()\n",
        "]\n",
        "\n",
        "# Realiza MDS en los datos\n",
        "vector_encoding_mds2, matrix = perform_mds(vector_encoding2)\n",
        "cg.plot_chords_with_selection(vector_encoding_mds2,matrix, chord_ids, datos,True, True )\n",
        "print(vector_encoding2)"
      ]
    },
    {
      "cell_type": "markdown",
      "metadata": {
        "id": "NLI49Befr_xH"
      },
      "source": [
        "# Funcion Polar con Intervalos clasicos"
      ]
    },
    {
      "cell_type": "code",
      "execution_count": null,
      "metadata": {
        "colab": {
          "base_uri": "https://localhost:8080/",
          "height": 1000,
          "referenced_widgets": [
            "73fb8731b3bb49ef924bf8ad37fb98aa",
            "4b641ada724f4f31b708f195a6f07d97",
            "777444a47eba4bfa83735822f776b160",
            "724651acc3fb4fdfa7701eb79f886984"
          ]
        },
        "id": "kYywMMoPtiIO",
        "outputId": "70697482-502a-4d61-cb63-12fd376f9442"
      },
      "outputs": [
        {
          "name": "stderr",
          "output_type": "stream",
          "text": [
            "/usr/local/lib/python3.10/dist-packages/sklearn/manifold/_mds.py:299: FutureWarning: The default value of `normalized_stress` will change to `'auto'` in version 1.4. To suppress this warning, manually set the value of `normalized_stress`.\n",
            "  warnings.warn(\n"
          ]
        },
        {
          "name": "stdout",
          "output_type": "stream",
          "text": [
            "184 64.68016419134369\n",
            "['', '', '', '', '', '', '', '', '', '', '', '', '', '', '', '', '', '', '', '', '']\n"
          ]
        },
        {
          "data": {
            "application/vnd.jupyter.widget-view+json": {
              "model_id": "73fb8731b3bb49ef924bf8ad37fb98aa",
              "version_major": 2,
              "version_minor": 0
            },
            "text/plain": [
              "Dropdown(description='Chord ID:', options=(('Chord ID: chord_0, C', 'chord_0'), ('Chord ID: chord_1, C/E', 'ch…"
            ]
          },
          "metadata": {
            "application/vnd.jupyter.widget-view+json": {
              "colab": {
                "custom_widget_manager": {
                  "url": "https://ssl.gstatic.com/colaboratory-static/widgets/colab-cdn-widget-manager/2b70e893a8ba7c0f/manager.min.js"
                }
              }
            }
          },
          "output_type": "display_data"
        },
        {
          "data": {
            "application/vnd.jupyter.widget-view+json": {
              "model_id": "724651acc3fb4fdfa7701eb79f886984",
              "version_major": 2,
              "version_minor": 0
            },
            "text/plain": [
              "FigureWidget({\n",
              "    'data': [{'hoverinfo': 'text',\n",
              "              'hovertext': [Root: C<br>Bass: C<br>Octave: 5<br>Degree:\n",
              "                            1<br>Intervals: [4, 3], Root: C<br>Bass: E<br>Octave:\n",
              "                            5<br>Degree: 1<br>Intervals: [4, 3], Root: C<br>Bass:\n",
              "                            G<br>Octave: 5<br>Degree: 1<br>Intervals: [4, 3], Root:\n",
              "                            D<br>Bass: D<br>Octave: 5<br>Degree: 2<br>Intervals:\n",
              "                            [3, 4], Root: D<br>Bass: F<br>Octave: 5<br>Degree:\n",
              "                            2<br>Intervals: [3, 4], Root: D<br>Bass: A<br>Octave:\n",
              "                            5<br>Degree: 2<br>Intervals: [3, 4], Root: E<br>Bass:\n",
              "                            E<br>Octave: 5<br>Degree: 3<br>Intervals: [3, 4], Root:\n",
              "                            E<br>Bass: G<br>Octave: 5<br>Degree: 3<br>Intervals:\n",
              "                            [3, 4], Root: E<br>Bass: B<br>Octave: 5<br>Degree:\n",
              "                            3<br>Intervals: [3, 4], Root: F<br>Bass: F<br>Octave:\n",
              "                            5<br>Degree: 4<br>Intervals: [4, 3], Root: F<br>Bass:\n",
              "                            A<br>Octave: 5<br>Degree: 4<br>Intervals: [4, 3], Root:\n",
              "                            F<br>Bass: C<br>Octave: 5<br>Degree: 4<br>Intervals:\n",
              "                            [4, 3], Root: G<br>Bass: G<br>Octave: 5<br>Degree:\n",
              "                            5<br>Intervals: [4, 3], Root: G<br>Bass: B<br>Octave:\n",
              "                            5<br>Degree: 5<br>Intervals: [4, 3], Root: G<br>Bass:\n",
              "                            D<br>Octave: 5<br>Degree: 5<br>Intervals: [4, 3], Root:\n",
              "                            A<br>Bass: A<br>Octave: 5<br>Degree: 6<br>Intervals:\n",
              "                            [3, 4], Root: A<br>Bass: C<br>Octave: 5<br>Degree:\n",
              "                            6<br>Intervals: [3, 4], Root: A<br>Bass: E<br>Octave:\n",
              "                            5<br>Degree: 6<br>Intervals: [3, 4], Root: B<br>Bass:\n",
              "                            B<br>Octave: 5<br>Degree: 7<br>Intervals: [3, 3], Root:\n",
              "                            B<br>Bass: D<br>Octave: 5<br>Degree: 7<br>Intervals:\n",
              "                            [3, 3], Root: B<br>Bass: F<br>Octave: 5<br>Degree:\n",
              "                            7<br>Intervals: [3, 3]],\n",
              "              'marker': {'color': [red, red, red, blue, blue, blue, blue, blue,\n",
              "                                   blue, red, red, red, red, red, red, blue, blue,\n",
              "                                   blue, green, green, green],\n",
              "                         'size': 13,\n",
              "                         'symbol': [star-square, star-square, star-square, star-\n",
              "                                    triangle-down, star-triangle-down, star-\n",
              "                                    triangle-down, star-triangle-down, star-\n",
              "                                    triangle-down, star-triangle-down, star-square,\n",
              "                                    star-square, star-square, star-square, star-\n",
              "                                    square, star-square, star-triangle-down, star-\n",
              "                                    triangle-down, star-triangle-down, circle,\n",
              "                                    circle, circle]},\n",
              "              'mode': 'markers',\n",
              "              'text': [, , , , , , , , , , , , , , , , , , , , ],\n",
              "              'textposition': 'top center',\n",
              "              'type': 'scatter',\n",
              "              'uid': '9567d9d9-b67d-4da4-96fd-3fb3e2123f93',\n",
              "              'x': array([ 1.67772705,  1.67772705,  1.67772705, -1.11455668, -1.11455668,\n",
              "                          -1.11455668,  0.92230302,  0.92230302,  0.92230302, -0.02210041,\n",
              "                          -0.02210041, -0.02210041, -0.37674681, -0.37674681, -0.37674681,\n",
              "                           1.25677494,  1.25677494,  1.25677494, -2.34340111, -2.34340111,\n",
              "                          -2.34340111]),\n",
              "              'y': array([ 0.20823294,  0.20823294,  0.20823294, -0.93903287, -0.93903287,\n",
              "                          -0.93903287,  1.36052346,  1.36052346,  1.36052346, -1.64352624,\n",
              "                          -1.64352624, -1.64352624,  1.40786401,  1.40786401,  1.40786401,\n",
              "                          -1.13077219, -1.13077219, -1.13077219,  0.7367109 ,  0.7367109 ,\n",
              "                           0.7367109 ])}],\n",
              "    'layout': {'autosize': False,\n",
              "               'height': 800,\n",
              "               'showlegend': False,\n",
              "               'template': '...',\n",
              "               'title': {'text': 'Chord Representation (2D)'},\n",
              "               'width': 800,\n",
              "               'xaxis': {'autorange': False, 'range': [-3.3434011091564337, 2.677727048178607], 'title': {'text': ''}},\n",
              "               'yaxis': {'autorange': False,\n",
              "                         'range': [-2.643526238989196, 2.4078640120346284],\n",
              "                         'scaleanchor': 'x',\n",
              "                         'scaleratio': 1,\n",
              "                         'title': {'text': ''}}}\n",
              "})"
            ]
          },
          "metadata": {
            "application/vnd.jupyter.widget-view+json": {
              "colab": {
                "custom_widget_manager": {
                  "url": "https://ssl.gstatic.com/colaboratory-static/widgets/colab-cdn-widget-manager/2b70e893a8ba7c0f/manager.min.js"
                }
              }
            }
          },
          "output_type": "display_data"
        },
        {
          "data": {
            "text/html": [
              "<html>\n",
              "<head><meta charset=\"utf-8\" /></head>\n",
              "<body>\n",
              "    <div>            <script src=\"https://cdnjs.cloudflare.com/ajax/libs/mathjax/2.7.5/MathJax.js?config=TeX-AMS-MML_SVG\"></script><script type=\"text/javascript\">if (window.MathJax && window.MathJax.Hub && window.MathJax.Hub.Config) {window.MathJax.Hub.Config({SVG: {font: \"STIX-Web\"}});}</script>                <script type=\"text/javascript\">window.PlotlyConfig = {MathJaxConfig: 'local'};</script>\n",
              "        <script charset=\"utf-8\" src=\"https://cdn.plot.ly/plotly-2.24.1.min.js\"></script>                <div id=\"fbc9f491-8ce3-4389-a9a6-62473fb6210e\" class=\"plotly-graph-div\" style=\"height:800px; width:800px;\"></div>            <script type=\"text/javascript\">                                    window.PLOTLYENV=window.PLOTLYENV || {};                                    if (document.getElementById(\"fbc9f491-8ce3-4389-a9a6-62473fb6210e\")) {                    Plotly.newPlot(                        \"fbc9f491-8ce3-4389-a9a6-62473fb6210e\",                        [{\"coloraxis\":\"coloraxis\",\"name\":\"0\",\"x\":[\"\",\"\",\"\",\"\",\"\",\"\",\"\",\"\",\"\",\"\",\"\",\"\",\"\",\"\",\"\",\"\",\"\",\"\",\"\",\"\",\"\"],\"y\":[\"\",\"\",\"\",\"\",\"\",\"\",\"\",\"\",\"\",\"\",\"\",\"\",\"\",\"\",\"\",\"\",\"\",\"\",\"\",\"\",\"\"],\"z\":[[0.0,0.0,0.0,2.598657421878177,2.598657421878177,2.598657421878177,2.108326793434222,2.108326793434222,2.108326793434222,2.793194897568882,2.793194897568882,2.793194897568882,2.793194897568882,2.793194897568882,2.793194897568882,2.108326793434222,2.108326793434222,2.108326793434222,3.279179835916678,3.279179835916678,3.279179835916678],[0.0,0.0,0.0,2.598657421878177,2.598657421878177,2.598657421878177,2.108326793434222,2.108326793434222,2.108326793434222,2.793194897568882,2.793194897568882,2.793194897568882,2.793194897568882,2.793194897568882,2.793194897568882,2.108326793434222,2.108326793434222,2.108326793434222,3.279179835916678,3.279179835916678,3.279179835916678],[0.0,0.0,0.0,2.598657421878177,2.598657421878177,2.598657421878177,2.108326793434222,2.108326793434222,2.108326793434222,2.793194897568882,2.793194897568882,2.793194897568882,2.793194897568882,2.793194897568882,2.793194897568882,2.108326793434222,2.108326793434222,2.108326793434222,3.279179835916678,3.279179835916678,3.279179835916678],[2.598657421878177,2.598657421878177,2.598657421878177,0.0,0.0,0.0,2.598657421878177,2.598657421878177,2.598657421878177,2.108326793434222,2.108326793434222,2.108326793434222,2.793194897568882,2.793194897568882,2.793194897568882,2.793194897568882,2.793194897568882,2.793194897568882,2.906035420966618,2.906035420966618,2.906035420966618],[2.598657421878177,2.598657421878177,2.598657421878177,0.0,0.0,0.0,2.598657421878177,2.598657421878177,2.598657421878177,2.108326793434222,2.108326793434222,2.108326793434222,2.793194897568882,2.793194897568882,2.793194897568882,2.793194897568882,2.793194897568882,2.793194897568882,2.906035420966618,2.906035420966618,2.906035420966618],[2.598657421878177,2.598657421878177,2.598657421878177,0.0,0.0,0.0,2.598657421878177,2.598657421878177,2.598657421878177,2.108326793434222,2.108326793434222,2.108326793434222,2.793194897568882,2.793194897568882,2.793194897568882,2.793194897568882,2.793194897568882,2.793194897568882,2.906035420966618,2.906035420966618,2.906035420966618],[2.108326793434222,2.108326793434222,2.108326793434222,2.598657421878177,2.598657421878177,2.598657421878177,0.0,0.0,0.0,2.598657421878177,2.598657421878177,2.598657421878177,2.108326793434222,2.108326793434222,2.108326793434222,2.793194897568882,2.793194897568882,2.793194897568882,3.4353948442362254,3.4353948442362254,3.4353948442362254],[2.108326793434222,2.108326793434222,2.108326793434222,2.598657421878177,2.598657421878177,2.598657421878177,0.0,0.0,0.0,2.598657421878177,2.598657421878177,2.598657421878177,2.108326793434222,2.108326793434222,2.108326793434222,2.793194897568882,2.793194897568882,2.793194897568882,3.4353948442362254,3.4353948442362254,3.4353948442362254],[2.108326793434222,2.108326793434222,2.108326793434222,2.598657421878177,2.598657421878177,2.598657421878177,0.0,0.0,0.0,2.598657421878177,2.598657421878177,2.598657421878177,2.108326793434222,2.108326793434222,2.108326793434222,2.793194897568882,2.793194897568882,2.793194897568882,3.4353948442362254,3.4353948442362254,3.4353948442362254],[2.793194897568882,2.793194897568882,2.793194897568882,2.108326793434222,2.108326793434222,2.108326793434222,2.598657421878177,2.598657421878177,2.598657421878177,0.0,0.0,0.0,2.598657421878177,2.598657421878177,2.598657421878177,2.108326793434222,2.108326793434222,2.108326793434222,3.4353948442362254,3.4353948442362254,3.4353948442362254],[2.793194897568882,2.793194897568882,2.793194897568882,2.108326793434222,2.108326793434222,2.108326793434222,2.598657421878177,2.598657421878177,2.598657421878177,0.0,0.0,0.0,2.598657421878177,2.598657421878177,2.598657421878177,2.108326793434222,2.108326793434222,2.108326793434222,3.4353948442362254,3.4353948442362254,3.4353948442362254],[2.793194897568882,2.793194897568882,2.793194897568882,2.108326793434222,2.108326793434222,2.108326793434222,2.598657421878177,2.598657421878177,2.598657421878177,0.0,0.0,0.0,2.598657421878177,2.598657421878177,2.598657421878177,2.108326793434222,2.108326793434222,2.108326793434222,3.4353948442362254,3.4353948442362254,3.4353948442362254],[2.793194897568882,2.793194897568882,2.793194897568882,2.793194897568882,2.793194897568882,2.793194897568882,2.108326793434222,2.108326793434222,2.108326793434222,2.598657421878177,2.598657421878177,2.598657421878177,0.0,0.0,0.0,2.598657421878177,2.598657421878177,2.598657421878177,2.906035420966618,2.906035420966618,2.906035420966618],[2.793194897568882,2.793194897568882,2.793194897568882,2.793194897568882,2.793194897568882,2.793194897568882,2.108326793434222,2.108326793434222,2.108326793434222,2.598657421878177,2.598657421878177,2.598657421878177,0.0,0.0,0.0,2.598657421878177,2.598657421878177,2.598657421878177,2.906035420966618,2.906035420966618,2.906035420966618],[2.793194897568882,2.793194897568882,2.793194897568882,2.793194897568882,2.793194897568882,2.793194897568882,2.108326793434222,2.108326793434222,2.108326793434222,2.598657421878177,2.598657421878177,2.598657421878177,0.0,0.0,0.0,2.598657421878177,2.598657421878177,2.598657421878177,2.906035420966618,2.906035420966618,2.906035420966618],[2.108326793434222,2.108326793434222,2.108326793434222,2.793194897568882,2.793194897568882,2.793194897568882,2.793194897568882,2.793194897568882,2.793194897568882,2.108326793434222,2.108326793434222,2.108326793434222,2.598657421878177,2.598657421878177,2.598657421878177,0.0,0.0,0.0,3.279179835916678,3.279179835916678,3.279179835916678],[2.108326793434222,2.108326793434222,2.108326793434222,2.793194897568882,2.793194897568882,2.793194897568882,2.793194897568882,2.793194897568882,2.793194897568882,2.108326793434222,2.108326793434222,2.108326793434222,2.598657421878177,2.598657421878177,2.598657421878177,0.0,0.0,0.0,3.279179835916678,3.279179835916678,3.279179835916678],[2.108326793434222,2.108326793434222,2.108326793434222,2.793194897568882,2.793194897568882,2.793194897568882,2.793194897568882,2.793194897568882,2.793194897568882,2.108326793434222,2.108326793434222,2.108326793434222,2.598657421878177,2.598657421878177,2.598657421878177,0.0,0.0,0.0,3.279179835916678,3.279179835916678,3.279179835916678],[3.279179835916678,3.279179835916678,3.279179835916678,2.906035420966618,2.906035420966618,2.906035420966618,3.4353948442362254,3.4353948442362254,3.4353948442362254,3.4353948442362254,3.4353948442362254,3.4353948442362254,2.906035420966618,2.906035420966618,2.906035420966618,3.279179835916678,3.279179835916678,3.279179835916678,0.0,0.0,0.0],[3.279179835916678,3.279179835916678,3.279179835916678,2.906035420966618,2.906035420966618,2.906035420966618,3.4353948442362254,3.4353948442362254,3.4353948442362254,3.4353948442362254,3.4353948442362254,3.4353948442362254,2.906035420966618,2.906035420966618,2.906035420966618,3.279179835916678,3.279179835916678,3.279179835916678,0.0,0.0,0.0],[3.279179835916678,3.279179835916678,3.279179835916678,2.906035420966618,2.906035420966618,2.906035420966618,3.4353948442362254,3.4353948442362254,3.4353948442362254,3.4353948442362254,3.4353948442362254,3.4353948442362254,2.906035420966618,2.906035420966618,2.906035420966618,3.279179835916678,3.279179835916678,3.279179835916678,0.0,0.0,0.0]],\"type\":\"heatmap\",\"xaxis\":\"x\",\"yaxis\":\"y\",\"hovertemplate\":\"x: %{x}\\u003cbr\\u003ey: %{y}\\u003cbr\\u003eDissimilarity: %{z}\\u003cextra\\u003e\\u003c\\u002fextra\\u003e\"}],                        {\"template\":{\"data\":{\"histogram2dcontour\":[{\"type\":\"histogram2dcontour\",\"colorbar\":{\"outlinewidth\":0,\"ticks\":\"\"},\"colorscale\":[[0.0,\"#0d0887\"],[0.1111111111111111,\"#46039f\"],[0.2222222222222222,\"#7201a8\"],[0.3333333333333333,\"#9c179e\"],[0.4444444444444444,\"#bd3786\"],[0.5555555555555556,\"#d8576b\"],[0.6666666666666666,\"#ed7953\"],[0.7777777777777778,\"#fb9f3a\"],[0.8888888888888888,\"#fdca26\"],[1.0,\"#f0f921\"]]}],\"choropleth\":[{\"type\":\"choropleth\",\"colorbar\":{\"outlinewidth\":0,\"ticks\":\"\"}}],\"histogram2d\":[{\"type\":\"histogram2d\",\"colorbar\":{\"outlinewidth\":0,\"ticks\":\"\"},\"colorscale\":[[0.0,\"#0d0887\"],[0.1111111111111111,\"#46039f\"],[0.2222222222222222,\"#7201a8\"],[0.3333333333333333,\"#9c179e\"],[0.4444444444444444,\"#bd3786\"],[0.5555555555555556,\"#d8576b\"],[0.6666666666666666,\"#ed7953\"],[0.7777777777777778,\"#fb9f3a\"],[0.8888888888888888,\"#fdca26\"],[1.0,\"#f0f921\"]]}],\"heatmap\":[{\"type\":\"heatmap\",\"colorbar\":{\"outlinewidth\":0,\"ticks\":\"\"},\"colorscale\":[[0.0,\"#0d0887\"],[0.1111111111111111,\"#46039f\"],[0.2222222222222222,\"#7201a8\"],[0.3333333333333333,\"#9c179e\"],[0.4444444444444444,\"#bd3786\"],[0.5555555555555556,\"#d8576b\"],[0.6666666666666666,\"#ed7953\"],[0.7777777777777778,\"#fb9f3a\"],[0.8888888888888888,\"#fdca26\"],[1.0,\"#f0f921\"]]}],\"heatmapgl\":[{\"type\":\"heatmapgl\",\"colorbar\":{\"outlinewidth\":0,\"ticks\":\"\"},\"colorscale\":[[0.0,\"#0d0887\"],[0.1111111111111111,\"#46039f\"],[0.2222222222222222,\"#7201a8\"],[0.3333333333333333,\"#9c179e\"],[0.4444444444444444,\"#bd3786\"],[0.5555555555555556,\"#d8576b\"],[0.6666666666666666,\"#ed7953\"],[0.7777777777777778,\"#fb9f3a\"],[0.8888888888888888,\"#fdca26\"],[1.0,\"#f0f921\"]]}],\"contourcarpet\":[{\"type\":\"contourcarpet\",\"colorbar\":{\"outlinewidth\":0,\"ticks\":\"\"}}],\"contour\":[{\"type\":\"contour\",\"colorbar\":{\"outlinewidth\":0,\"ticks\":\"\"},\"colorscale\":[[0.0,\"#0d0887\"],[0.1111111111111111,\"#46039f\"],[0.2222222222222222,\"#7201a8\"],[0.3333333333333333,\"#9c179e\"],[0.4444444444444444,\"#bd3786\"],[0.5555555555555556,\"#d8576b\"],[0.6666666666666666,\"#ed7953\"],[0.7777777777777778,\"#fb9f3a\"],[0.8888888888888888,\"#fdca26\"],[1.0,\"#f0f921\"]]}],\"surface\":[{\"type\":\"surface\",\"colorbar\":{\"outlinewidth\":0,\"ticks\":\"\"},\"colorscale\":[[0.0,\"#0d0887\"],[0.1111111111111111,\"#46039f\"],[0.2222222222222222,\"#7201a8\"],[0.3333333333333333,\"#9c179e\"],[0.4444444444444444,\"#bd3786\"],[0.5555555555555556,\"#d8576b\"],[0.6666666666666666,\"#ed7953\"],[0.7777777777777778,\"#fb9f3a\"],[0.8888888888888888,\"#fdca26\"],[1.0,\"#f0f921\"]]}],\"mesh3d\":[{\"type\":\"mesh3d\",\"colorbar\":{\"outlinewidth\":0,\"ticks\":\"\"}}],\"scatter\":[{\"fillpattern\":{\"fillmode\":\"overlay\",\"size\":10,\"solidity\":0.2},\"type\":\"scatter\"}],\"parcoords\":[{\"type\":\"parcoords\",\"line\":{\"colorbar\":{\"outlinewidth\":0,\"ticks\":\"\"}}}],\"scatterpolargl\":[{\"type\":\"scatterpolargl\",\"marker\":{\"colorbar\":{\"outlinewidth\":0,\"ticks\":\"\"}}}],\"bar\":[{\"error_x\":{\"color\":\"#2a3f5f\"},\"error_y\":{\"color\":\"#2a3f5f\"},\"marker\":{\"line\":{\"color\":\"#E5ECF6\",\"width\":0.5},\"pattern\":{\"fillmode\":\"overlay\",\"size\":10,\"solidity\":0.2}},\"type\":\"bar\"}],\"scattergeo\":[{\"type\":\"scattergeo\",\"marker\":{\"colorbar\":{\"outlinewidth\":0,\"ticks\":\"\"}}}],\"scatterpolar\":[{\"type\":\"scatterpolar\",\"marker\":{\"colorbar\":{\"outlinewidth\":0,\"ticks\":\"\"}}}],\"histogram\":[{\"marker\":{\"pattern\":{\"fillmode\":\"overlay\",\"size\":10,\"solidity\":0.2}},\"type\":\"histogram\"}],\"scattergl\":[{\"type\":\"scattergl\",\"marker\":{\"colorbar\":{\"outlinewidth\":0,\"ticks\":\"\"}}}],\"scatter3d\":[{\"type\":\"scatter3d\",\"line\":{\"colorbar\":{\"outlinewidth\":0,\"ticks\":\"\"}},\"marker\":{\"colorbar\":{\"outlinewidth\":0,\"ticks\":\"\"}}}],\"scattermapbox\":[{\"type\":\"scattermapbox\",\"marker\":{\"colorbar\":{\"outlinewidth\":0,\"ticks\":\"\"}}}],\"scatterternary\":[{\"type\":\"scatterternary\",\"marker\":{\"colorbar\":{\"outlinewidth\":0,\"ticks\":\"\"}}}],\"scattercarpet\":[{\"type\":\"scattercarpet\",\"marker\":{\"colorbar\":{\"outlinewidth\":0,\"ticks\":\"\"}}}],\"carpet\":[{\"aaxis\":{\"endlinecolor\":\"#2a3f5f\",\"gridcolor\":\"white\",\"linecolor\":\"white\",\"minorgridcolor\":\"white\",\"startlinecolor\":\"#2a3f5f\"},\"baxis\":{\"endlinecolor\":\"#2a3f5f\",\"gridcolor\":\"white\",\"linecolor\":\"white\",\"minorgridcolor\":\"white\",\"startlinecolor\":\"#2a3f5f\"},\"type\":\"carpet\"}],\"table\":[{\"cells\":{\"fill\":{\"color\":\"#EBF0F8\"},\"line\":{\"color\":\"white\"}},\"header\":{\"fill\":{\"color\":\"#C8D4E3\"},\"line\":{\"color\":\"white\"}},\"type\":\"table\"}],\"barpolar\":[{\"marker\":{\"line\":{\"color\":\"#E5ECF6\",\"width\":0.5},\"pattern\":{\"fillmode\":\"overlay\",\"size\":10,\"solidity\":0.2}},\"type\":\"barpolar\"}],\"pie\":[{\"automargin\":true,\"type\":\"pie\"}]},\"layout\":{\"autotypenumbers\":\"strict\",\"colorway\":[\"#636efa\",\"#EF553B\",\"#00cc96\",\"#ab63fa\",\"#FFA15A\",\"#19d3f3\",\"#FF6692\",\"#B6E880\",\"#FF97FF\",\"#FECB52\"],\"font\":{\"color\":\"#2a3f5f\"},\"hovermode\":\"closest\",\"hoverlabel\":{\"align\":\"left\"},\"paper_bgcolor\":\"white\",\"plot_bgcolor\":\"#E5ECF6\",\"polar\":{\"bgcolor\":\"#E5ECF6\",\"angularaxis\":{\"gridcolor\":\"white\",\"linecolor\":\"white\",\"ticks\":\"\"},\"radialaxis\":{\"gridcolor\":\"white\",\"linecolor\":\"white\",\"ticks\":\"\"}},\"ternary\":{\"bgcolor\":\"#E5ECF6\",\"aaxis\":{\"gridcolor\":\"white\",\"linecolor\":\"white\",\"ticks\":\"\"},\"baxis\":{\"gridcolor\":\"white\",\"linecolor\":\"white\",\"ticks\":\"\"},\"caxis\":{\"gridcolor\":\"white\",\"linecolor\":\"white\",\"ticks\":\"\"}},\"coloraxis\":{\"colorbar\":{\"outlinewidth\":0,\"ticks\":\"\"}},\"colorscale\":{\"sequential\":[[0.0,\"#0d0887\"],[0.1111111111111111,\"#46039f\"],[0.2222222222222222,\"#7201a8\"],[0.3333333333333333,\"#9c179e\"],[0.4444444444444444,\"#bd3786\"],[0.5555555555555556,\"#d8576b\"],[0.6666666666666666,\"#ed7953\"],[0.7777777777777778,\"#fb9f3a\"],[0.8888888888888888,\"#fdca26\"],[1.0,\"#f0f921\"]],\"sequentialminus\":[[0.0,\"#0d0887\"],[0.1111111111111111,\"#46039f\"],[0.2222222222222222,\"#7201a8\"],[0.3333333333333333,\"#9c179e\"],[0.4444444444444444,\"#bd3786\"],[0.5555555555555556,\"#d8576b\"],[0.6666666666666666,\"#ed7953\"],[0.7777777777777778,\"#fb9f3a\"],[0.8888888888888888,\"#fdca26\"],[1.0,\"#f0f921\"]],\"diverging\":[[0,\"#8e0152\"],[0.1,\"#c51b7d\"],[0.2,\"#de77ae\"],[0.3,\"#f1b6da\"],[0.4,\"#fde0ef\"],[0.5,\"#f7f7f7\"],[0.6,\"#e6f5d0\"],[0.7,\"#b8e186\"],[0.8,\"#7fbc41\"],[0.9,\"#4d9221\"],[1,\"#276419\"]]},\"xaxis\":{\"gridcolor\":\"white\",\"linecolor\":\"white\",\"ticks\":\"\",\"title\":{\"standoff\":15},\"zerolinecolor\":\"white\",\"automargin\":true,\"zerolinewidth\":2},\"yaxis\":{\"gridcolor\":\"white\",\"linecolor\":\"white\",\"ticks\":\"\",\"title\":{\"standoff\":15},\"zerolinecolor\":\"white\",\"automargin\":true,\"zerolinewidth\":2},\"scene\":{\"xaxis\":{\"backgroundcolor\":\"#E5ECF6\",\"gridcolor\":\"white\",\"linecolor\":\"white\",\"showbackground\":true,\"ticks\":\"\",\"zerolinecolor\":\"white\",\"gridwidth\":2},\"yaxis\":{\"backgroundcolor\":\"#E5ECF6\",\"gridcolor\":\"white\",\"linecolor\":\"white\",\"showbackground\":true,\"ticks\":\"\",\"zerolinecolor\":\"white\",\"gridwidth\":2},\"zaxis\":{\"backgroundcolor\":\"#E5ECF6\",\"gridcolor\":\"white\",\"linecolor\":\"white\",\"showbackground\":true,\"ticks\":\"\",\"zerolinecolor\":\"white\",\"gridwidth\":2}},\"shapedefaults\":{\"line\":{\"color\":\"#2a3f5f\"}},\"annotationdefaults\":{\"arrowcolor\":\"#2a3f5f\",\"arrowhead\":0,\"arrowwidth\":1},\"geo\":{\"bgcolor\":\"white\",\"landcolor\":\"#E5ECF6\",\"subunitcolor\":\"white\",\"showland\":true,\"showlakes\":true,\"lakecolor\":\"white\"},\"title\":{\"x\":0.05},\"mapbox\":{\"style\":\"light\"}}},\"xaxis\":{\"anchor\":\"y\",\"domain\":[0.0,1.0],\"scaleanchor\":\"y\",\"constrain\":\"domain\"},\"yaxis\":{\"anchor\":\"x\",\"domain\":[0.0,1.0],\"autorange\":\"reversed\",\"constrain\":\"domain\"},\"coloraxis\":{\"colorbar\":{\"title\":{\"text\":\"Dissimilarity\"},\"x\":1.1,\"len\":0.55},\"colorscale\":[[0.0,\"#0d0887\"],[0.1111111111111111,\"#46039f\"],[0.2222222222222222,\"#7201a8\"],[0.3333333333333333,\"#9c179e\"],[0.4444444444444444,\"#bd3786\"],[0.5555555555555556,\"#d8576b\"],[0.6666666666666666,\"#ed7953\"],[0.7777777777777778,\"#fb9f3a\"],[0.8888888888888888,\"#fdca26\"],[1.0,\"#f0f921\"]]},\"margin\":{\"t\":100,\"l\":50,\"r\":50,\"b\":100,\"pad\":4},\"autosize\":false,\"width\":800,\"height\":800},                        {\"responsive\": true}                    ).then(function(){\n",
              "                            \n",
              "var gd = document.getElementById('fbc9f491-8ce3-4389-a9a6-62473fb6210e');\n",
              "var x = new MutationObserver(function (mutations, observer) {{\n",
              "        var display = window.getComputedStyle(gd).display;\n",
              "        if (!display || display === 'none') {{\n",
              "            console.log([gd, 'removed!']);\n",
              "            Plotly.purge(gd);\n",
              "            observer.disconnect();\n",
              "        }}\n",
              "}});\n",
              "\n",
              "// Listen for the removal of the full notebook cells\n",
              "var notebookContainer = gd.closest('#notebook-container');\n",
              "if (notebookContainer) {{\n",
              "    x.observe(notebookContainer, {childList: true});\n",
              "}}\n",
              "\n",
              "// Listen for the clearing of the current output cell\n",
              "var outputEl = gd.closest('.output');\n",
              "if (outputEl) {{\n",
              "    x.observe(outputEl, {childList: true});\n",
              "}}\n",
              "\n",
              "                        })                };                            </script>        </div>\n",
              "</body>\n",
              "</html>"
            ]
          },
          "metadata": {},
          "output_type": "display_data"
        },
        {
          "name": "stdout",
          "output_type": "stream",
          "text": [
            "[[1.0, 0.0, 0, 0, 1, 1, 1, 0, 1.0, 0.0, 0.0, 0.0, 0.0, 0.0, 0.0, 0.0, -0.4999999999999998, 0.8660254037844387, 0.0, 0.0, 0.0, 0.0, -0.8660254037844388, -0.4999999999999997, 0.0, 0.0, 0.0, 0.0, 0.0, 0.0, 0.0, 0.0], [1.0, 0.0, 0, 0, 1, 1, 1, 0, 1.0, 0.0, 0.0, 0.0, 0.0, 0.0, 0.0, 0.0, -0.4999999999999998, 0.8660254037844387, 0.0, 0.0, 0.0, 0.0, -0.8660254037844388, -0.4999999999999997, 0.0, 0.0, 0.0, 0.0, 0.0, 0.0, 0.0, 0.0], [1.0, 0.0, 0, 0, 1, 1, 1, 0, 1.0, 0.0, 0.0, 0.0, 0.0, 0.0, 0.0, 0.0, -0.4999999999999998, 0.8660254037844387, 0.0, 0.0, 0.0, 0.0, -0.8660254037844388, -0.4999999999999997, 0.0, 0.0, 0.0, 0.0, 0.0, 0.0, 0.0, 0.0], [0.6234898018587336, 0.7818314824680298, 0, 0, 1, 1, 1, 0, 0.0, 0.0, 0.0, 0.0, 0.5000000000000001, 0.8660254037844386, 0.0, 0.0, 0.0, 0.0, -0.8660254037844385, 0.5000000000000003, 0.0, 0.0, 0.0, 0.0, 0.0, 0.0, -1.8369701987210297e-16, -1.0, 0.0, 0.0, 0.0, 0.0], [0.6234898018587336, 0.7818314824680298, 0, 0, 1, 1, 1, 0, 0.0, 0.0, 0.0, 0.0, 0.5000000000000001, 0.8660254037844386, 0.0, 0.0, 0.0, 0.0, -0.8660254037844385, 0.5000000000000003, 0.0, 0.0, 0.0, 0.0, 0.0, 0.0, -1.8369701987210297e-16, -1.0, 0.0, 0.0, 0.0, 0.0], [0.6234898018587336, 0.7818314824680298, 0, 0, 1, 1, 1, 0, 0.0, 0.0, 0.0, 0.0, 0.5000000000000001, 0.8660254037844386, 0.0, 0.0, 0.0, 0.0, -0.8660254037844385, 0.5000000000000003, 0.0, 0.0, 0.0, 0.0, 0.0, 0.0, -1.8369701987210297e-16, -1.0, 0.0, 0.0, 0.0, 0.0], [-0.22252093395631434, 0.9749279121818236, 0, 0, 1, 1, 1, 0, 0.0, 0.0, 0.0, 0.0, 0.0, 0.0, 0.0, 0.0, -0.4999999999999998, 0.8660254037844387, 0.0, 0.0, 0.0, 0.0, -0.8660254037844388, -0.4999999999999997, 0.0, 0.0, 0.0, 0.0, 0.0, 0.0, 0.8660254037844384, -0.5000000000000004], [-0.22252093395631434, 0.9749279121818236, 0, 0, 1, 1, 1, 0, 0.0, 0.0, 0.0, 0.0, 0.0, 0.0, 0.0, 0.0, -0.4999999999999998, 0.8660254037844387, 0.0, 0.0, 0.0, 0.0, -0.8660254037844388, -0.4999999999999997, 0.0, 0.0, 0.0, 0.0, 0.0, 0.0, 0.8660254037844384, -0.5000000000000004], [-0.22252093395631434, 0.9749279121818236, 0, 0, 1, 1, 1, 0, 0.0, 0.0, 0.0, 0.0, 0.0, 0.0, 0.0, 0.0, -0.4999999999999998, 0.8660254037844387, 0.0, 0.0, 0.0, 0.0, -0.8660254037844388, -0.4999999999999997, 0.0, 0.0, 0.0, 0.0, 0.0, 0.0, 0.8660254037844384, -0.5000000000000004], [-0.900968867902419, 0.43388373911755823, 0, 0, 1, 1, 1, 0, 1.0, 0.0, 0.0, 0.0, 0.0, 0.0, 0.0, 0.0, 0.0, 0.0, -0.8660254037844385, 0.5000000000000003, 0.0, 0.0, 0.0, 0.0, 0.0, 0.0, -1.8369701987210297e-16, -1.0, 0.0, 0.0, 0.0, 0.0], [-0.900968867902419, 0.43388373911755823, 0, 0, 1, 1, 1, 0, 1.0, 0.0, 0.0, 0.0, 0.0, 0.0, 0.0, 0.0, 0.0, 0.0, -0.8660254037844385, 0.5000000000000003, 0.0, 0.0, 0.0, 0.0, 0.0, 0.0, -1.8369701987210297e-16, -1.0, 0.0, 0.0, 0.0, 0.0], [-0.900968867902419, 0.43388373911755823, 0, 0, 1, 1, 1, 0, 1.0, 0.0, 0.0, 0.0, 0.0, 0.0, 0.0, 0.0, 0.0, 0.0, -0.8660254037844385, 0.5000000000000003, 0.0, 0.0, 0.0, 0.0, 0.0, 0.0, -1.8369701987210297e-16, -1.0, 0.0, 0.0, 0.0, 0.0], [-0.9009688679024191, -0.433883739117558, 0, 0, 1, 1, 1, 0, 0.0, 0.0, 0.0, 0.0, 0.5000000000000001, 0.8660254037844386, 0.0, 0.0, 0.0, 0.0, 0.0, 0.0, 0.0, 0.0, -0.8660254037844388, -0.4999999999999997, 0.0, 0.0, 0.0, 0.0, 0.0, 0.0, 0.8660254037844384, -0.5000000000000004], [-0.9009688679024191, -0.433883739117558, 0, 0, 1, 1, 1, 0, 0.0, 0.0, 0.0, 0.0, 0.5000000000000001, 0.8660254037844386, 0.0, 0.0, 0.0, 0.0, 0.0, 0.0, 0.0, 0.0, -0.8660254037844388, -0.4999999999999997, 0.0, 0.0, 0.0, 0.0, 0.0, 0.0, 0.8660254037844384, -0.5000000000000004], [-0.9009688679024191, -0.433883739117558, 0, 0, 1, 1, 1, 0, 0.0, 0.0, 0.0, 0.0, 0.5000000000000001, 0.8660254037844386, 0.0, 0.0, 0.0, 0.0, 0.0, 0.0, 0.0, 0.0, -0.8660254037844388, -0.4999999999999997, 0.0, 0.0, 0.0, 0.0, 0.0, 0.0, 0.8660254037844384, -0.5000000000000004], [-0.2225209339563146, -0.9749279121818236, 0, 0, 1, 1, 1, 0, 1.0, 0.0, 0.0, 0.0, 0.0, 0.0, 0.0, 0.0, -0.4999999999999998, 0.8660254037844387, 0.0, 0.0, 0.0, 0.0, 0.0, 0.0, 0.0, 0.0, -1.8369701987210297e-16, -1.0, 0.0, 0.0, 0.0, 0.0], [-0.2225209339563146, -0.9749279121818236, 0, 0, 1, 1, 1, 0, 1.0, 0.0, 0.0, 0.0, 0.0, 0.0, 0.0, 0.0, -0.4999999999999998, 0.8660254037844387, 0.0, 0.0, 0.0, 0.0, 0.0, 0.0, 0.0, 0.0, -1.8369701987210297e-16, -1.0, 0.0, 0.0, 0.0, 0.0], [-0.2225209339563146, -0.9749279121818236, 0, 0, 1, 1, 1, 0, 1.0, 0.0, 0.0, 0.0, 0.0, 0.0, 0.0, 0.0, -0.4999999999999998, 0.8660254037844387, 0.0, 0.0, 0.0, 0.0, 0.0, 0.0, 0.0, 0.0, -1.8369701987210297e-16, -1.0, 0.0, 0.0, 0.0, 0.0], [0.6234898018587334, -0.7818314824680299, 0, 0, 2, 0, 0, 1, 0.0, 0.0, 0.0, 0.0, 0.5000000000000001, 0.8660254037844386, 0.0, 0.0, 0.0, 0.0, -0.8660254037844385, 0.5000000000000003, 0.0, 0.0, 0.0, 0.0, 0.0, 0.0, 0.0, 0.0, 0.0, 0.0, 0.8660254037844384, -0.5000000000000004], [0.6234898018587334, -0.7818314824680299, 0, 0, 2, 0, 0, 1, 0.0, 0.0, 0.0, 0.0, 0.5000000000000001, 0.8660254037844386, 0.0, 0.0, 0.0, 0.0, -0.8660254037844385, 0.5000000000000003, 0.0, 0.0, 0.0, 0.0, 0.0, 0.0, 0.0, 0.0, 0.0, 0.0, 0.8660254037844384, -0.5000000000000004], [0.6234898018587334, -0.7818314824680299, 0, 0, 2, 0, 0, 1, 0.0, 0.0, 0.0, 0.0, 0.5000000000000001, 0.8660254037844386, 0.0, 0.0, 0.0, 0.0, -0.8660254037844385, 0.5000000000000003, 0.0, 0.0, 0.0, 0.0, 0.0, 0.0, 0.0, 0.0, 0.0, 0.0, 0.8660254037844384, -0.5000000000000004]]\n"
          ]
        }
      ],
      "source": [
        "\n",
        "\n",
        "vector_encoding4 = [\n",
        "    # results[chord_id]['feature_vector'] +\n",
        "     results_polar_degree[chord_id]['feature_vector'] + results_intervals_theory[chord_id]['feature_vector']+ results_polar_notes[chord_id]['feature_vector']\n",
        "    for chord_id in results_intervals_theory.keys()\n",
        "]\n",
        "\n",
        "# Realiza MDS en los datos\n",
        "vector_encoding_mds4, matrix  = perform_mds(vector_encoding4)\n",
        "cg.plot_chords_with_selection(vector_encoding_mds4,matrix, chord_ids, datos,False,True )\n",
        "print(vector_encoding4)"
      ]
    },
    {
      "cell_type": "markdown",
      "metadata": {
        "id": "Q74HlNpIsOxa"
      },
      "source": [
        "# Funcion para  probar metricas y dispersiones v1"
      ]
    },
    {
      "cell_type": "code",
      "execution_count": null,
      "metadata": {
        "id": "2AiA5UHMQYHO"
      },
      "outputs": [],
      "source": [
        "# Vamos a definir primero una versión modificada de `perform_mds` que acepte una métrica como argumento.\n",
        "# Esta función será el núcleo para aplicar MDS con diferentes métricas.\n",
        "\n",
        "from sklearn.manifold import MDS\n",
        "from sklearn.metrics import pairwise_distances\n",
        "from scipy.spatial.distance import pdist, squareform\n",
        "from scipy.spatial.distance import cosine, mahalanobis\n",
        "from sklearn.decomposition import PCA\n",
        "import numpy as np\n",
        "\n",
        "def perform_mds2(data, metric='euclidean', n_components=2, p=2):\n",
        "    \"\"\"\n",
        "    Realiza la reducción de dimensionalidad utilizando MDS, calculando la matriz de disimilitud\n",
        "    basada en la métrica especificada.\n",
        "\n",
        "    Parámetros:\n",
        "    - data (np.array): Conjunto de datos.\n",
        "    - metric (str): La métrica de disimilitud a utilizar.\n",
        "    - n_components (int): El número de dimensiones en el espacio de destino.\n",
        "    - p (int): El parámetro de la métrica Minkowski para `pdist`.\n",
        "\n",
        "    Retorna:\n",
        "    - np.array: Las coordenadas en el espacio de destino.\n",
        "    - np.array: La matriz de disimilitud utilizada.\n",
        "    \"\"\"\n",
        "    data=np.array(data)\n",
        "    # Calcular la matriz de disimilitud basada en la métrica especificada\n",
        "    if metric in ['euclidean', 'cityblock', 'cosine', 'chebyshev', 'jaccard', 'hamming']:\n",
        "\n",
        "        if metric in ['jaccard', 'hamming']:\n",
        "            # Para Jaccard y Hamming, usamos sklearn\n",
        "            dissimilarity_matrix = pairwise_distances(data, metric=metric)\n",
        "        else:\n",
        "            # Para el resto de las métricas, usamos scipy\n",
        "            dissimilarity_matrix = squareform(pdist(data, metric=metric))\n",
        "    elif metric == 'mahalanobis':\n",
        "        # Para Mahalanobis, necesitamos calcular la matriz de inversión de covarianza\n",
        "        # Añadimos una pequeña regularización para asegurar la inversión\n",
        "        cov_inv = np.linalg.pinv(np.cov(data.T)\n",
        "        + np.eye(data.shape[1]) *15)\n",
        "        dissimilarity_matrix = squareform(pdist(data, metric=lambda u, v: mahalanobis(u, v, cov_inv)))\n",
        "    else:\n",
        "        raise ValueError(\"Métrica no soportada.\")\n",
        "\n",
        "    # Realizar MDS\n",
        "    mds = MDS(n_components=n_components, dissimilarity='precomputed', max_iter=30000, eps=1e-16)\n",
        "    val = mds.fit_transform(dissimilarity_matrix)\n",
        "    print(f\"Número de iteraciones: {mds.n_iter_}, Stress: {mds.stress_}\")\n",
        "    return val, dissimilarity_matrix\n",
        "\n",
        "# Nota: Las implementaciones completas y el código de prueba se proporcionarán después de la revisión.\n",
        "\n",
        "\n",
        "# Ahora, definiremos funciones auxiliares para calcular cada una de las medidas de dispersión.\n",
        "\n",
        "def calculate_cv(data):\n",
        "    \"\"\"\n",
        "    Calcula el Coeficiente de Variación (CV) para cada dimensión del conjunto de datos.\n",
        "\n",
        "    Args:\n",
        "    - data: Datos en el espacio de MDS (numpy array).\n",
        "\n",
        "    Returns:\n",
        "    - cv: Coeficiente de Variación para cada dimensión.\n",
        "    \"\"\"\n",
        "    std_dev = np.std(data, axis=0)\n",
        "    mean = np.mean(data, axis=0)\n",
        "    cv = std_dev / mean\n",
        "    return cv\n",
        "\n",
        "def calculate_distance_to_centroid(data):\n",
        "    \"\"\"\n",
        "    Calcula la distancia promedio al centroide para un conjunto de datos.\n",
        "\n",
        "    Args:\n",
        "    - data: Datos en el espacio de MDS (numpy array).\n",
        "\n",
        "    Returns:\n",
        "    - mean_distance: Distancia promedio al centroide.\n",
        "    \"\"\"\n",
        "    centroid = np.mean(data, axis=0)\n",
        "    distances = np.sqrt(np.sum((data - centroid)**2, axis=1))\n",
        "    mean_distance = np.mean(distances)\n",
        "    return mean_distance\n",
        "\n",
        "def calculate_pca_variance(data):\n",
        "    \"\"\"\n",
        "    Calcula la varianza explicada por cada componente principal después de aplicar PCA a los datos.\n",
        "\n",
        "    Args:\n",
        "    - data: Datos en el espacio de MDS (numpy array).\n",
        "\n",
        "    Returns:\n",
        "    - explained_variance: Varianza explicada por cada componente principal.\n",
        "    \"\"\"\n",
        "    pca = PCA(n_components=2)\n",
        "    pca.fit(data)\n",
        "    explained_variance = pca.explained_variance_ratio_\n",
        "    return explained_variance\n",
        "\n",
        "# Nota: Estas funciones son prototipos y pueden necesitar ajustes para integrarse con el resto del código y datos.\n",
        "\n",
        "# Las llamadas a estas funciones y su integración con el flujo de trabajo general se realizarán después.\n",
        "\n",
        "resultados1 = {\n",
        "    'euclidian': {\n",
        "        'C': {'CV': [], 'Desviacion_std': None, 'Varianza': []},\n",
        "        'D': {'CV': [], 'Desviacion_std': None, 'Varianza': []},\n",
        "        'E': {'CV': [], 'Desviacion_std': None, 'Varianza': []},\n",
        "        'F':  {'CV': [], 'Desviacion_std': None, 'Varianza': []},\n",
        "        'G':  {'CV': [], 'Desviacion_std': None, 'Varianza': []},\n",
        "        'A':  {'CV': [], 'Desviacion_std': None, 'Varianza': []},\n",
        "        'B':  {'CV': [], 'Desviacion_std': None, 'Varianza': []},\n",
        "\n",
        "    },\n",
        "    'citiblock': {\n",
        "        'C':  {'CV': [], 'Desviacion_std': None, 'Varianza': []},\n",
        "        'D':  {'CV': [], 'Desviacion_std': None, 'Varianza': []},\n",
        "        'E':  {'CV': [], 'Desviacion_std': None, 'Varianza': []},\n",
        "        'F':  {'CV': [], 'Desviacion_std': None, 'Varianza': []},\n",
        "        'G':  {'CV': [], 'Desviacion_std': None, 'Varianza': []},\n",
        "        'A':  {'CV': [], 'Desviacion_std': None, 'Varianza': []},\n",
        "        'B':  {'CV': [], 'Desviacion_std': None, 'Varianza': []},\n",
        "\n",
        "    },\n",
        "    'cosine': {\n",
        "        'C':  {'CV': [], 'Desviacion_std': None, 'Varianza': []},\n",
        "        'D':  {'CV': [], 'Desviacion_std': None, 'Varianza': []},\n",
        "        'E':  {'CV': [], 'Desviacion_std': None, 'Varianza': []},\n",
        "        'F':  {'CV': [], 'Desviacion_std': None, 'Varianza': []},\n",
        "        'G':  {'CV': [], 'Desviacion_std': None, 'Varianza': []},\n",
        "        'A':  {'CV': [], 'Desviacion_std': None, 'Varianza': []},\n",
        "        'B':  {'CV': [], 'Desviacion_std': None, 'Varianza': []},\n",
        "\n",
        "    },\n",
        "\n",
        "}\n",
        "\n",
        "import numpy as np\n",
        "import matplotlib.pyplot as plt\n",
        "\n",
        "def segment_and_calculate_and_visualize_metrics(mds_results):\n",
        "    \"\"\"\n",
        "    Segmenta los resultados de MDS por grupos de acordes, calcula medidas de dispersión para cada grupo,\n",
        "    proporciona visualizaciones gráficas de estas medidas, y compara las medidas de dispersión entre grupos de acordes.\n",
        "\n",
        "    Args:\n",
        "    - mds_results: Array de numpy con los resultados de MDS, asumiendo dos dimensiones.\n",
        "\n",
        "    Returns:\n",
        "    - Un diccionario con los resultados de las medidas de dispersión y visualizaciones para cada grupo de acordes.\n",
        "    \"\"\"\n",
        "    familias_nombres = ['C', 'D', 'E', 'F', 'G', 'A', 'B']\n",
        "    acordes_por_familia = 3\n",
        "    resultados = {nombre: {'Varianza': None, 'Desviación Estándar al Centroide': None, 'Distancia_media': None}\n",
        "                   for nombre in familias_nombres}\n",
        "\n",
        "    # Variables para el gráfico de barras\n",
        "    varianzas, desviaciones_std, distancias_medias = [], [], []\n",
        "\n",
        "    # Gráficos de dispersión por grupo\n",
        "    fig, axs = plt.subplots(1, len(familias_nombres), figsize=(20, 4), squeeze=False)\n",
        "\n",
        "    for i, nombre in enumerate(familias_nombres):\n",
        "        inicio = i * acordes_por_familia\n",
        "        fin = inicio + acordes_por_familia\n",
        "        datos_familia = mds_results[inicio:fin, :]\n",
        "\n",
        "        # Cálculos\n",
        "        centroide = np.mean(datos_familia, axis=0)\n",
        "        varianza = np.trace(np.cov(datos_familia, rowvar=False))\n",
        "        distancias_al_centroide = np.sqrt(np.sum((datos_familia - centroide) ** 2, axis=1))\n",
        "\n",
        "        #np.var(datos_familia, axis=0).mean()\n",
        "        desviacion_std = np.std(distancias_al_centroide)# Calculamos las distancias entre cada par de puntos y promediamos\n",
        "        distancias = np.sqrt(((datos_familia - datos_familia[:, np.newaxis]) ** 2).sum(axis=2))\n",
        "        # Solo tomamos la parte superior de la matriz de distancias para evitar duplicados\n",
        "        distancia_media = np.mean(distancias[np.triu_indices(acordes_por_familia, k=1)])\n",
        "\n",
        "        resultados[nombre]['Varianza'] = varianza\n",
        "        resultados[nombre]['Desviación Estándar al Centroide'] = desviacion_std\n",
        "        resultados[nombre]['Distancia_media'] = distancia_media\n",
        "\n",
        "        varianzas.append(varianza)\n",
        "        desviaciones_std.append(desviacion_std)\n",
        "        distancias_medias.append(distancia_media)\n",
        "\n",
        "        # Visualización de dispersión\n",
        "        axs[0, i].scatter(datos_familia[:, 0], datos_familia[:, 1], label=f'Acorde {nombre}')\n",
        "        axs[0, i].scatter(centroide[0], centroide[1], color='red', label='Centroide', zorder=5)\n",
        "        axs[0, i].set_title(f'Acorde {nombre}')\n",
        "        axs[0, i].legend()\n",
        "\n",
        "    plt.tight_layout()\n",
        "    plt.show()\n",
        "\n",
        "    # Gráfico de barras para comparación de medidas de dispersión\n",
        "    x = np.arange(len(familias_nombres))\n",
        "    width = 0.25\n",
        "\n",
        "    fig, ax = plt.subplots()\n",
        "    rects1 = ax.bar(x + width, varianzas, width, label='Varianza')\n",
        "    rects2 = ax.bar(x, desviaciones_std, width, label='Desviación Estándar al Centroide ')\n",
        "    rects3 = ax.bar(x - width, distancias_medias, width, label='Distancia Media')\n",
        "\n",
        "    ax.set_ylabel('Medidas')\n",
        "     # Usamos una escala lineal para el eje Y, pero establecemos un límite inferior pequeño para evitar la visualización de valores extremadamente pequeños como grandes.\n",
        "    ax.set_yscale('linear')\n",
        "    ax.set_ylim(bottom=1e-10)  # Ajustar según sea necesario basado en la magnitud de tus datos\n",
        "    ax.set_title('Comparación de Medidas de Dispersión por Grupo de Acordes')\n",
        "    ax.set_xticks(x)\n",
        "    ax.set_xticklabels(familias_nombres)\n",
        "    ax.legend()\n",
        "\n",
        "    fig.tight_layout()\n",
        "    plt.show()\n",
        "\n",
        "    return resultados\n",
        "\n",
        "\n",
        "\n",
        "\n",
        "# Para usar esta función, necesitarías tener los resultados de MDS en un array de numpy `mds_results`.\n",
        "# Aquí hay un ejemplo de cómo llamar a la función, asumiendo que `mds_coords` contiene los resultados de MDS:\n",
        "\n",
        "# resultados_por_familia = segment_and_calculate_metrics(mds_coords)\n",
        "\n",
        "# Nota: `mds_coords` debe ser reemplazado por tu variable real que contenga los resultados de MDS.\n",
        "# Esta función es un ejemplo y puede necesitar ajustes para adaptarse completamente a tus datos y requerimientos específicos.\n",
        "\n"
      ]
    },
    {
      "cell_type": "markdown",
      "metadata": {
        "id": "EDyaKEKbtGAC"
      },
      "source": [
        "# fucnion para probar metricas y dispersion v2"
      ]
    },
    {
      "cell_type": "code",
      "execution_count": null,
      "metadata": {
        "id": "-kZaWhLVsbD0"
      },
      "outputs": [],
      "source": [
        "import numpy as np\n",
        "import matplotlib.pyplot as plt\n",
        "\n",
        "def segment_and_calculate_and_visualize_metrics_original_space(mds_results):\n",
        "    \"\"\"\n",
        "    Segmenta los resultados por grupos de acordes en el espacio original, calcula medidas de dispersión para cada grupo,\n",
        "    proporciona visualizaciones gráficas de estas medidas, y compara las medidas de dispersión entre grupos de acordes.\n",
        "\n",
        "    Args:\n",
        "    - mds_results: Array de numpy con los resultados, asumiendo cualquier número de dimensiones.\n",
        "\n",
        "    Returns:\n",
        "    - Un diccionario con los resultados de las medidas de dispersión para cada grupo de acordes.\n",
        "    \"\"\"\n",
        "    familias_nombres = ['Do', 'Re', 'Mi', 'Fa', 'Sol', 'La', 'Si']\n",
        "    acordes_por_familia = 3\n",
        "    resultados = {nombre: {'Varianza': None, 'Desviacion_std': None, 'Distancia_media': None}\n",
        "                   for nombre in familias_nombres}\n",
        "\n",
        "    # Variables para el gráfico de barras\n",
        "    varianzas, desviaciones_std, distancias_medias = [], [], []\n",
        "\n",
        "    for i, nombre in enumerate(familias_nombres):\n",
        "        inicio = i * acordes_por_familia\n",
        "        fin = inicio + acordes_por_familia\n",
        "        datos_familia = mds_results[inicio:fin]\n",
        "\n",
        "        # Cálculos\n",
        "        centroide = np.mean(datos_familia, axis=0)\n",
        "\n",
        "       # Cálculo usando la matriz de covarianza\n",
        "        #cov_matrix = np.cov(datos_familia, rowvar=False)\n",
        "        #varianza = np.trace(cov_matrix)\n",
        "        #desviacion_std = np.sqrt(varianza / datos_familia.shape[1])  # Normalizar por el número de dimensiones\n",
        "        # Calculate the variance as the sum of variances of each dimension using sample variance (ddof=1)\n",
        "        #varianza = np.sum(np.var(datos_familia, axis=0))\n",
        "        varianza = np.trace(np.cov(datos_familia, rowvar=False))\n",
        "        distancias_al_centroide = np.sqrt(np.sum((datos_familia - centroide) ** 2, axis=1))\n",
        "        desviacion_std = np.std(distancias_al_centroide)\n",
        "        # Calculate the standard deviation as the square root of the variance\n",
        "        #desviacion_std = np.sqrt(varianza)\n",
        "        distancias = np.sqrt(np.sum((datos_familia[:, np.newaxis] - datos_familia) ** 2, axis=2))\n",
        "        distancia_media = np.mean(distancias[np.triu_indices(acordes_por_familia, k=1)])\n",
        "\n",
        "        resultados[nombre]['Varianza'] = varianza\n",
        "        resultados[nombre]['Desviación Estándar al Centroide'] = desviacion_std\n",
        "        resultados[nombre]['Distancia_media'] = distancia_media\n",
        "\n",
        "        varianzas.append(varianza)\n",
        "        desviaciones_std.append(desviacion_std)\n",
        "        distancias_medias.append(distancia_media)\n",
        "    x = np.arange(len(familias_nombres))  # the label locations\n",
        "    width = 0.35  # the width of the bars\n",
        "\n",
        "    # Gráfico de barras para la Varianza\n",
        "    fig1, ax1 = plt.subplots()\n",
        "    ax1.bar(x, varianzas, width, label='Varianza')\n",
        "    ax1.set_ylabel('Varianza')\n",
        "    ax1.set_title('Varianza por Grupo de Acordes')\n",
        "    ax1.set_xticks(x)\n",
        "    ax1.set_xticklabels(familias_nombres)\n",
        "    ax1.legend()\n",
        "    fig1.tight_layout()\n",
        "\n",
        "    # Gráfico de barras para la Desviación Estándar al Centroide\n",
        "    fig2, ax2 = plt.subplots()\n",
        "    ax2.bar(x, desviaciones_std, width, label='Desviación Estándar al Centroide', color='orange')\n",
        "    ax2.set_ylabel('Desviación Estándar al Centroide')\n",
        "    ax2.set_title('Desviación Estándar al Centroide por Grupo de Acordes')\n",
        "    ax2.set_xticks(x)\n",
        "    ax2.set_xticklabels(familias_nombres)\n",
        "    ax2.legend()\n",
        "    fig2.tight_layout()\n",
        "\n",
        "    # Gráfico de barras para la Distancia Media\n",
        "    fig3, ax3 = plt.subplots()\n",
        "    ax3.bar(x, distancias_medias, width, label='Distancia Media', color='green')\n",
        "    ax3.set_ylabel('Distancia Media')\n",
        "    ax3.set_title('Distancia Media por Grupo de Acordes')\n",
        "    ax3.set_xticks(x)\n",
        "    ax3.set_xticklabels(familias_nombres)\n",
        "    ax3.legend()\n",
        "    fig3.tight_layout()\n",
        "\n",
        "    # Mostrar los gráficos\n",
        "    plt.show()\n",
        "\n",
        "    return resultados\n",
        "\n"
      ]
    },
    {
      "cell_type": "code",
      "execution_count": null,
      "metadata": {
        "id": "FcPZTyC3pnJa"
      },
      "outputs": [],
      "source": [
        "\n",
        "\n",
        "\n",
        "# Llamada a la función adaptada\n",
        "#Dispersion_our = segment_and_calculate_and_visualize_metrics_original_space(np.array(vector_encoding5))"
      ]
    },
    {
      "cell_type": "code",
      "execution_count": null,
      "metadata": {
        "id": "6HNLvCrjrJwq"
      },
      "outputs": [],
      "source": [
        "Dispersion_Classic = segment_and_calculate_and_visualize_metrics(np.array(vector_encoding5))"
      ]
    },
    {
      "cell_type": "markdown",
      "metadata": {
        "id": "kGSs6vuMsteQ"
      },
      "source": [
        "# Experimento Clasico: Vector clasico con notas"
      ]
    },
    {
      "cell_type": "code",
      "execution_count": null,
      "metadata": {
        "colab": {
          "base_uri": "https://localhost:8080/",
          "height": 1000,
          "referenced_widgets": [
            "dd01af81a8144882b263a3d33b861874",
            "a9f8078bf67a4db39c6193eeb9c85efc",
            "e24be9e4dd214ac7895775b396329ea9",
            "fe4951b8aa644af2a57332c9c84f8b17"
          ]
        },
        "id": "T7rjkHJ6pXiJ",
        "outputId": "036c887f-8411-4791-e3ff-8f28b4eb6079"
      },
      "outputs": [
        {
          "name": "stderr",
          "output_type": "stream",
          "text": [
            "/usr/local/lib/python3.10/dist-packages/sklearn/manifold/_mds.py:299: FutureWarning:\n",
            "\n",
            "The default value of `normalized_stress` will change to `'auto'` in version 1.4. To suppress this warning, manually set the value of `normalized_stress`.\n",
            "\n",
            "/usr/local/lib/python3.10/dist-packages/sklearn/manifold/_mds.py:299: FutureWarning:\n",
            "\n",
            "The default value of `normalized_stress` will change to `'auto'` in version 1.4. To suppress this warning, manually set the value of `normalized_stress`.\n",
            "\n"
          ]
        },
        {
          "name": "stdout",
          "output_type": "stream",
          "text": [
            "108 12.774364157308778\n",
            "Número de iteraciones: 126, Stress: 0.8644960479062145\n",
            "['C', 'C/E', 'C/G', 'Dm', 'Dm/F', 'Dm/A', 'Em', 'Em/G', 'Em/B', 'F', 'F/A', 'F/C', 'G', 'G/B', 'G/D', 'Am', 'Am/C', 'Am/E', 'B°', 'B°/D', 'B°/F']\n"
          ]
        },
        {
          "data": {
            "application/vnd.jupyter.widget-view+json": {
              "model_id": "dd01af81a8144882b263a3d33b861874",
              "version_major": 2,
              "version_minor": 0
            },
            "text/plain": [
              "Dropdown(description='Chord ID:', options=(('Chord ID: chord_0, C', 'chord_0'), ('Chord ID: chord_1, C/E', 'ch…"
            ]
          },
          "metadata": {
            "application/vnd.jupyter.widget-view+json": {
              "colab": {
                "custom_widget_manager": {
                  "url": "https://ssl.gstatic.com/colaboratory-static/widgets/colab-cdn-widget-manager/2b70e893a8ba7c0f/manager.min.js"
                }
              }
            }
          },
          "output_type": "display_data"
        },
        {
          "data": {
            "application/vnd.jupyter.widget-view+json": {
              "model_id": "fe4951b8aa644af2a57332c9c84f8b17",
              "version_major": 2,
              "version_minor": 0
            },
            "text/plain": [
              "FigureWidget({\n",
              "    'data': [{'hoverinfo': 'text',\n",
              "              'hovertext': [Root: C<br>Bass: C<br>Octave: 5<br>Degree:\n",
              "                            1<br>Intervals: [4, 3], Root: C<br>Bass: E<br>Octave:\n",
              "                            5<br>Degree: 1<br>Intervals: [4, 3], Root: C<br>Bass:\n",
              "                            G<br>Octave: 5<br>Degree: 1<br>Intervals: [4, 3], Root:\n",
              "                            D<br>Bass: D<br>Octave: 5<br>Degree: 2<br>Intervals:\n",
              "                            [3, 4], Root: D<br>Bass: F<br>Octave: 5<br>Degree:\n",
              "                            2<br>Intervals: [3, 4], Root: D<br>Bass: A<br>Octave:\n",
              "                            5<br>Degree: 2<br>Intervals: [3, 4], Root: E<br>Bass:\n",
              "                            E<br>Octave: 5<br>Degree: 3<br>Intervals: [3, 4], Root:\n",
              "                            E<br>Bass: G<br>Octave: 5<br>Degree: 3<br>Intervals:\n",
              "                            [3, 4], Root: E<br>Bass: B<br>Octave: 5<br>Degree:\n",
              "                            3<br>Intervals: [3, 4], Root: F<br>Bass: F<br>Octave:\n",
              "                            5<br>Degree: 4<br>Intervals: [4, 3], Root: F<br>Bass:\n",
              "                            A<br>Octave: 5<br>Degree: 4<br>Intervals: [4, 3], Root:\n",
              "                            F<br>Bass: C<br>Octave: 5<br>Degree: 4<br>Intervals:\n",
              "                            [4, 3], Root: G<br>Bass: G<br>Octave: 5<br>Degree:\n",
              "                            5<br>Intervals: [4, 3], Root: G<br>Bass: B<br>Octave:\n",
              "                            5<br>Degree: 5<br>Intervals: [4, 3], Root: G<br>Bass:\n",
              "                            D<br>Octave: 5<br>Degree: 5<br>Intervals: [4, 3], Root:\n",
              "                            A<br>Bass: A<br>Octave: 5<br>Degree: 6<br>Intervals:\n",
              "                            [3, 4], Root: A<br>Bass: C<br>Octave: 5<br>Degree:\n",
              "                            6<br>Intervals: [3, 4], Root: A<br>Bass: E<br>Octave:\n",
              "                            5<br>Degree: 6<br>Intervals: [3, 4], Root: B<br>Bass:\n",
              "                            B<br>Octave: 5<br>Degree: 7<br>Intervals: [3, 3], Root:\n",
              "                            B<br>Bass: D<br>Octave: 5<br>Degree: 7<br>Intervals:\n",
              "                            [3, 3], Root: B<br>Bass: F<br>Octave: 5<br>Degree:\n",
              "                            7<br>Intervals: [3, 3]],\n",
              "              'marker': {'color': [red, red, red, blue, blue, blue, blue, blue,\n",
              "                                   blue, red, red, red, red, red, red, blue, blue,\n",
              "                                   blue, green, green, green],\n",
              "                         'size': 13,\n",
              "                         'symbol': [star-square, star-square, star-square, star-\n",
              "                                    triangle-down, star-triangle-down, star-\n",
              "                                    triangle-down, star-triangle-down, star-\n",
              "                                    triangle-down, star-triangle-down, star-square,\n",
              "                                    star-square, star-square, star-square, star-\n",
              "                                    square, star-square, star-triangle-down, star-\n",
              "                                    triangle-down, star-triangle-down, circle,\n",
              "                                    circle, circle]},\n",
              "              'mode': 'markers+text',\n",
              "              'text': [C, C/E, C/G, Dm, Dm/F, Dm/A, Em, Em/G, Em/B, F, F/A, F/C,\n",
              "                       G, G/B, G/D, Am, Am/C, Am/E, B°, B°/D, B°/F],\n",
              "              'textposition': 'top center',\n",
              "              'type': 'scatter',\n",
              "              'uid': 'c6568ca1-fa03-4ada-91b2-4a249c24cf7b',\n",
              "              'x': array([ 0.12393093,  0.12393093,  0.12393093, -0.26114391, -0.26114391,\n",
              "                          -0.26114391,  0.31992777,  0.31992777,  0.31992777, -0.33107926,\n",
              "                          -0.33107926, -0.33107926,  0.27624352,  0.27624352,  0.27624352,\n",
              "                          -0.15621607, -0.15621607, -0.15621607,  0.02833701,  0.02833701,\n",
              "                           0.02833701]),\n",
              "              'y': array([-0.32128699, -0.32128699, -0.32128699,  0.16070698,  0.16070698,\n",
              "                           0.16070698, -0.12521713, -0.12521713, -0.12521713, -0.09175857,\n",
              "                          -0.09175857, -0.09175857,  0.13308791,  0.13308791,  0.13308791,\n",
              "                          -0.30688881, -0.30688881, -0.30688881,  0.55135661,  0.55135661,\n",
              "                           0.55135661])}],\n",
              "    'layout': {'autosize': False,\n",
              "               'height': 800,\n",
              "               'showlegend': False,\n",
              "               'template': '...',\n",
              "               'title': {'text': 'Chord Representation (2D)'},\n",
              "               'width': 800,\n",
              "               'xaxis': {'autorange': False, 'range': [-1.3310792563510367, 1.319927774056562], 'title': {'text': ''}},\n",
              "               'yaxis': {'autorange': False,\n",
              "                         'range': [-1.3212869899747988, 1.551356610756709],\n",
              "                         'scaleanchor': 'x',\n",
              "                         'scaleratio': 1,\n",
              "                         'title': {'text': ''}}}\n",
              "})"
            ]
          },
          "metadata": {
            "application/vnd.jupyter.widget-view+json": {
              "colab": {
                "custom_widget_manager": {
                  "url": "https://ssl.gstatic.com/colaboratory-static/widgets/colab-cdn-widget-manager/2b70e893a8ba7c0f/manager.min.js"
                }
              }
            }
          },
          "output_type": "display_data"
        },
        {
          "data": {
            "text/html": [
              "<html>\n",
              "<head><meta charset=\"utf-8\" /></head>\n",
              "<body>\n",
              "    <div>            <script src=\"https://cdnjs.cloudflare.com/ajax/libs/mathjax/2.7.5/MathJax.js?config=TeX-AMS-MML_SVG\"></script><script type=\"text/javascript\">if (window.MathJax && window.MathJax.Hub && window.MathJax.Hub.Config) {window.MathJax.Hub.Config({SVG: {font: \"STIX-Web\"}});}</script>                <script type=\"text/javascript\">window.PlotlyConfig = {MathJaxConfig: 'local'};</script>\n",
              "        <script charset=\"utf-8\" src=\"https://cdn.plot.ly/plotly-2.24.1.min.js\"></script>                <div id=\"a6d78afb-414f-49f4-8c7d-3c3cce21031c\" class=\"plotly-graph-div\" style=\"height:800px; width:800px;\"></div>            <script type=\"text/javascript\">                                    window.PLOTLYENV=window.PLOTLYENV || {};                                    if (document.getElementById(\"a6d78afb-414f-49f4-8c7d-3c3cce21031c\")) {                    Plotly.newPlot(                        \"a6d78afb-414f-49f4-8c7d-3c3cce21031c\",                        [{\"coloraxis\":\"coloraxis\",\"name\":\"0\",\"x\":[\"C\",\"C\\u002fE\",\"C\\u002fG\",\"Dm\",\"Dm\\u002fF\",\"Dm\\u002fA\",\"Em\",\"Em\\u002fG\",\"Em\\u002fB\",\"F\",\"F\\u002fA\",\"F\\u002fC\",\"G\",\"G\\u002fB\",\"G\\u002fD\",\"Am\",\"Am\\u002fC\",\"Am\\u002fE\",\"B\\u00b0\",\"B\\u00b0\\u002fD\",\"B\\u00b0\\u002fF\"],\"y\":[\"C\",\"C\\u002fE\",\"C\\u002fG\",\"Dm\",\"Dm\\u002fF\",\"Dm\\u002fA\",\"Em\",\"Em\\u002fG\",\"Em\\u002fB\",\"F\",\"F\\u002fA\",\"F\\u002fC\",\"G\",\"G\\u002fB\",\"G\\u002fD\",\"Am\",\"Am\\u002fC\",\"Am\\u002fE\",\"B\\u00b0\",\"B\\u00b0\\u002fD\",\"B\\u00b0\\u002fF\"],\"z\":[[0.0,0.0,0.0,0.6183158895746688,0.6183158895746688,0.6183158895746688,0.35990903740185703,0.35990903740185703,0.35990903740185703,0.5052338617407263,0.5052338617407263,0.5052338617407263,0.5053024164360777,0.5053024164360777,0.5053024164360777,0.3598765270412585,0.3598765270412585,0.3598765270412585,0.7909698347851366,0.7909698347851366,0.7909698347851366],[0.0,0.0,0.0,0.6183158895746688,0.6183158895746688,0.6183158895746688,0.35990903740185703,0.35990903740185703,0.35990903740185703,0.5052338617407263,0.5052338617407263,0.5052338617407263,0.5053024164360777,0.5053024164360777,0.5053024164360777,0.3598765270412585,0.3598765270412585,0.3598765270412585,0.7909698347851366,0.7909698347851366,0.7909698347851366],[0.0,0.0,0.0,0.6183158895746688,0.6183158895746688,0.6183158895746688,0.35990903740185703,0.35990903740185703,0.35990903740185703,0.5052338617407263,0.5052338617407263,0.5052338617407263,0.5053024164360777,0.5053024164360777,0.5053024164360777,0.3598765270412585,0.3598765270412585,0.3598765270412585,0.7909698347851366,0.7909698347851366,0.7909698347851366],[0.6183158895746688,0.6183158895746688,0.6183158895746688,0.0,0.0,0.0,0.6182594934263099,0.6182594934263099,0.6182594934263099,0.35990839684768017,0.35990839684768017,0.35990839684768017,0.5052107031340421,0.5052107031340421,0.5052107031340421,0.5053024164360777,0.5053024164360777,0.5053024164360777,0.6184775037425454,0.6184775037425454,0.6184775037425454],[0.6183158895746688,0.6183158895746688,0.6183158895746688,0.0,0.0,0.0,0.6182594934263099,0.6182594934263099,0.6182594934263099,0.35990839684768017,0.35990839684768017,0.35990839684768017,0.5052107031340421,0.5052107031340421,0.5052107031340421,0.5053024164360777,0.5053024164360777,0.5053024164360777,0.6184775037425454,0.6184775037425454,0.6184775037425454],[0.6183158895746688,0.6183158895746688,0.6183158895746688,0.0,0.0,0.0,0.6182594934263099,0.6182594934263099,0.6182594934263099,0.35990839684768017,0.35990839684768017,0.35990839684768017,0.5052107031340421,0.5052107031340421,0.5052107031340421,0.5053024164360777,0.5053024164360777,0.5053024164360777,0.6184775037425454,0.6184775037425454,0.6184775037425454],[0.35990903740185703,0.35990903740185703,0.35990903740185703,0.6182594934263099,0.6182594934263099,0.6182594934263099,0.0,0.0,0.0,0.6182409415475233,0.6182409415475233,0.6182409415475233,0.35990839684768,0.35990839684768,0.35990839684768,0.5052338617407258,0.5052338617407258,0.5052338617407258,0.7095392230255386,0.7095392230255386,0.7095392230255386],[0.35990903740185703,0.35990903740185703,0.35990903740185703,0.6182594934263099,0.6182594934263099,0.6182594934263099,0.0,0.0,0.0,0.6182409415475233,0.6182409415475233,0.6182409415475233,0.35990839684768,0.35990839684768,0.35990839684768,0.5052338617407258,0.5052338617407258,0.5052338617407258,0.7095392230255386,0.7095392230255386,0.7095392230255386],[0.35990903740185703,0.35990903740185703,0.35990903740185703,0.6182594934263099,0.6182594934263099,0.6182594934263099,0.0,0.0,0.0,0.6182409415475233,0.6182409415475233,0.6182409415475233,0.35990839684768,0.35990839684768,0.35990839684768,0.5052338617407258,0.5052338617407258,0.5052338617407258,0.7095392230255386,0.7095392230255386,0.7095392230255386],[0.5052338617407263,0.5052338617407263,0.5052338617407263,0.35990839684768017,0.35990839684768017,0.35990839684768017,0.6182409415475233,0.6182409415475233,0.6182409415475233,0.0,0.0,0.0,0.6182594934263104,0.6182594934263104,0.6182594934263104,0.3599090374018573,0.3599090374018573,0.3599090374018573,0.7095392230255388,0.7095392230255388,0.7095392230255388],[0.5052338617407263,0.5052338617407263,0.5052338617407263,0.35990839684768017,0.35990839684768017,0.35990839684768017,0.6182409415475233,0.6182409415475233,0.6182409415475233,0.0,0.0,0.0,0.6182594934263104,0.6182594934263104,0.6182594934263104,0.3599090374018573,0.3599090374018573,0.3599090374018573,0.7095392230255388,0.7095392230255388,0.7095392230255388],[0.5052338617407263,0.5052338617407263,0.5052338617407263,0.35990839684768017,0.35990839684768017,0.35990839684768017,0.6182409415475233,0.6182409415475233,0.6182409415475233,0.0,0.0,0.0,0.6182594934263104,0.6182594934263104,0.6182594934263104,0.3599090374018573,0.3599090374018573,0.3599090374018573,0.7095392230255388,0.7095392230255388,0.7095392230255388],[0.5053024164360777,0.5053024164360777,0.5053024164360777,0.5052107031340421,0.5052107031340421,0.5052107031340421,0.35990839684768,0.35990839684768,0.35990839684768,0.6182594934263104,0.6182594934263104,0.6182594934263104,0.0,0.0,0.0,0.6183158895746688,0.6183158895746688,0.6183158895746688,0.6184775037425454,0.6184775037425454,0.6184775037425454],[0.5053024164360777,0.5053024164360777,0.5053024164360777,0.5052107031340421,0.5052107031340421,0.5052107031340421,0.35990839684768,0.35990839684768,0.35990839684768,0.6182594934263104,0.6182594934263104,0.6182594934263104,0.0,0.0,0.0,0.6183158895746688,0.6183158895746688,0.6183158895746688,0.6184775037425454,0.6184775037425454,0.6184775037425454],[0.5053024164360777,0.5053024164360777,0.5053024164360777,0.5052107031340421,0.5052107031340421,0.5052107031340421,0.35990839684768,0.35990839684768,0.35990839684768,0.6182594934263104,0.6182594934263104,0.6182594934263104,0.0,0.0,0.0,0.6183158895746688,0.6183158895746688,0.6183158895746688,0.6184775037425454,0.6184775037425454,0.6184775037425454],[0.3598765270412585,0.3598765270412585,0.3598765270412585,0.5053024164360777,0.5053024164360777,0.5053024164360777,0.5052338617407258,0.5052338617407258,0.5052338617407258,0.3599090374018573,0.3599090374018573,0.3599090374018573,0.6183158895746688,0.6183158895746688,0.6183158895746688,0.0,0.0,0.0,0.7909698347851365,0.7909698347851365,0.7909698347851365],[0.3598765270412585,0.3598765270412585,0.3598765270412585,0.5053024164360777,0.5053024164360777,0.5053024164360777,0.5052338617407258,0.5052338617407258,0.5052338617407258,0.3599090374018573,0.3599090374018573,0.3599090374018573,0.6183158895746688,0.6183158895746688,0.6183158895746688,0.0,0.0,0.0,0.7909698347851365,0.7909698347851365,0.7909698347851365],[0.3598765270412585,0.3598765270412585,0.3598765270412585,0.5053024164360777,0.5053024164360777,0.5053024164360777,0.5052338617407258,0.5052338617407258,0.5052338617407258,0.3599090374018573,0.3599090374018573,0.3599090374018573,0.6183158895746688,0.6183158895746688,0.6183158895746688,0.0,0.0,0.0,0.7909698347851365,0.7909698347851365,0.7909698347851365],[0.7909698347851366,0.7909698347851366,0.7909698347851366,0.6184775037425454,0.6184775037425454,0.6184775037425454,0.7095392230255386,0.7095392230255386,0.7095392230255386,0.7095392230255388,0.7095392230255388,0.7095392230255388,0.6184775037425454,0.6184775037425454,0.6184775037425454,0.7909698347851365,0.7909698347851365,0.7909698347851365,0.0,0.0,0.0],[0.7909698347851366,0.7909698347851366,0.7909698347851366,0.6184775037425454,0.6184775037425454,0.6184775037425454,0.7095392230255386,0.7095392230255386,0.7095392230255386,0.7095392230255388,0.7095392230255388,0.7095392230255388,0.6184775037425454,0.6184775037425454,0.6184775037425454,0.7909698347851365,0.7909698347851365,0.7909698347851365,0.0,0.0,0.0],[0.7909698347851366,0.7909698347851366,0.7909698347851366,0.6184775037425454,0.6184775037425454,0.6184775037425454,0.7095392230255386,0.7095392230255386,0.7095392230255386,0.7095392230255388,0.7095392230255388,0.7095392230255388,0.6184775037425454,0.6184775037425454,0.6184775037425454,0.7909698347851365,0.7909698347851365,0.7909698347851365,0.0,0.0,0.0]],\"type\":\"heatmap\",\"xaxis\":\"x\",\"yaxis\":\"y\",\"hovertemplate\":\"x: %{x}\\u003cbr\\u003ey: %{y}\\u003cbr\\u003eDissimilarity: %{z}\\u003cextra\\u003e\\u003c\\u002fextra\\u003e\"}],                        {\"template\":{\"data\":{\"histogram2dcontour\":[{\"type\":\"histogram2dcontour\",\"colorbar\":{\"outlinewidth\":0,\"ticks\":\"\"},\"colorscale\":[[0.0,\"#0d0887\"],[0.1111111111111111,\"#46039f\"],[0.2222222222222222,\"#7201a8\"],[0.3333333333333333,\"#9c179e\"],[0.4444444444444444,\"#bd3786\"],[0.5555555555555556,\"#d8576b\"],[0.6666666666666666,\"#ed7953\"],[0.7777777777777778,\"#fb9f3a\"],[0.8888888888888888,\"#fdca26\"],[1.0,\"#f0f921\"]]}],\"choropleth\":[{\"type\":\"choropleth\",\"colorbar\":{\"outlinewidth\":0,\"ticks\":\"\"}}],\"histogram2d\":[{\"type\":\"histogram2d\",\"colorbar\":{\"outlinewidth\":0,\"ticks\":\"\"},\"colorscale\":[[0.0,\"#0d0887\"],[0.1111111111111111,\"#46039f\"],[0.2222222222222222,\"#7201a8\"],[0.3333333333333333,\"#9c179e\"],[0.4444444444444444,\"#bd3786\"],[0.5555555555555556,\"#d8576b\"],[0.6666666666666666,\"#ed7953\"],[0.7777777777777778,\"#fb9f3a\"],[0.8888888888888888,\"#fdca26\"],[1.0,\"#f0f921\"]]}],\"heatmap\":[{\"type\":\"heatmap\",\"colorbar\":{\"outlinewidth\":0,\"ticks\":\"\"},\"colorscale\":[[0.0,\"#0d0887\"],[0.1111111111111111,\"#46039f\"],[0.2222222222222222,\"#7201a8\"],[0.3333333333333333,\"#9c179e\"],[0.4444444444444444,\"#bd3786\"],[0.5555555555555556,\"#d8576b\"],[0.6666666666666666,\"#ed7953\"],[0.7777777777777778,\"#fb9f3a\"],[0.8888888888888888,\"#fdca26\"],[1.0,\"#f0f921\"]]}],\"heatmapgl\":[{\"type\":\"heatmapgl\",\"colorbar\":{\"outlinewidth\":0,\"ticks\":\"\"},\"colorscale\":[[0.0,\"#0d0887\"],[0.1111111111111111,\"#46039f\"],[0.2222222222222222,\"#7201a8\"],[0.3333333333333333,\"#9c179e\"],[0.4444444444444444,\"#bd3786\"],[0.5555555555555556,\"#d8576b\"],[0.6666666666666666,\"#ed7953\"],[0.7777777777777778,\"#fb9f3a\"],[0.8888888888888888,\"#fdca26\"],[1.0,\"#f0f921\"]]}],\"contourcarpet\":[{\"type\":\"contourcarpet\",\"colorbar\":{\"outlinewidth\":0,\"ticks\":\"\"}}],\"contour\":[{\"type\":\"contour\",\"colorbar\":{\"outlinewidth\":0,\"ticks\":\"\"},\"colorscale\":[[0.0,\"#0d0887\"],[0.1111111111111111,\"#46039f\"],[0.2222222222222222,\"#7201a8\"],[0.3333333333333333,\"#9c179e\"],[0.4444444444444444,\"#bd3786\"],[0.5555555555555556,\"#d8576b\"],[0.6666666666666666,\"#ed7953\"],[0.7777777777777778,\"#fb9f3a\"],[0.8888888888888888,\"#fdca26\"],[1.0,\"#f0f921\"]]}],\"surface\":[{\"type\":\"surface\",\"colorbar\":{\"outlinewidth\":0,\"ticks\":\"\"},\"colorscale\":[[0.0,\"#0d0887\"],[0.1111111111111111,\"#46039f\"],[0.2222222222222222,\"#7201a8\"],[0.3333333333333333,\"#9c179e\"],[0.4444444444444444,\"#bd3786\"],[0.5555555555555556,\"#d8576b\"],[0.6666666666666666,\"#ed7953\"],[0.7777777777777778,\"#fb9f3a\"],[0.8888888888888888,\"#fdca26\"],[1.0,\"#f0f921\"]]}],\"mesh3d\":[{\"type\":\"mesh3d\",\"colorbar\":{\"outlinewidth\":0,\"ticks\":\"\"}}],\"scatter\":[{\"fillpattern\":{\"fillmode\":\"overlay\",\"size\":10,\"solidity\":0.2},\"type\":\"scatter\"}],\"parcoords\":[{\"type\":\"parcoords\",\"line\":{\"colorbar\":{\"outlinewidth\":0,\"ticks\":\"\"}}}],\"scatterpolargl\":[{\"type\":\"scatterpolargl\",\"marker\":{\"colorbar\":{\"outlinewidth\":0,\"ticks\":\"\"}}}],\"bar\":[{\"error_x\":{\"color\":\"#2a3f5f\"},\"error_y\":{\"color\":\"#2a3f5f\"},\"marker\":{\"line\":{\"color\":\"#E5ECF6\",\"width\":0.5},\"pattern\":{\"fillmode\":\"overlay\",\"size\":10,\"solidity\":0.2}},\"type\":\"bar\"}],\"scattergeo\":[{\"type\":\"scattergeo\",\"marker\":{\"colorbar\":{\"outlinewidth\":0,\"ticks\":\"\"}}}],\"scatterpolar\":[{\"type\":\"scatterpolar\",\"marker\":{\"colorbar\":{\"outlinewidth\":0,\"ticks\":\"\"}}}],\"histogram\":[{\"marker\":{\"pattern\":{\"fillmode\":\"overlay\",\"size\":10,\"solidity\":0.2}},\"type\":\"histogram\"}],\"scattergl\":[{\"type\":\"scattergl\",\"marker\":{\"colorbar\":{\"outlinewidth\":0,\"ticks\":\"\"}}}],\"scatter3d\":[{\"type\":\"scatter3d\",\"line\":{\"colorbar\":{\"outlinewidth\":0,\"ticks\":\"\"}},\"marker\":{\"colorbar\":{\"outlinewidth\":0,\"ticks\":\"\"}}}],\"scattermapbox\":[{\"type\":\"scattermapbox\",\"marker\":{\"colorbar\":{\"outlinewidth\":0,\"ticks\":\"\"}}}],\"scatterternary\":[{\"type\":\"scatterternary\",\"marker\":{\"colorbar\":{\"outlinewidth\":0,\"ticks\":\"\"}}}],\"scattercarpet\":[{\"type\":\"scattercarpet\",\"marker\":{\"colorbar\":{\"outlinewidth\":0,\"ticks\":\"\"}}}],\"carpet\":[{\"aaxis\":{\"endlinecolor\":\"#2a3f5f\",\"gridcolor\":\"white\",\"linecolor\":\"white\",\"minorgridcolor\":\"white\",\"startlinecolor\":\"#2a3f5f\"},\"baxis\":{\"endlinecolor\":\"#2a3f5f\",\"gridcolor\":\"white\",\"linecolor\":\"white\",\"minorgridcolor\":\"white\",\"startlinecolor\":\"#2a3f5f\"},\"type\":\"carpet\"}],\"table\":[{\"cells\":{\"fill\":{\"color\":\"#EBF0F8\"},\"line\":{\"color\":\"white\"}},\"header\":{\"fill\":{\"color\":\"#C8D4E3\"},\"line\":{\"color\":\"white\"}},\"type\":\"table\"}],\"barpolar\":[{\"marker\":{\"line\":{\"color\":\"#E5ECF6\",\"width\":0.5},\"pattern\":{\"fillmode\":\"overlay\",\"size\":10,\"solidity\":0.2}},\"type\":\"barpolar\"}],\"pie\":[{\"automargin\":true,\"type\":\"pie\"}]},\"layout\":{\"autotypenumbers\":\"strict\",\"colorway\":[\"#636efa\",\"#EF553B\",\"#00cc96\",\"#ab63fa\",\"#FFA15A\",\"#19d3f3\",\"#FF6692\",\"#B6E880\",\"#FF97FF\",\"#FECB52\"],\"font\":{\"color\":\"#2a3f5f\"},\"hovermode\":\"closest\",\"hoverlabel\":{\"align\":\"left\"},\"paper_bgcolor\":\"white\",\"plot_bgcolor\":\"#E5ECF6\",\"polar\":{\"bgcolor\":\"#E5ECF6\",\"angularaxis\":{\"gridcolor\":\"white\",\"linecolor\":\"white\",\"ticks\":\"\"},\"radialaxis\":{\"gridcolor\":\"white\",\"linecolor\":\"white\",\"ticks\":\"\"}},\"ternary\":{\"bgcolor\":\"#E5ECF6\",\"aaxis\":{\"gridcolor\":\"white\",\"linecolor\":\"white\",\"ticks\":\"\"},\"baxis\":{\"gridcolor\":\"white\",\"linecolor\":\"white\",\"ticks\":\"\"},\"caxis\":{\"gridcolor\":\"white\",\"linecolor\":\"white\",\"ticks\":\"\"}},\"coloraxis\":{\"colorbar\":{\"outlinewidth\":0,\"ticks\":\"\"}},\"colorscale\":{\"sequential\":[[0.0,\"#0d0887\"],[0.1111111111111111,\"#46039f\"],[0.2222222222222222,\"#7201a8\"],[0.3333333333333333,\"#9c179e\"],[0.4444444444444444,\"#bd3786\"],[0.5555555555555556,\"#d8576b\"],[0.6666666666666666,\"#ed7953\"],[0.7777777777777778,\"#fb9f3a\"],[0.8888888888888888,\"#fdca26\"],[1.0,\"#f0f921\"]],\"sequentialminus\":[[0.0,\"#0d0887\"],[0.1111111111111111,\"#46039f\"],[0.2222222222222222,\"#7201a8\"],[0.3333333333333333,\"#9c179e\"],[0.4444444444444444,\"#bd3786\"],[0.5555555555555556,\"#d8576b\"],[0.6666666666666666,\"#ed7953\"],[0.7777777777777778,\"#fb9f3a\"],[0.8888888888888888,\"#fdca26\"],[1.0,\"#f0f921\"]],\"diverging\":[[0,\"#8e0152\"],[0.1,\"#c51b7d\"],[0.2,\"#de77ae\"],[0.3,\"#f1b6da\"],[0.4,\"#fde0ef\"],[0.5,\"#f7f7f7\"],[0.6,\"#e6f5d0\"],[0.7,\"#b8e186\"],[0.8,\"#7fbc41\"],[0.9,\"#4d9221\"],[1,\"#276419\"]]},\"xaxis\":{\"gridcolor\":\"white\",\"linecolor\":\"white\",\"ticks\":\"\",\"title\":{\"standoff\":15},\"zerolinecolor\":\"white\",\"automargin\":true,\"zerolinewidth\":2},\"yaxis\":{\"gridcolor\":\"white\",\"linecolor\":\"white\",\"ticks\":\"\",\"title\":{\"standoff\":15},\"zerolinecolor\":\"white\",\"automargin\":true,\"zerolinewidth\":2},\"scene\":{\"xaxis\":{\"backgroundcolor\":\"#E5ECF6\",\"gridcolor\":\"white\",\"linecolor\":\"white\",\"showbackground\":true,\"ticks\":\"\",\"zerolinecolor\":\"white\",\"gridwidth\":2},\"yaxis\":{\"backgroundcolor\":\"#E5ECF6\",\"gridcolor\":\"white\",\"linecolor\":\"white\",\"showbackground\":true,\"ticks\":\"\",\"zerolinecolor\":\"white\",\"gridwidth\":2},\"zaxis\":{\"backgroundcolor\":\"#E5ECF6\",\"gridcolor\":\"white\",\"linecolor\":\"white\",\"showbackground\":true,\"ticks\":\"\",\"zerolinecolor\":\"white\",\"gridwidth\":2}},\"shapedefaults\":{\"line\":{\"color\":\"#2a3f5f\"}},\"annotationdefaults\":{\"arrowcolor\":\"#2a3f5f\",\"arrowhead\":0,\"arrowwidth\":1},\"geo\":{\"bgcolor\":\"white\",\"landcolor\":\"#E5ECF6\",\"subunitcolor\":\"white\",\"showland\":true,\"showlakes\":true,\"lakecolor\":\"white\"},\"title\":{\"x\":0.05},\"mapbox\":{\"style\":\"light\"}}},\"xaxis\":{\"anchor\":\"y\",\"domain\":[0.0,1.0],\"scaleanchor\":\"y\",\"constrain\":\"domain\"},\"yaxis\":{\"anchor\":\"x\",\"domain\":[0.0,1.0],\"autorange\":\"reversed\",\"constrain\":\"domain\"},\"coloraxis\":{\"colorbar\":{\"title\":{\"text\":\"Dissimilarity\"},\"x\":1.1,\"len\":0.55},\"colorscale\":[[0.0,\"#0d0887\"],[0.1111111111111111,\"#46039f\"],[0.2222222222222222,\"#7201a8\"],[0.3333333333333333,\"#9c179e\"],[0.4444444444444444,\"#bd3786\"],[0.5555555555555556,\"#d8576b\"],[0.6666666666666666,\"#ed7953\"],[0.7777777777777778,\"#fb9f3a\"],[0.8888888888888888,\"#fdca26\"],[1.0,\"#f0f921\"]]},\"margin\":{\"t\":100,\"l\":50,\"r\":50,\"b\":100,\"pad\":4},\"autosize\":false,\"width\":800,\"height\":800},                        {\"responsive\": true}                    ).then(function(){\n",
              "                            \n",
              "var gd = document.getElementById('a6d78afb-414f-49f4-8c7d-3c3cce21031c');\n",
              "var x = new MutationObserver(function (mutations, observer) {{\n",
              "        var display = window.getComputedStyle(gd).display;\n",
              "        if (!display || display === 'none') {{\n",
              "            console.log([gd, 'removed!']);\n",
              "            Plotly.purge(gd);\n",
              "            observer.disconnect();\n",
              "        }}\n",
              "}});\n",
              "\n",
              "// Listen for the removal of the full notebook cells\n",
              "var notebookContainer = gd.closest('#notebook-container');\n",
              "if (notebookContainer) {{\n",
              "    x.observe(notebookContainer, {childList: true});\n",
              "}}\n",
              "\n",
              "// Listen for the clearing of the current output cell\n",
              "var outputEl = gd.closest('.output');\n",
              "if (outputEl) {{\n",
              "    x.observe(outputEl, {childList: true});\n",
              "}}\n",
              "\n",
              "                        })                };                            </script>        </div>\n",
              "</body>\n",
              "</html>"
            ]
          },
          "metadata": {},
          "output_type": "display_data"
        },
        {
          "name": "stdout",
          "output_type": "stream",
          "text": [
            "[0, 0, 1, 1, 1, 0, 1, 0, 0, 0, 1, 0, 0, 1, 0, 0, 0, 0]\n",
            "[0, 0, 1, 1, 1, 0, 1, 0, 0, 0, 1, 0, 0, 1, 0, 0, 0, 0]\n",
            "[0, 0, 1, 1, 1, 0, 1, 0, 0, 0, 1, 0, 0, 1, 0, 0, 0, 0]\n",
            "[0, 0, 1, 1, 1, 0, 0, 0, 1, 0, 0, 1, 0, 0, 0, 1, 0, 0]\n",
            "[0, 0, 1, 1, 1, 0, 0, 0, 1, 0, 0, 1, 0, 0, 0, 1, 0, 0]\n",
            "[0, 0, 1, 1, 1, 0, 0, 0, 1, 0, 0, 1, 0, 0, 0, 1, 0, 0]\n",
            "[0, 0, 1, 1, 1, 0, 0, 0, 0, 0, 1, 0, 0, 1, 0, 0, 0, 1]\n",
            "[0, 0, 1, 1, 1, 0, 0, 0, 0, 0, 1, 0, 0, 1, 0, 0, 0, 1]\n",
            "[0, 0, 1, 1, 1, 0, 0, 0, 0, 0, 1, 0, 0, 1, 0, 0, 0, 1]\n",
            "[0, 0, 1, 1, 1, 0, 1, 0, 0, 0, 0, 1, 0, 0, 0, 1, 0, 0]\n",
            "[0, 0, 1, 1, 1, 0, 1, 0, 0, 0, 0, 1, 0, 0, 0, 1, 0, 0]\n",
            "[0, 0, 1, 1, 1, 0, 1, 0, 0, 0, 0, 1, 0, 0, 0, 1, 0, 0]\n",
            "[0, 0, 1, 1, 1, 0, 0, 0, 1, 0, 0, 0, 0, 1, 0, 0, 0, 1]\n",
            "[0, 0, 1, 1, 1, 0, 0, 0, 1, 0, 0, 0, 0, 1, 0, 0, 0, 1]\n",
            "[0, 0, 1, 1, 1, 0, 0, 0, 1, 0, 0, 0, 0, 1, 0, 0, 0, 1]\n",
            "[0, 0, 1, 1, 1, 0, 1, 0, 0, 0, 1, 0, 0, 0, 0, 1, 0, 0]\n",
            "[0, 0, 1, 1, 1, 0, 1, 0, 0, 0, 1, 0, 0, 0, 0, 1, 0, 0]\n",
            "[0, 0, 1, 1, 1, 0, 1, 0, 0, 0, 1, 0, 0, 0, 0, 1, 0, 0]\n",
            "[0, 0, 2, 0, 0, 1, 0, 0, 1, 0, 0, 1, 0, 0, 0, 0, 0, 1]\n",
            "[0, 0, 2, 0, 0, 1, 0, 0, 1, 0, 0, 1, 0, 0, 0, 0, 0, 1]\n",
            "[0, 0, 2, 0, 0, 1, 0, 0, 1, 0, 0, 1, 0, 0, 0, 0, 0, 1]\n"
          ]
        },
        {
          "data": {
            "image/png": "[encoded data removed]",
            "text/plain": [
              "<Figure size 640x480 with 1 Axes>"
            ]
          },
          "metadata": {},
          "output_type": "display_data"
        }
      ],
      "source": [
        "\n",
        "\n",
        "vector_encoding3 = [\n",
        "\n",
        "      #[1.5*x for x in results_polar_degree[chord_id]['feature_vector']]  +\n",
        "    # results[chord_id]['feature_vector'] +\n",
        "     #results_polar_degree[chord_id]['feature_vector'] +\n",
        "     results_intervals_theory[chord_id]['feature_vector']\n",
        "      +\n",
        "\n",
        "    results_binary_notes[chord_id]['feature_vector']\n",
        "      #results_binary_intervals_12[chord_id]['feature_vector']\n",
        "    for chord_id in results_intervals_theory.keys()\n",
        "]\n",
        "\n",
        "# Realiza MDS en los datos\n",
        "vector_encoding_mds3,matrix = perform_mds(vector_encoding3)\n",
        "vector_encoding_mds3_classic, matrix_classic=perform_mds2(vector_encoding3,'mahalanobis')\n",
        "cg.plot_chords_with_selection(vector_encoding_mds3_classic,matrix_classic, chord_ids, datos,True,True )\n",
        "\n",
        "for i in vector_encoding3:\n",
        "    print(i)\n",
        "\n",
        "classic=segment_and_calculate_and_visualize_metrics_original_space(np.array(vector_encoding3))\n"
      ]
    },
    {
      "cell_type": "code",
      "execution_count": null,
      "metadata": {
        "id": "mCRVQLBTMGW_"
      },
      "outputs": [],
      "source": [
        "classic"
      ]
    },
    {
      "cell_type": "markdown",
      "metadata": {
        "id": "cq-UQI85s3Rw"
      },
      "source": [
        "# Experimento Propuesto: Intervalos ponderados con rugosidad y notas"
      ]
    },
    {
      "cell_type": "code",
      "execution_count": null,
      "metadata": {
        "colab": {
          "base_uri": "https://localhost:8080/",
          "height": 1000,
          "referenced_widgets": [
            "0debc6b2a0454f69aec897371ade9559",
            "5a742582277d45d5abd979343cc9d1a1",
            "0bfa1988ff8c47b4b22808a2ab4d6e5b",
            "3b3f29377d7d4400a691001648e8c371"
          ]
        },
        "id": "doC5T0co9nOF",
        "outputId": "c9b4c44a-f00a-4328-cb2b-5a61a967de05"
      },
      "outputs": [
        {
          "name": "stderr",
          "output_type": "stream",
          "text": [
            "/usr/local/lib/python3.10/dist-packages/sklearn/manifold/_mds.py:299: FutureWarning:\n",
            "\n",
            "The default value of `normalized_stress` will change to `'auto'` in version 1.4. To suppress this warning, manually set the value of `normalized_stress`.\n",
            "\n"
          ]
        },
        {
          "name": "stdout",
          "output_type": "stream",
          "text": [
            "541 47.17503168629542\n"
          ]
        },
        {
          "name": "stderr",
          "output_type": "stream",
          "text": [
            "/usr/local/lib/python3.10/dist-packages/sklearn/manifold/_mds.py:299: FutureWarning:\n",
            "\n",
            "The default value of `normalized_stress` will change to `'auto'` in version 1.4. To suppress this warning, manually set the value of `normalized_stress`.\n",
            "\n"
          ]
        },
        {
          "name": "stdout",
          "output_type": "stream",
          "text": [
            "Número de iteraciones: 186, Stress: 0.9575022147566687\n",
            "['C', 'C/E', 'C/G', 'Dm', 'Dm/F', 'Dm/A', 'Em', 'Em/G', 'Em/B', 'F', 'F/A', 'F/C', 'G', 'G/B', 'G/D', 'Am', 'Am/C', 'Am/E', 'B°', 'B°/D', 'B°/F']\n"
          ]
        },
        {
          "data": {
            "application/vnd.jupyter.widget-view+json": {
              "model_id": "0debc6b2a0454f69aec897371ade9559",
              "version_major": 2,
              "version_minor": 0
            },
            "text/plain": [
              "Dropdown(description='Chord ID:', options=(('Chord ID: chord_0, C', 'chord_0'), ('Chord ID: chord_1, C/E', 'ch…"
            ]
          },
          "metadata": {
            "application/vnd.jupyter.widget-view+json": {
              "colab": {
                "custom_widget_manager": {
                  "url": "https://ssl.gstatic.com/colaboratory-static/widgets/colab-cdn-widget-manager/2b70e893a8ba7c0f/manager.min.js"
                }
              }
            }
          },
          "output_type": "display_data"
        },
        {
          "data": {
            "application/vnd.jupyter.widget-view+json": {
              "model_id": "3b3f29377d7d4400a691001648e8c371",
              "version_major": 2,
              "version_minor": 0
            },
            "text/plain": [
              "FigureWidget({\n",
              "    'data': [{'hoverinfo': 'text',\n",
              "              'hovertext': [Root: C<br>Bass: C<br>Octave: 5<br>Degree:\n",
              "                            1<br>Intervals: [4, 3], Root: C<br>Bass: E<br>Octave:\n",
              "                            5<br>Degree: 1<br>Intervals: [4, 3], Root: C<br>Bass:\n",
              "                            G<br>Octave: 5<br>Degree: 1<br>Intervals: [4, 3], Root:\n",
              "                            D<br>Bass: D<br>Octave: 5<br>Degree: 2<br>Intervals:\n",
              "                            [3, 4], Root: D<br>Bass: F<br>Octave: 5<br>Degree:\n",
              "                            2<br>Intervals: [3, 4], Root: D<br>Bass: A<br>Octave:\n",
              "                            5<br>Degree: 2<br>Intervals: [3, 4], Root: E<br>Bass:\n",
              "                            E<br>Octave: 5<br>Degree: 3<br>Intervals: [3, 4], Root:\n",
              "                            E<br>Bass: G<br>Octave: 5<br>Degree: 3<br>Intervals:\n",
              "                            [3, 4], Root: E<br>Bass: B<br>Octave: 5<br>Degree:\n",
              "                            3<br>Intervals: [3, 4], Root: F<br>Bass: F<br>Octave:\n",
              "                            5<br>Degree: 4<br>Intervals: [4, 3], Root: F<br>Bass:\n",
              "                            A<br>Octave: 5<br>Degree: 4<br>Intervals: [4, 3], Root:\n",
              "                            F<br>Bass: C<br>Octave: 5<br>Degree: 4<br>Intervals:\n",
              "                            [4, 3], Root: G<br>Bass: G<br>Octave: 5<br>Degree:\n",
              "                            5<br>Intervals: [4, 3], Root: G<br>Bass: B<br>Octave:\n",
              "                            5<br>Degree: 5<br>Intervals: [4, 3], Root: G<br>Bass:\n",
              "                            D<br>Octave: 5<br>Degree: 5<br>Intervals: [4, 3], Root:\n",
              "                            A<br>Bass: A<br>Octave: 5<br>Degree: 6<br>Intervals:\n",
              "                            [3, 4], Root: A<br>Bass: C<br>Octave: 5<br>Degree:\n",
              "                            6<br>Intervals: [3, 4], Root: A<br>Bass: E<br>Octave:\n",
              "                            5<br>Degree: 6<br>Intervals: [3, 4], Root: B<br>Bass:\n",
              "                            B<br>Octave: 5<br>Degree: 7<br>Intervals: [3, 3], Root:\n",
              "                            B<br>Bass: D<br>Octave: 5<br>Degree: 7<br>Intervals:\n",
              "                            [3, 3], Root: B<br>Bass: F<br>Octave: 5<br>Degree:\n",
              "                            7<br>Intervals: [3, 3]],\n",
              "              'marker': {'color': [red, red, red, blue, blue, blue, blue, blue,\n",
              "                                   blue, red, red, red, red, red, red, blue, blue,\n",
              "                                   blue, green, green, green],\n",
              "                         'size': 13,\n",
              "                         'symbol': [star-square, star-square, star-square, star-\n",
              "                                    triangle-down, star-triangle-down, star-\n",
              "                                    triangle-down, star-triangle-down, star-\n",
              "                                    triangle-down, star-triangle-down, star-square,\n",
              "                                    star-square, star-square, star-square, star-\n",
              "                                    square, star-square, star-triangle-down, star-\n",
              "                                    triangle-down, star-triangle-down, circle,\n",
              "                                    circle, circle]},\n",
              "              'mode': 'markers+text',\n",
              "              'text': [C, C/E, C/G, Dm, Dm/F, Dm/A, Em, Em/G, Em/B, F, F/A, F/C,\n",
              "                       G, G/B, G/D, Am, Am/C, Am/E, B°, B°/D, B°/F],\n",
              "              'textposition': 'top center',\n",
              "              'type': 'scatter',\n",
              "              'uid': 'ebf1dc1a-6a9e-4ea8-8dd1-16e27709ebbb',\n",
              "              'x': array([-0.12909338, -0.08247839, -0.08616158,  0.15272632,  0.21003638,\n",
              "                           0.1990237 , -0.1994879 , -0.24511427, -0.24903616,  0.20153561,\n",
              "                           0.24732434,  0.24219641, -0.17123567, -0.17612998, -0.22115362,\n",
              "                           0.09084571,  0.09494824,  0.13421552,  0.00029481,  0.00852603,\n",
              "                          -0.0217821 ]),\n",
              "              'y': array([ 0.20029425,  0.20232314,  0.25252931, -0.13537884, -0.11844045,\n",
              "                          -0.16962631,  0.06499495,  0.08227931,  0.02304997,  0.04573148,\n",
              "                           0.02678542,  0.08741278, -0.12596577, -0.17436372, -0.11214321,\n",
              "                           0.18412751,  0.24968167,  0.20174937, -0.22520468, -0.2819022 ,\n",
              "                          -0.27793397])}],\n",
              "    'layout': {'autosize': False,\n",
              "               'height': 800,\n",
              "               'showlegend': False,\n",
              "               'template': '...',\n",
              "               'title': {'text': 'Chord Representation (2D)'},\n",
              "               'width': 800,\n",
              "               'xaxis': {'autorange': False, 'range': [-1.2490361601656854, 1.2473243406421992], 'title': {'text': ''}},\n",
              "               'yaxis': {'autorange': False,\n",
              "                         'range': [-1.2819022019306316, 1.2525293073297232],\n",
              "                         'scaleanchor': 'x',\n",
              "                         'scaleratio': 1,\n",
              "                         'title': {'text': ''}}}\n",
              "})"
            ]
          },
          "metadata": {
            "application/vnd.jupyter.widget-view+json": {
              "colab": {
                "custom_widget_manager": {
                  "url": "https://ssl.gstatic.com/colaboratory-static/widgets/colab-cdn-widget-manager/2b70e893a8ba7c0f/manager.min.js"
                }
              }
            }
          },
          "output_type": "display_data"
        },
        {
          "data": {
            "text/html": [
              "<html>\n",
              "<head><meta charset=\"utf-8\" /></head>\n",
              "<body>\n",
              "    <div>            <script src=\"https://cdnjs.cloudflare.com/ajax/libs/mathjax/2.7.5/MathJax.js?config=TeX-AMS-MML_SVG\"></script><script type=\"text/javascript\">if (window.MathJax && window.MathJax.Hub && window.MathJax.Hub.Config) {window.MathJax.Hub.Config({SVG: {font: \"STIX-Web\"}});}</script>                <script type=\"text/javascript\">window.PlotlyConfig = {MathJaxConfig: 'local'};</script>\n",
              "        <script charset=\"utf-8\" src=\"https://cdn.plot.ly/plotly-2.24.1.min.js\"></script>                <div id=\"3e81504c-cf55-4c0b-bc28-c31ace4c571e\" class=\"plotly-graph-div\" style=\"height:800px; width:800px;\"></div>            <script type=\"text/javascript\">                                    window.PLOTLYENV=window.PLOTLYENV || {};                                    if (document.getElementById(\"3e81504c-cf55-4c0b-bc28-c31ace4c571e\")) {                    Plotly.newPlot(                        \"3e81504c-cf55-4c0b-bc28-c31ace4c571e\",                        [{\"coloraxis\":\"coloraxis\",\"name\":\"0\",\"x\":[\"C\",\"C\\u002fE\",\"C\\u002fG\",\"Dm\",\"Dm\\u002fF\",\"Dm\\u002fA\",\"Em\",\"Em\\u002fG\",\"Em\\u002fB\",\"F\",\"F\\u002fA\",\"F\\u002fC\",\"G\",\"G\\u002fB\",\"G\\u002fD\",\"Am\",\"Am\\u002fC\",\"Am\\u002fE\",\"B\\u00b0\",\"B\\u00b0\\u002fD\",\"B\\u00b0\\u002fF\"],\"y\":[\"C\",\"C\\u002fE\",\"C\\u002fG\",\"Dm\",\"Dm\\u002fF\",\"Dm\\u002fA\",\"Em\",\"Em\\u002fG\",\"Em\\u002fB\",\"F\",\"F\\u002fA\",\"F\\u002fC\",\"G\",\"G\\u002fB\",\"G\\u002fD\",\"Am\",\"Am\\u002fC\",\"Am\\u002fE\",\"B\\u00b0\",\"B\\u00b0\\u002fD\",\"B\\u00b0\\u002fF\"],\"z\":[[0.0,0.17391304347826086,0.21739130434782608,0.391304347826087,0.4782608695652174,0.4782608695652174,0.17391304347826086,0.30434782608695654,0.30434782608695654,0.30434782608695654,0.391304347826087,0.391304347826087,0.30434782608695654,0.391304347826087,0.391304347826087,0.21739130434782608,0.2608695652173913,0.30434782608695654,0.43478260869565216,0.4782608695652174,0.4782608695652174],[0.17391304347826086,0.0,0.17391304347826086,0.4782608695652174,0.4782608695652174,0.391304347826087,0.2608695652173913,0.30434782608695654,0.21739130434782608,0.391304347826087,0.30434782608695654,0.391304347826087,0.391304347826087,0.30434782608695654,0.391304347826087,0.30434782608695654,0.30434782608695654,0.17391304347826086,0.43478260869565216,0.4782608695652174,0.4782608695652174],[0.21739130434782608,0.17391304347826086,0.0,0.4782608695652174,0.391304347826087,0.4782608695652174,0.30434782608695654,0.17391304347826086,0.30434782608695654,0.391304347826087,0.391304347826087,0.30434782608695654,0.391304347826087,0.391304347826087,0.30434782608695654,0.2608695652173913,0.21739130434782608,0.30434782608695654,0.4782608695652174,0.4782608695652174,0.4782608695652174],[0.391304347826087,0.4782608695652174,0.4782608695652174,0.0,0.17391304347826086,0.21739130434782608,0.391304347826087,0.4782608695652174,0.4782608695652174,0.17391304347826086,0.30434782608695654,0.2608695652173913,0.30434782608695654,0.391304347826087,0.391304347826087,0.30434782608695654,0.391304347826087,0.391304347826087,0.2608695652173913,0.2608695652173913,0.30434782608695654],[0.4782608695652174,0.4782608695652174,0.391304347826087,0.17391304347826086,0.0,0.17391304347826086,0.4782608695652174,0.391304347826087,0.4782608695652174,0.2608695652173913,0.30434782608695654,0.17391304347826086,0.391304347826087,0.391304347826087,0.30434782608695654,0.391304347826087,0.30434782608695654,0.391304347826087,0.30434782608695654,0.30434782608695654,0.2608695652173913],[0.4782608695652174,0.391304347826087,0.4782608695652174,0.21739130434782608,0.17391304347826086,0.0,0.4782608695652174,0.4782608695652174,0.391304347826087,0.30434782608695654,0.17391304347826086,0.30434782608695654,0.391304347826087,0.30434782608695654,0.391304347826087,0.391304347826087,0.391304347826087,0.30434782608695654,0.2608695652173913,0.30434782608695654,0.30434782608695654],[0.17391304347826086,0.2608695652173913,0.30434782608695654,0.391304347826087,0.4782608695652174,0.4782608695652174,0.0,0.17391304347826086,0.21739130434782608,0.391304347826087,0.4782608695652174,0.4782608695652174,0.17391304347826086,0.30434782608695654,0.2608695652173913,0.30434782608695654,0.391304347826087,0.391304347826087,0.34782608695652173,0.391304347826087,0.391304347826087],[0.30434782608695654,0.30434782608695654,0.17391304347826086,0.4782608695652174,0.391304347826087,0.4782608695652174,0.17391304347826086,0.0,0.17391304347826086,0.4782608695652174,0.4782608695652174,0.391304347826087,0.2608695652173913,0.30434782608695654,0.17391304347826086,0.391304347826087,0.30434782608695654,0.391304347826087,0.391304347826087,0.391304347826087,0.391304347826087],[0.30434782608695654,0.21739130434782608,0.30434782608695654,0.4782608695652174,0.4782608695652174,0.391304347826087,0.21739130434782608,0.17391304347826086,0.0,0.4782608695652174,0.391304347826087,0.4782608695652174,0.30434782608695654,0.17391304347826086,0.30434782608695654,0.391304347826087,0.391304347826087,0.30434782608695654,0.34782608695652173,0.391304347826087,0.391304347826087],[0.30434782608695654,0.391304347826087,0.391304347826087,0.17391304347826086,0.2608695652173913,0.30434782608695654,0.391304347826087,0.4782608695652174,0.4782608695652174,0.0,0.17391304347826086,0.17391304347826086,0.391304347826087,0.4782608695652174,0.4782608695652174,0.17391304347826086,0.30434782608695654,0.2608695652173913,0.34782608695652173,0.391304347826087,0.391304347826087],[0.391304347826087,0.30434782608695654,0.391304347826087,0.30434782608695654,0.30434782608695654,0.17391304347826086,0.4782608695652174,0.4782608695652174,0.391304347826087,0.17391304347826086,0.0,0.21739130434782608,0.4782608695652174,0.391304347826087,0.4782608695652174,0.2608695652173913,0.30434782608695654,0.17391304347826086,0.34782608695652173,0.391304347826087,0.391304347826087],[0.391304347826087,0.391304347826087,0.30434782608695654,0.2608695652173913,0.17391304347826086,0.30434782608695654,0.4782608695652174,0.391304347826087,0.4782608695652174,0.17391304347826086,0.21739130434782608,0.0,0.4782608695652174,0.4782608695652174,0.391304347826087,0.30434782608695654,0.17391304347826086,0.30434782608695654,0.391304347826087,0.391304347826087,0.391304347826087],[0.30434782608695654,0.391304347826087,0.391304347826087,0.30434782608695654,0.391304347826087,0.391304347826087,0.17391304347826086,0.2608695652173913,0.30434782608695654,0.391304347826087,0.4782608695652174,0.4782608695652174,0.0,0.17391304347826086,0.17391304347826086,0.391304347826087,0.4782608695652174,0.4782608695652174,0.2608695652173913,0.30434782608695654,0.2608695652173913],[0.391304347826087,0.30434782608695654,0.391304347826087,0.391304347826087,0.391304347826087,0.30434782608695654,0.30434782608695654,0.30434782608695654,0.17391304347826086,0.4782608695652174,0.391304347826087,0.4782608695652174,0.17391304347826086,0.0,0.21739130434782608,0.4782608695652174,0.4782608695652174,0.391304347826087,0.2608695652173913,0.30434782608695654,0.2608695652173913],[0.391304347826087,0.391304347826087,0.30434782608695654,0.391304347826087,0.30434782608695654,0.391304347826087,0.2608695652173913,0.17391304347826086,0.30434782608695654,0.4782608695652174,0.4782608695652174,0.391304347826087,0.17391304347826086,0.21739130434782608,0.0,0.4782608695652174,0.391304347826087,0.4782608695652174,0.30434782608695654,0.2608695652173913,0.30434782608695654],[0.21739130434782608,0.30434782608695654,0.2608695652173913,0.30434782608695654,0.391304347826087,0.391304347826087,0.30434782608695654,0.391304347826087,0.391304347826087,0.17391304347826086,0.2608695652173913,0.30434782608695654,0.391304347826087,0.4782608695652174,0.4782608695652174,0.0,0.21739130434782608,0.17391304347826086,0.43478260869565216,0.4782608695652174,0.4782608695652174],[0.2608695652173913,0.30434782608695654,0.21739130434782608,0.391304347826087,0.30434782608695654,0.391304347826087,0.391304347826087,0.30434782608695654,0.391304347826087,0.30434782608695654,0.30434782608695654,0.17391304347826086,0.4782608695652174,0.4782608695652174,0.391304347826087,0.21739130434782608,0.0,0.17391304347826086,0.4782608695652174,0.4782608695652174,0.4782608695652174],[0.30434782608695654,0.17391304347826086,0.30434782608695654,0.391304347826087,0.391304347826087,0.30434782608695654,0.391304347826087,0.391304347826087,0.30434782608695654,0.2608695652173913,0.17391304347826086,0.30434782608695654,0.4782608695652174,0.391304347826087,0.4782608695652174,0.17391304347826086,0.17391304347826086,0.0,0.43478260869565216,0.4782608695652174,0.4782608695652174],[0.43478260869565216,0.43478260869565216,0.4782608695652174,0.2608695652173913,0.30434782608695654,0.2608695652173913,0.34782608695652173,0.391304347826087,0.34782608695652173,0.34782608695652173,0.34782608695652173,0.391304347826087,0.2608695652173913,0.2608695652173913,0.30434782608695654,0.43478260869565216,0.4782608695652174,0.43478260869565216,0.0,0.13043478260869565,0.13043478260869565],[0.4782608695652174,0.4782608695652174,0.4782608695652174,0.2608695652173913,0.30434782608695654,0.30434782608695654,0.391304347826087,0.391304347826087,0.391304347826087,0.391304347826087,0.391304347826087,0.391304347826087,0.30434782608695654,0.30434782608695654,0.2608695652173913,0.4782608695652174,0.4782608695652174,0.4782608695652174,0.13043478260869565,0.0,0.08695652173913043],[0.4782608695652174,0.4782608695652174,0.4782608695652174,0.30434782608695654,0.2608695652173913,0.30434782608695654,0.391304347826087,0.391304347826087,0.391304347826087,0.391304347826087,0.391304347826087,0.391304347826087,0.2608695652173913,0.2608695652173913,0.30434782608695654,0.4782608695652174,0.4782608695652174,0.4782608695652174,0.13043478260869565,0.08695652173913043,0.0]],\"type\":\"heatmap\",\"xaxis\":\"x\",\"yaxis\":\"y\",\"hovertemplate\":\"x: %{x}\\u003cbr\\u003ey: %{y}\\u003cbr\\u003eDissimilarity: %{z}\\u003cextra\\u003e\\u003c\\u002fextra\\u003e\"}],                        {\"template\":{\"data\":{\"histogram2dcontour\":[{\"type\":\"histogram2dcontour\",\"colorbar\":{\"outlinewidth\":0,\"ticks\":\"\"},\"colorscale\":[[0.0,\"#0d0887\"],[0.1111111111111111,\"#46039f\"],[0.2222222222222222,\"#7201a8\"],[0.3333333333333333,\"#9c179e\"],[0.4444444444444444,\"#bd3786\"],[0.5555555555555556,\"#d8576b\"],[0.6666666666666666,\"#ed7953\"],[0.7777777777777778,\"#fb9f3a\"],[0.8888888888888888,\"#fdca26\"],[1.0,\"#f0f921\"]]}],\"choropleth\":[{\"type\":\"choropleth\",\"colorbar\":{\"outlinewidth\":0,\"ticks\":\"\"}}],\"histogram2d\":[{\"type\":\"histogram2d\",\"colorbar\":{\"outlinewidth\":0,\"ticks\":\"\"},\"colorscale\":[[0.0,\"#0d0887\"],[0.1111111111111111,\"#46039f\"],[0.2222222222222222,\"#7201a8\"],[0.3333333333333333,\"#9c179e\"],[0.4444444444444444,\"#bd3786\"],[0.5555555555555556,\"#d8576b\"],[0.6666666666666666,\"#ed7953\"],[0.7777777777777778,\"#fb9f3a\"],[0.8888888888888888,\"#fdca26\"],[1.0,\"#f0f921\"]]}],\"heatmap\":[{\"type\":\"heatmap\",\"colorbar\":{\"outlinewidth\":0,\"ticks\":\"\"},\"colorscale\":[[0.0,\"#0d0887\"],[0.1111111111111111,\"#46039f\"],[0.2222222222222222,\"#7201a8\"],[0.3333333333333333,\"#9c179e\"],[0.4444444444444444,\"#bd3786\"],[0.5555555555555556,\"#d8576b\"],[0.6666666666666666,\"#ed7953\"],[0.7777777777777778,\"#fb9f3a\"],[0.8888888888888888,\"#fdca26\"],[1.0,\"#f0f921\"]]}],\"heatmapgl\":[{\"type\":\"heatmapgl\",\"colorbar\":{\"outlinewidth\":0,\"ticks\":\"\"},\"colorscale\":[[0.0,\"#0d0887\"],[0.1111111111111111,\"#46039f\"],[0.2222222222222222,\"#7201a8\"],[0.3333333333333333,\"#9c179e\"],[0.4444444444444444,\"#bd3786\"],[0.5555555555555556,\"#d8576b\"],[0.6666666666666666,\"#ed7953\"],[0.7777777777777778,\"#fb9f3a\"],[0.8888888888888888,\"#fdca26\"],[1.0,\"#f0f921\"]]}],\"contourcarpet\":[{\"type\":\"contourcarpet\",\"colorbar\":{\"outlinewidth\":0,\"ticks\":\"\"}}],\"contour\":[{\"type\":\"contour\",\"colorbar\":{\"outlinewidth\":0,\"ticks\":\"\"},\"colorscale\":[[0.0,\"#0d0887\"],[0.1111111111111111,\"#46039f\"],[0.2222222222222222,\"#7201a8\"],[0.3333333333333333,\"#9c179e\"],[0.4444444444444444,\"#bd3786\"],[0.5555555555555556,\"#d8576b\"],[0.6666666666666666,\"#ed7953\"],[0.7777777777777778,\"#fb9f3a\"],[0.8888888888888888,\"#fdca26\"],[1.0,\"#f0f921\"]]}],\"surface\":[{\"type\":\"surface\",\"colorbar\":{\"outlinewidth\":0,\"ticks\":\"\"},\"colorscale\":[[0.0,\"#0d0887\"],[0.1111111111111111,\"#46039f\"],[0.2222222222222222,\"#7201a8\"],[0.3333333333333333,\"#9c179e\"],[0.4444444444444444,\"#bd3786\"],[0.5555555555555556,\"#d8576b\"],[0.6666666666666666,\"#ed7953\"],[0.7777777777777778,\"#fb9f3a\"],[0.8888888888888888,\"#fdca26\"],[1.0,\"#f0f921\"]]}],\"mesh3d\":[{\"type\":\"mesh3d\",\"colorbar\":{\"outlinewidth\":0,\"ticks\":\"\"}}],\"scatter\":[{\"fillpattern\":{\"fillmode\":\"overlay\",\"size\":10,\"solidity\":0.2},\"type\":\"scatter\"}],\"parcoords\":[{\"type\":\"parcoords\",\"line\":{\"colorbar\":{\"outlinewidth\":0,\"ticks\":\"\"}}}],\"scatterpolargl\":[{\"type\":\"scatterpolargl\",\"marker\":{\"colorbar\":{\"outlinewidth\":0,\"ticks\":\"\"}}}],\"bar\":[{\"error_x\":{\"color\":\"#2a3f5f\"},\"error_y\":{\"color\":\"#2a3f5f\"},\"marker\":{\"line\":{\"color\":\"#E5ECF6\",\"width\":0.5},\"pattern\":{\"fillmode\":\"overlay\",\"size\":10,\"solidity\":0.2}},\"type\":\"bar\"}],\"scattergeo\":[{\"type\":\"scattergeo\",\"marker\":{\"colorbar\":{\"outlinewidth\":0,\"ticks\":\"\"}}}],\"scatterpolar\":[{\"type\":\"scatterpolar\",\"marker\":{\"colorbar\":{\"outlinewidth\":0,\"ticks\":\"\"}}}],\"histogram\":[{\"marker\":{\"pattern\":{\"fillmode\":\"overlay\",\"size\":10,\"solidity\":0.2}},\"type\":\"histogram\"}],\"scattergl\":[{\"type\":\"scattergl\",\"marker\":{\"colorbar\":{\"outlinewidth\":0,\"ticks\":\"\"}}}],\"scatter3d\":[{\"type\":\"scatter3d\",\"line\":{\"colorbar\":{\"outlinewidth\":0,\"ticks\":\"\"}},\"marker\":{\"colorbar\":{\"outlinewidth\":0,\"ticks\":\"\"}}}],\"scattermapbox\":[{\"type\":\"scattermapbox\",\"marker\":{\"colorbar\":{\"outlinewidth\":0,\"ticks\":\"\"}}}],\"scatterternary\":[{\"type\":\"scatterternary\",\"marker\":{\"colorbar\":{\"outlinewidth\":0,\"ticks\":\"\"}}}],\"scattercarpet\":[{\"type\":\"scattercarpet\",\"marker\":{\"colorbar\":{\"outlinewidth\":0,\"ticks\":\"\"}}}],\"carpet\":[{\"aaxis\":{\"endlinecolor\":\"#2a3f5f\",\"gridcolor\":\"white\",\"linecolor\":\"white\",\"minorgridcolor\":\"white\",\"startlinecolor\":\"#2a3f5f\"},\"baxis\":{\"endlinecolor\":\"#2a3f5f\",\"gridcolor\":\"white\",\"linecolor\":\"white\",\"minorgridcolor\":\"white\",\"startlinecolor\":\"#2a3f5f\"},\"type\":\"carpet\"}],\"table\":[{\"cells\":{\"fill\":{\"color\":\"#EBF0F8\"},\"line\":{\"color\":\"white\"}},\"header\":{\"fill\":{\"color\":\"#C8D4E3\"},\"line\":{\"color\":\"white\"}},\"type\":\"table\"}],\"barpolar\":[{\"marker\":{\"line\":{\"color\":\"#E5ECF6\",\"width\":0.5},\"pattern\":{\"fillmode\":\"overlay\",\"size\":10,\"solidity\":0.2}},\"type\":\"barpolar\"}],\"pie\":[{\"automargin\":true,\"type\":\"pie\"}]},\"layout\":{\"autotypenumbers\":\"strict\",\"colorway\":[\"#636efa\",\"#EF553B\",\"#00cc96\",\"#ab63fa\",\"#FFA15A\",\"#19d3f3\",\"#FF6692\",\"#B6E880\",\"#FF97FF\",\"#FECB52\"],\"font\":{\"color\":\"#2a3f5f\"},\"hovermode\":\"closest\",\"hoverlabel\":{\"align\":\"left\"},\"paper_bgcolor\":\"white\",\"plot_bgcolor\":\"#E5ECF6\",\"polar\":{\"bgcolor\":\"#E5ECF6\",\"angularaxis\":{\"gridcolor\":\"white\",\"linecolor\":\"white\",\"ticks\":\"\"},\"radialaxis\":{\"gridcolor\":\"white\",\"linecolor\":\"white\",\"ticks\":\"\"}},\"ternary\":{\"bgcolor\":\"#E5ECF6\",\"aaxis\":{\"gridcolor\":\"white\",\"linecolor\":\"white\",\"ticks\":\"\"},\"baxis\":{\"gridcolor\":\"white\",\"linecolor\":\"white\",\"ticks\":\"\"},\"caxis\":{\"gridcolor\":\"white\",\"linecolor\":\"white\",\"ticks\":\"\"}},\"coloraxis\":{\"colorbar\":{\"outlinewidth\":0,\"ticks\":\"\"}},\"colorscale\":{\"sequential\":[[0.0,\"#0d0887\"],[0.1111111111111111,\"#46039f\"],[0.2222222222222222,\"#7201a8\"],[0.3333333333333333,\"#9c179e\"],[0.4444444444444444,\"#bd3786\"],[0.5555555555555556,\"#d8576b\"],[0.6666666666666666,\"#ed7953\"],[0.7777777777777778,\"#fb9f3a\"],[0.8888888888888888,\"#fdca26\"],[1.0,\"#f0f921\"]],\"sequentialminus\":[[0.0,\"#0d0887\"],[0.1111111111111111,\"#46039f\"],[0.2222222222222222,\"#7201a8\"],[0.3333333333333333,\"#9c179e\"],[0.4444444444444444,\"#bd3786\"],[0.5555555555555556,\"#d8576b\"],[0.6666666666666666,\"#ed7953\"],[0.7777777777777778,\"#fb9f3a\"],[0.8888888888888888,\"#fdca26\"],[1.0,\"#f0f921\"]],\"diverging\":[[0,\"#8e0152\"],[0.1,\"#c51b7d\"],[0.2,\"#de77ae\"],[0.3,\"#f1b6da\"],[0.4,\"#fde0ef\"],[0.5,\"#f7f7f7\"],[0.6,\"#e6f5d0\"],[0.7,\"#b8e186\"],[0.8,\"#7fbc41\"],[0.9,\"#4d9221\"],[1,\"#276419\"]]},\"xaxis\":{\"gridcolor\":\"white\",\"linecolor\":\"white\",\"ticks\":\"\",\"title\":{\"standoff\":15},\"zerolinecolor\":\"white\",\"automargin\":true,\"zerolinewidth\":2},\"yaxis\":{\"gridcolor\":\"white\",\"linecolor\":\"white\",\"ticks\":\"\",\"title\":{\"standoff\":15},\"zerolinecolor\":\"white\",\"automargin\":true,\"zerolinewidth\":2},\"scene\":{\"xaxis\":{\"backgroundcolor\":\"#E5ECF6\",\"gridcolor\":\"white\",\"linecolor\":\"white\",\"showbackground\":true,\"ticks\":\"\",\"zerolinecolor\":\"white\",\"gridwidth\":2},\"yaxis\":{\"backgroundcolor\":\"#E5ECF6\",\"gridcolor\":\"white\",\"linecolor\":\"white\",\"showbackground\":true,\"ticks\":\"\",\"zerolinecolor\":\"white\",\"gridwidth\":2},\"zaxis\":{\"backgroundcolor\":\"#E5ECF6\",\"gridcolor\":\"white\",\"linecolor\":\"white\",\"showbackground\":true,\"ticks\":\"\",\"zerolinecolor\":\"white\",\"gridwidth\":2}},\"shapedefaults\":{\"line\":{\"color\":\"#2a3f5f\"}},\"annotationdefaults\":{\"arrowcolor\":\"#2a3f5f\",\"arrowhead\":0,\"arrowwidth\":1},\"geo\":{\"bgcolor\":\"white\",\"landcolor\":\"#E5ECF6\",\"subunitcolor\":\"white\",\"showland\":true,\"showlakes\":true,\"lakecolor\":\"white\"},\"title\":{\"x\":0.05},\"mapbox\":{\"style\":\"light\"}}},\"xaxis\":{\"anchor\":\"y\",\"domain\":[0.0,1.0],\"scaleanchor\":\"y\",\"constrain\":\"domain\"},\"yaxis\":{\"anchor\":\"x\",\"domain\":[0.0,1.0],\"autorange\":\"reversed\",\"constrain\":\"domain\"},\"coloraxis\":{\"colorbar\":{\"title\":{\"text\":\"Dissimilarity\"},\"x\":1.1,\"len\":0.55},\"colorscale\":[[0.0,\"#0d0887\"],[0.1111111111111111,\"#46039f\"],[0.2222222222222222,\"#7201a8\"],[0.3333333333333333,\"#9c179e\"],[0.4444444444444444,\"#bd3786\"],[0.5555555555555556,\"#d8576b\"],[0.6666666666666666,\"#ed7953\"],[0.7777777777777778,\"#fb9f3a\"],[0.8888888888888888,\"#fdca26\"],[1.0,\"#f0f921\"]]},\"margin\":{\"t\":100,\"l\":50,\"r\":50,\"b\":100,\"pad\":4},\"autosize\":false,\"width\":800,\"height\":800},                        {\"responsive\": true}                    ).then(function(){\n",
              "                            \n",
              "var gd = document.getElementById('3e81504c-cf55-4c0b-bc28-c31ace4c571e');\n",
              "var x = new MutationObserver(function (mutations, observer) {{\n",
              "        var display = window.getComputedStyle(gd).display;\n",
              "        if (!display || display === 'none') {{\n",
              "            console.log([gd, 'removed!']);\n",
              "            Plotly.purge(gd);\n",
              "            observer.disconnect();\n",
              "        }}\n",
              "}});\n",
              "\n",
              "// Listen for the removal of the full notebook cells\n",
              "var notebookContainer = gd.closest('#notebook-container');\n",
              "if (notebookContainer) {{\n",
              "    x.observe(notebookContainer, {childList: true});\n",
              "}}\n",
              "\n",
              "// Listen for the clearing of the current output cell\n",
              "var outputEl = gd.closest('.output');\n",
              "if (outputEl) {{\n",
              "    x.observe(outputEl, {childList: true});\n",
              "}}\n",
              "\n",
              "                        })                };                            </script>        </div>\n",
              "</body>\n",
              "</html>"
            ]
          },
          "metadata": {},
          "output_type": "display_data"
        },
        {
          "name": "stdout",
          "output_type": "stream",
          "text": [
            "[0, 0, 1.737764418752922, 0.9767088023539988, 0, 0, 0.03111923187083253, 0, 0, 0, 0, 1, 0, 0, 0, 1, 0, 0, 1, 0, 0, 0, 0]\n",
            "[0, 0, 1.737764418752922, 0, 0.09156789258655498, 0, 0, 0.0022556833919568893, 0, 0, 0, 1, 0, 0, 0, 1, 0, 0, 1, 0, 0, 0, 0]\n",
            "[0, 0, 0, 0.17266902870542378, 0.09156789258655498, 0, 0, 0, 0.00013853031760726754, 0, 0, 1, 0, 0, 0, 1, 0, 0, 1, 0, 0, 0, 0]\n",
            "[0, 0, 2.1066612074350157, 0.4868846141308711, 0, 0, 0.018000366282845758, 0, 0, 0, 0, 0, 0, 1, 0, 0, 1, 0, 0, 0, 1, 0, 0]\n",
            "[0, 0, 0, 0.4868846141308711, 0.06209468694368946, 0, 0, 0, 0.000305814313490894, 0, 0, 0, 0, 1, 0, 0, 1, 0, 0, 0, 1, 0, 0]\n",
            "[0, 0, 0.6189768973158128, 0, 0.06209468694368946, 0, 0, 0.00040904816319696903, 0, 0, 0, 0, 0, 1, 0, 0, 1, 0, 0, 0, 1, 0, 0]\n",
            "[0, 0, 1.737764418752922, 0.36358023206809986, 0, 0, 0.010258843439465063, 0, 0, 0, 0, 0, 0, 0, 0, 1, 0, 0, 1, 0, 0, 0, 1]\n",
            "[0, 0, 0, 0.36358023206809986, 0.04203166429383968, 0, 0, 0, 0.00013853031760726754, 0, 0, 0, 0, 0, 0, 1, 0, 0, 1, 0, 0, 0, 1]\n",
            "[0, 0, 0.502493781343633, 0, 0.04203166429383968, 0, 0, 0.00020517990841053575, 0, 0, 0, 0, 0, 0, 0, 1, 0, 0, 1, 0, 0, 0, 1]\n",
            "[0, 0, 1.045809489930507, 0.4868846141308711, 0, 0, 0.007710277689977591, 0, 0, 0, 0, 1, 0, 0, 0, 0, 1, 0, 0, 0, 1, 0, 0]\n",
            "[0, 0, 1.045809489930507, 0, 0.03458784338781161, 0, 0, 0.00040904816319696903, 0, 0, 0, 1, 0, 0, 0, 0, 1, 0, 0, 0, 1, 0, 0]\n",
            "[0, 0, 0, 0.4868846141308711, 0.33773767123591547, 0, 0, 0, 0.0020761007727725894, 0, 0, 1, 0, 0, 0, 0, 1, 0, 0, 0, 1, 0, 0]\n",
            "[0, 0, 0.8483068156357059, 0.36358023206809986, 0, 0, 0.004326637283782096, 0, 0, 0, 0, 0, 0, 1, 0, 0, 0, 0, 1, 0, 0, 0, 1]\n",
            "[0, 0, 0.8483068156357059, 0, 0.02347128966384203, 0, 0, 0.00020517990841053575, 0, 0, 0, 0, 0, 1, 0, 0, 0, 0, 1, 0, 0, 0, 1]\n",
            "[0, 0, 0, 0.36358023206809986, 0.23553418498065282, 0, 0, 0, 0.000978631317721781, 0, 0, 0, 0, 1, 0, 0, 0, 0, 1, 0, 0, 0, 1]\n",
            "[0, 0, 1.045809489930507, 0.17266902870542378, 0, 0, 0.0024144443121560588, 0, 0, 0, 0, 1, 0, 0, 0, 1, 0, 0, 0, 0, 1, 0, 0]\n",
            "[0, 0, 0, 0.9767088023539988, 0.16241542761803504, 0, 0, 0, 0.0020761007727725894, 0, 0, 1, 0, 0, 0, 1, 0, 0, 0, 0, 1, 0, 0]\n",
            "[0, 0, 1.045809489930507, 0, 0.16241542761803504, 0, 0, 0.0022556833919568893, 0, 0, 0, 1, 0, 0, 0, 1, 0, 0, 0, 0, 1, 0, 0]\n",
            "[0, 0, 2.9345674259030377, 0, 0, 0.007922196135799343, 0, 0, 0, 0, 0, 0, 0, 1, 0, 0, 1, 0, 0, 0, 0, 0, 1]\n",
            "[0, 0, 2.1066612074350157, 0, 0, 0.033693320877662164, 0, 0, 0.000978631317721781, 0, 0, 0, 0, 1, 0, 0, 1, 0, 0, 0, 0, 0, 1]\n",
            "[0, 0, 0.8483068156357059, 0, 0, 0.033693320877662164, 0, 0, 0.000305814313490894, 0, 0, 0, 0, 1, 0, 0, 1, 0, 0, 0, 0, 0, 1]\n"
          ]
        },
        {
          "data": {
            "image/png": "[encoded data removed]",
            "text/plain": [
              "<Figure size 640x480 with 1 Axes>"
            ]
          },
          "metadata": {},
          "output_type": "display_data"
        },
        {
          "data": {
            "image/png": "[encoded data removed]",
            "text/plain": [
              "<Figure size 640x480 with 1 Axes>"
            ]
          },
          "metadata": {},
          "output_type": "display_data"
        },
        {
          "data": {
            "image/png": "[encoded data removed]",
            "text/plain": [
              "<Figure size 640x480 with 1 Axes>"
            ]
          },
          "metadata": {},
          "output_type": "display_data"
        }
      ],
      "source": [
        "from scipy.spatial.distance import pdist, squareform\n",
        "from sklearn.metrics import pairwise_distances\n",
        "import numpy as np\n",
        "\n",
        "vector_encoding5 = [\n",
        "\n",
        "     [10*x for x in results_intervals_histo_12[chord_id]['feature_vector']]\n",
        "     #results_polar_degree[chord_id]['feature_vector'] +\n",
        "     #results_intervals_histo_12[chord_id]['feature_vector']\n",
        "     #+\n",
        "     #results_binary_intervals_12[chord_id]['feature_vector']\n",
        "     +\n",
        "     results_binary_notes[chord_id]['feature_vector']\n",
        "    #results_polar_notes[chord_id]['feature_vector']\n",
        "    for chord_id in results_intervals_theory.keys()\n",
        "]\n",
        "\n",
        "# Realiza MDS en los datos\n",
        "vector_encoding_mds5,matrix = perform_mds(vector_encoding5)\n",
        "vector_encoding_mds5_our, matrix2=perform_mds2(vector_encoding5,'hamming')\n",
        "cg.plot_chords_with_selection(vector_encoding_mds5_our,matrix2, chord_ids, datos,True,True )\n",
        "\n",
        "for i in vector_encoding5:\n",
        "    print(i)\n",
        "\n",
        "Our_multidim=segment_and_calculate_and_visualize_metrics_original_space(np.array(vector_encoding5))\n",
        "#Our_2dim=segment_and_calculate_and_visualize_metrics_original_space(np.array(vector_encoding_mds5_our))\n",
        "\n"
      ]
    },
    {
      "cell_type": "code",
      "execution_count": null,
      "metadata": {
        "colab": {
          "base_uri": "https://localhost:8080/"
        },
        "id": "4WsqmZ1TgGEr",
        "outputId": "f099af71-5e87-4448-ec7d-0cade33fedd2"
      },
      "outputs": [
        {
          "data": {
            "text/plain": [
              "array([[-1.19615412, -0.46525396],\n",
              "       [-0.92546296, -0.35501381],\n",
              "       [-0.79027891, -0.73693607],\n",
              "       [ 1.17377799,  0.35918143],\n",
              "       [ 1.09403855, -0.32758328],\n",
              "       [ 0.86380399, -0.06268436],\n",
              "       [-0.91957074,  0.62069256],\n",
              "       [-1.02134539,  0.30824069],\n",
              "       [-0.77816877,  0.30850919],\n",
              "       [ 0.54952669, -0.67269455],\n",
              "       [ 0.54580163, -0.56845842],\n",
              "       [ 0.65559262, -1.0086678 ],\n",
              "       [-0.22668595,  0.75550676],\n",
              "       [-0.17754402,  0.81444027],\n",
              "       [-0.43239546,  1.00513481],\n",
              "       [-0.15242925, -0.75785086],\n",
              "       [-0.14704423, -1.2752357 ],\n",
              "       [-0.16172837, -0.80709349],\n",
              "       [ 0.90875534,  1.32735457],\n",
              "       [ 0.68660322,  0.96082724],\n",
              "       [ 0.45090813,  0.57758478]])"
            ]
          },
          "execution_count": 33,
          "metadata": {},
          "output_type": "execute_result"
        }
      ],
      "source": [
        "vector_encoding_mds5_our"
      ]
    },
    {
      "cell_type": "code",
      "execution_count": null,
      "metadata": {
        "colab": {
          "base_uri": "https://localhost:8080/"
        },
        "id": "gEf9X0KEH4sX",
        "outputId": "06eca77c-549b-4e57-ab11-731713e763ea"
      },
      "outputs": [
        {
          "data": {
            "text/plain": [
              "{'C': {'Varianza': 1.2814368952554076,\n",
              "  'Desviacion_std': 0.23603950436272383,\n",
              "  'Distancia_media': 1.5483372160447606},\n",
              " 'D': {'Varianza': 1.2528052920338903,\n",
              "  'Desviacion_std': 0.23338765028557384,\n",
              "  'Distancia_media': 1.4872798757203236},\n",
              " 'E': {'Varianza': 0.8443906375404299,\n",
              "  'Desviacion_std': 0.19160541854238178,\n",
              "  'Distancia_media': 1.2156433709439671},\n",
              " 'F': {'Varianza': 0.4781398261353855,\n",
              "  'Desviacion_std': 0.1441828287031533,\n",
              "  'Distancia_media': 0.9266516291825259},\n",
              " 'G': {'Varianza': 0.3007779069548292,\n",
              "  'Desviacion_std': 0.11435602433795904,\n",
              "  'Distancia_media': 0.7305867664581336},\n",
              " 'A': {'Varianza': 0.6450796020132438,\n",
              "  'Desviacion_std': 0.16747220431452833,\n",
              "  'Distancia_media': 0.9990594941635859},\n",
              " 'B': {'Varianza': 1.1037829369261571,\n",
              "  'Desviacion_std': 0.21906748383785832,\n",
              "  'Distancia_media': 1.3910273910080384}}"
            ]
          },
          "execution_count": 20,
          "metadata": {},
          "output_type": "execute_result"
        }
      ],
      "source": [
        "\n",
        "\n",
        "Our_multidim"
      ]
    },
    {
      "cell_type": "code",
      "execution_count": null,
      "metadata": {
        "colab": {
          "base_uri": "https://localhost:8080/"
        },
        "id": "s1zHlTKlOans",
        "outputId": "5e3e20a7-c46c-419d-ed4c-1e1cb950b41d"
      },
      "outputs": [
        {
          "data": {
            "text/plain": [
              "{'C': {'Varianza': 0.17249312744175932,\n",
              "  'Desviacion_std': None,\n",
              "  'Distancia_media': 0.5753448575465447,\n",
              "  'Desviación Estándar al Centroide': 0.05925624073582236},\n",
              " 'D': {'Varianza': 0.3468361867785864,\n",
              "  'Desviacion_std': None,\n",
              "  'Distancia_media': 0.8000223810616035,\n",
              "  'Desviación Estándar al Centroide': 0.1413335014521801},\n",
              " 'E': {'Varianza': 0.11245496260450477,\n",
              "  'Desviacion_std': None,\n",
              "  'Distancia_media': 0.4685985525591419,\n",
              "  'Desviación Estándar al Centroide': 0.04294887059267786},\n",
              " 'F': {'Varianza': 0.13017522035050622,\n",
              "  'Desviacion_std': None,\n",
              "  'Distancia_media': 0.4547981799598762,\n",
              "  'Desviación Estándar al Centroide': 0.11087120062249733},\n",
              " 'G': {'Varianza': 0.07546199724862436,\n",
              "  'Desviacion_std': None,\n",
              "  'Distancia_media': 0.34829439350012054,\n",
              "  'Desviación Estándar al Centroide': 0.06938829307158631},\n",
              " 'A': {'Varianza': 0.18115981390551192,\n",
              "  'Desviacion_std': None,\n",
              "  'Distancia_media': 0.5085082927248569,\n",
              "  'Desviación Estándar al Centroide': 0.11739895004760759},\n",
              " 'B': {'Varianza': 0.47169047594212543,\n",
              "  'Desviacion_std': None,\n",
              "  'Distancia_media': 0.915349779177566,\n",
              "  'Desviación Estándar al Centroide': 0.3128668739126715}}"
            ]
          },
          "execution_count": 62,
          "metadata": {},
          "output_type": "execute_result"
        }
      ],
      "source": [
        "Our_2dim"
      ]
    },
    {
      "cell_type": "code",
      "execution_count": null,
      "metadata": {
        "colab": {
          "base_uri": "https://localhost:8080/"
        },
        "id": "RnWL3Ok3P9yX",
        "outputId": "63e22cb4-be3f-4f8f-cf5b-0071fe1eaddb"
      },
      "outputs": [
        {
          "data": {
            "text/plain": [
              "0.7073954983922829"
            ]
          },
          "execution_count": 29,
          "metadata": {},
          "output_type": "execute_result"
        }
      ],
      "source": [
        "0.0220/0.0311"
      ]
    }
  ],
  "metadata": {
    "colab": {
      "collapsed_sections": [
        "ypnnnTwLrg6z",
        "iu4wMS98r0iA",
        "NLI49Befr_xH",
        "kGSs6vuMsteQ"
      ],
      "provenance": []
    },
    "kernelspec": {
      "display_name": "Python 3",
      "name": "python3"
    },
    "language_info": {
      "codemirror_mode": {
        "name": "ipython",
        "version": 3
      },
      "file_extension": ".py",
      "mimetype": "text/x-python",
      "name": "python",
      "nbconvert_exporter": "python",
      "pygments_lexer": "ipython3",
      "version": "3.11.2"
    },
    "widgets": {
      "application/vnd.jupyter.widget-state+json": {
        "0421d3d8eedf405fab297cd18922e7aa": {
          "model_module": "@jupyter-widgets/base",
          "model_module_version": "1.2.0",
          "model_name": "LayoutModel",
          "state": {
            "_model_module": "@jupyter-widgets/base",
            "_model_module_version": "1.2.0",
            "_model_name": "LayoutModel",
            "_view_count": null,
            "_view_module": "@jupyter-widgets/base",
            "_view_module_version": "1.2.0",
            "_view_name": "LayoutView",
            "align_content": null,
            "align_items": null,
            "align_self": null,
            "border": null,
            "bottom": null,
            "display": null,
            "flex": null,
            "flex_flow": null,
            "grid_area": null,
            "grid_auto_columns": null,
            "grid_auto_flow": null,
            "grid_auto_rows": null,
            "grid_column": null,
            "grid_gap": null,
            "grid_row": null,
            "grid_template_areas": null,
            "grid_template_columns": null,
            "grid_template_rows": null,
            "height": null,
            "justify_content": null,
            "justify_items": null,
            "left": null,
            "margin": null,
            "max_height": null,
            "max_width": null,
            "min_height": null,
            "min_width": null,
            "object_fit": null,
            "object_position": null,
            "order": null,
            "overflow": null,
            "overflow_x": null,
            "overflow_y": null,
            "padding": null,
            "right": null,
            "top": null,
            "visibility": null,
            "width": null
          }
        },
        "0bfa1988ff8c47b4b22808a2ab4d6e5b": {
          "model_module": "@jupyter-widgets/controls",
          "model_module_version": "1.5.0",
          "model_name": "DescriptionStyleModel",
          "state": {
            "_model_module": "@jupyter-widgets/controls",
            "_model_module_version": "1.5.0",
            "_model_name": "DescriptionStyleModel",
            "_view_count": null,
            "_view_module": "@jupyter-widgets/base",
            "_view_module_version": "1.2.0",
            "_view_name": "StyleView",
            "description_width": ""
          }
        },
        "0debc6b2a0454f69aec897371ade9559": {
          "model_module": "@jupyter-widgets/controls",
          "model_module_version": "1.5.0",
          "model_name": "DropdownModel",
          "state": {
            "_dom_classes": [],
            "_model_module": "@jupyter-widgets/controls",
            "_model_module_version": "1.5.0",
            "_model_name": "DropdownModel",
            "_options_labels": [
              "Chord ID: chord_0, C",
              "Chord ID: chord_1, C/E",
              "Chord ID: chord_2, C/G",
              "Chord ID: chord_3, Dm",
              "Chord ID: chord_4, Dm/F",
              "Chord ID: chord_5, Dm/A",
              "Chord ID: chord_6, Em",
              "Chord ID: chord_7, Em/G",
              "Chord ID: chord_8, Em/B",
              "Chord ID: chord_9, F",
              "Chord ID: chord_10, F/A",
              "Chord ID: chord_11, F/C",
              "Chord ID: chord_12, G",
              "Chord ID: chord_13, G/B",
              "Chord ID: chord_14, G/D",
              "Chord ID: chord_15, Am",
              "Chord ID: chord_16, Am/C",
              "Chord ID: chord_17, Am/E",
              "Chord ID: chord_18, B°",
              "Chord ID: chord_19, B°/D",
              "Chord ID: chord_20, B°/F"
            ],
            "_view_count": null,
            "_view_module": "@jupyter-widgets/controls",
            "_view_module_version": "1.5.0",
            "_view_name": "DropdownView",
            "description": "Chord ID:",
            "description_tooltip": null,
            "disabled": false,
            "index": 0,
            "layout": "IPY_MODEL_5a742582277d45d5abd979343cc9d1a1",
            "style": "IPY_MODEL_0bfa1988ff8c47b4b22808a2ab4d6e5b"
          }
        },
        "1fb413ff86c04548b5bc23a4666b5cd4": {
          "model_module": "@jupyter-widgets/controls",
          "model_module_version": "1.5.0",
          "model_name": "ButtonModel",
          "state": {
            "_dom_classes": [],
            "_model_module": "@jupyter-widgets/controls",
            "_model_module_version": "1.5.0",
            "_model_name": "ButtonModel",
            "_view_count": null,
            "_view_module": "@jupyter-widgets/controls",
            "_view_module_version": "1.5.0",
            "_view_name": "ButtonView",
            "button_style": "",
            "description": "Refrescar archivos",
            "disabled": false,
            "icon": "",
            "layout": "IPY_MODEL_74a0f201cf46498b99869b7efc19d6c2",
            "style": "IPY_MODEL_6153703ff84f4b509939782919a651b0",
            "tooltip": ""
          }
        },
        "2e730129fbcc4559a604903a7236d50e": {
          "model_module": "jupyterlab-plotly",
          "model_module_version": "^5.15.0",
          "model_name": "FigureModel",
          "state": {
            "_config": {
              "plotlyServerURL": "https://plot.ly"
            },
            "_data": [
              {
                "hoverinfo": "text",
                "hovertext": [
                  "Root: C<br>Bass: C<br>Octave: 5<br>Degree: 1<br>Intervals: [4, 3]",
                  "Root: C<br>Bass: E<br>Octave: 5<br>Degree: 1<br>Intervals: [4, 3]",
                  "Root: C<br>Bass: G<br>Octave: 5<br>Degree: 1<br>Intervals: [4, 3]",
                  "Root: D<br>Bass: D<br>Octave: 5<br>Degree: 2<br>Intervals: [3, 4]",
                  "Root: D<br>Bass: F<br>Octave: 5<br>Degree: 2<br>Intervals: [3, 4]",
                  "Root: D<br>Bass: A<br>Octave: 5<br>Degree: 2<br>Intervals: [3, 4]",
                  "Root: E<br>Bass: E<br>Octave: 5<br>Degree: 3<br>Intervals: [3, 4]",
                  "Root: E<br>Bass: G<br>Octave: 5<br>Degree: 3<br>Intervals: [3, 4]",
                  "Root: E<br>Bass: B<br>Octave: 5<br>Degree: 3<br>Intervals: [3, 4]",
                  "Root: F<br>Bass: F<br>Octave: 5<br>Degree: 4<br>Intervals: [4, 3]",
                  "Root: F<br>Bass: A<br>Octave: 5<br>Degree: 4<br>Intervals: [4, 3]",
                  "Root: F<br>Bass: C<br>Octave: 5<br>Degree: 4<br>Intervals: [4, 3]",
                  "Root: G<br>Bass: G<br>Octave: 5<br>Degree: 5<br>Intervals: [4, 3]",
                  "Root: G<br>Bass: B<br>Octave: 5<br>Degree: 5<br>Intervals: [4, 3]",
                  "Root: G<br>Bass: D<br>Octave: 5<br>Degree: 5<br>Intervals: [4, 3]",
                  "Root: A<br>Bass: A<br>Octave: 5<br>Degree: 6<br>Intervals: [3, 4]",
                  "Root: A<br>Bass: C<br>Octave: 5<br>Degree: 6<br>Intervals: [3, 4]",
                  "Root: A<br>Bass: E<br>Octave: 5<br>Degree: 6<br>Intervals: [3, 4]",
                  "Root: B<br>Bass: B<br>Octave: 5<br>Degree: 7<br>Intervals: [3, 3]",
                  "Root: B<br>Bass: D<br>Octave: 5<br>Degree: 7<br>Intervals: [3, 3]",
                  "Root: B<br>Bass: F<br>Octave: 5<br>Degree: 7<br>Intervals: [3, 3]"
                ],
                "marker": {
                  "color": [
                    "red",
                    "red",
                    "red",
                    "blue",
                    "blue",
                    "blue",
                    "blue",
                    "blue",
                    "blue",
                    "red",
                    "red",
                    "red",
                    "red",
                    "red",
                    "red",
                    "blue",
                    "blue",
                    "blue",
                    "green",
                    "green",
                    "green"
                  ],
                  "size": 13,
                  "symbol": [
                    "star-square",
                    "star-square",
                    "star-square",
                    "star-triangle-down",
                    "star-triangle-down",
                    "star-triangle-down",
                    "star-triangle-down",
                    "star-triangle-down",
                    "star-triangle-down",
                    "star-square",
                    "star-square",
                    "star-square",
                    "star-square",
                    "star-square",
                    "star-square",
                    "star-triangle-down",
                    "star-triangle-down",
                    "star-triangle-down",
                    "circle",
                    "circle",
                    "circle"
                  ]
                },
                "mode": "markers+text",
                "text": [
                  "C",
                  "C/E",
                  "C/G",
                  "Dm",
                  "Dm/F",
                  "Dm/A",
                  "Em",
                  "Em/G",
                  "Em/B",
                  "F",
                  "F/A",
                  "F/C",
                  "G",
                  "G/B",
                  "G/D",
                  "Am",
                  "Am/C",
                  "Am/E",
                  "B°",
                  "B°/D",
                  "B°/F"
                ],
                "textposition": "top center",
                "type": "scatter",
                "uid": "40174cf0-5dca-4912-83b1-741656297a2e",
                "x": {
                  "dtype": "float64",
                  "shape": [
                    21
                  ]
                },
                "y": {
                  "dtype": "float64",
                  "shape": [
                    21
                  ]
                }
              }
            ],
            "_dom_classes": [],
            "_js2py_layoutDelta": null,
            "_js2py_pointsCallback": {},
            "_js2py_relayout": {},
            "_js2py_restyle": {},
            "_js2py_traceDeltas": null,
            "_js2py_update": {},
            "_last_layout_edit_id": 0,
            "_last_trace_edit_id": 0,
            "_layout": {
              "autosize": false,
              "height": 800,
              "showlegend": false,
              "title": {
                "text": "Chord Representation (2D)"
              },
              "width": 800,
              "xaxis": {
                "autorange": false,
                "range": [
                  -1.0392378289988022,
                  1.235426985330757
                ],
                "title": {
                  "text": ""
                }
              },
              "yaxis": {
                "autorange": false,
                "range": [
                  -2.6980428909751675,
                  1.2830071480310794
                ],
                "scaleanchor": "x",
                "scaleratio": 1,
                "title": {
                  "text": ""
                }
              }
            },
            "_model_module": "jupyterlab-plotly",
            "_model_module_version": "^5.15.0",
            "_model_name": "FigureModel",
            "_py2js_addTraces": {},
            "_py2js_animate": {},
            "_py2js_deleteTraces": {},
            "_py2js_moveTraces": {},
            "_py2js_relayout": null,
            "_py2js_removeLayoutProps": {},
            "_py2js_removeTraceProps": {},
            "_py2js_restyle": {},
            "_py2js_update": {},
            "_view_count": 1,
            "_view_module": "jupyterlab-plotly",
            "_view_module_version": "^5.15.0",
            "_view_name": "FigureView"
          }
        },
        "3b3f29377d7d4400a691001648e8c371": {
          "model_module": "jupyterlab-plotly",
          "model_module_version": "^5.15.0",
          "model_name": "FigureModel",
          "state": {
            "_config": {
              "plotlyServerURL": "https://plot.ly"
            },
            "_data": [
              {
                "hoverinfo": "text",
                "hovertext": [
                  "Root: C<br>Bass: C<br>Octave: 5<br>Degree: 1<br>Intervals: [4, 3]",
                  "Root: C<br>Bass: E<br>Octave: 5<br>Degree: 1<br>Intervals: [4, 3]",
                  "Root: C<br>Bass: G<br>Octave: 5<br>Degree: 1<br>Intervals: [4, 3]",
                  "Root: D<br>Bass: D<br>Octave: 5<br>Degree: 2<br>Intervals: [3, 4]",
                  "Root: D<br>Bass: F<br>Octave: 5<br>Degree: 2<br>Intervals: [3, 4]",
                  "Root: D<br>Bass: A<br>Octave: 5<br>Degree: 2<br>Intervals: [3, 4]",
                  "Root: E<br>Bass: E<br>Octave: 5<br>Degree: 3<br>Intervals: [3, 4]",
                  "Root: E<br>Bass: G<br>Octave: 5<br>Degree: 3<br>Intervals: [3, 4]",
                  "Root: E<br>Bass: B<br>Octave: 5<br>Degree: 3<br>Intervals: [3, 4]",
                  "Root: F<br>Bass: F<br>Octave: 5<br>Degree: 4<br>Intervals: [4, 3]",
                  "Root: F<br>Bass: A<br>Octave: 5<br>Degree: 4<br>Intervals: [4, 3]",
                  "Root: F<br>Bass: C<br>Octave: 5<br>Degree: 4<br>Intervals: [4, 3]",
                  "Root: G<br>Bass: G<br>Octave: 5<br>Degree: 5<br>Intervals: [4, 3]",
                  "Root: G<br>Bass: B<br>Octave: 5<br>Degree: 5<br>Intervals: [4, 3]",
                  "Root: G<br>Bass: D<br>Octave: 5<br>Degree: 5<br>Intervals: [4, 3]",
                  "Root: A<br>Bass: A<br>Octave: 5<br>Degree: 6<br>Intervals: [3, 4]",
                  "Root: A<br>Bass: C<br>Octave: 5<br>Degree: 6<br>Intervals: [3, 4]",
                  "Root: A<br>Bass: E<br>Octave: 5<br>Degree: 6<br>Intervals: [3, 4]",
                  "Root: B<br>Bass: B<br>Octave: 5<br>Degree: 7<br>Intervals: [3, 3]",
                  "Root: B<br>Bass: D<br>Octave: 5<br>Degree: 7<br>Intervals: [3, 3]",
                  "Root: B<br>Bass: F<br>Octave: 5<br>Degree: 7<br>Intervals: [3, 3]"
                ],
                "marker": {
                  "color": [
                    "red",
                    "red",
                    "red",
                    "blue",
                    "blue",
                    "blue",
                    "blue",
                    "blue",
                    "blue",
                    "red",
                    "red",
                    "red",
                    "red",
                    "red",
                    "red",
                    "blue",
                    "blue",
                    "blue",
                    "green",
                    "green",
                    "green"
                  ],
                  "size": 13,
                  "symbol": [
                    "star-square",
                    "star-square",
                    "star-square",
                    "star-triangle-down",
                    "star-triangle-down",
                    "star-triangle-down",
                    "star-triangle-down",
                    "star-triangle-down",
                    "star-triangle-down",
                    "star-square",
                    "star-square",
                    "star-square",
                    "star-square",
                    "star-square",
                    "star-square",
                    "star-triangle-down",
                    "star-triangle-down",
                    "star-triangle-down",
                    "circle",
                    "circle",
                    "circle"
                  ]
                },
                "mode": "markers+text",
                "text": [
                  "C",
                  "C/E",
                  "C/G",
                  "Dm",
                  "Dm/F",
                  "Dm/A",
                  "Em",
                  "Em/G",
                  "Em/B",
                  "F",
                  "F/A",
                  "F/C",
                  "G",
                  "G/B",
                  "G/D",
                  "Am",
                  "Am/C",
                  "Am/E",
                  "B°",
                  "B°/D",
                  "B°/F"
                ],
                "textposition": "top center",
                "type": "scatter",
                "uid": "ebf1dc1a-6a9e-4ea8-8dd1-16e27709ebbb",
                "x": {
                  "dtype": "float64",
                  "shape": [
                    21
                  ]
                },
                "y": {
                  "dtype": "float64",
                  "shape": [
                    21
                  ]
                }
              }
            ],
            "_dom_classes": [],
            "_js2py_layoutDelta": null,
            "_js2py_pointsCallback": {},
            "_js2py_relayout": {},
            "_js2py_restyle": {},
            "_js2py_traceDeltas": null,
            "_js2py_update": {},
            "_last_layout_edit_id": 0,
            "_last_trace_edit_id": 0,
            "_layout": {
              "autosize": false,
              "height": 800,
              "showlegend": false,
              "title": {
                "text": "Chord Representation (2D)"
              },
              "width": 800,
              "xaxis": {
                "autorange": false,
                "range": [
                  -1.2490361601656854,
                  1.2473243406421992
                ],
                "title": {
                  "text": ""
                }
              },
              "yaxis": {
                "autorange": false,
                "range": [
                  -1.2819022019306316,
                  1.2525293073297232
                ],
                "scaleanchor": "x",
                "scaleratio": 1,
                "title": {
                  "text": ""
                }
              }
            },
            "_model_module": "jupyterlab-plotly",
            "_model_module_version": "^5.15.0",
            "_model_name": "FigureModel",
            "_py2js_addTraces": {},
            "_py2js_animate": {},
            "_py2js_deleteTraces": {},
            "_py2js_moveTraces": {},
            "_py2js_relayout": null,
            "_py2js_removeLayoutProps": null,
            "_py2js_removeTraceProps": {},
            "_py2js_restyle": {},
            "_py2js_update": {},
            "_view_count": 1,
            "_view_module": "jupyterlab-plotly",
            "_view_module_version": "^5.15.0",
            "_view_name": "FigureView"
          }
        },
        "4b641ada724f4f31b708f195a6f07d97": {
          "model_module": "@jupyter-widgets/base",
          "model_module_version": "1.2.0",
          "model_name": "LayoutModel",
          "state": {
            "_model_module": "@jupyter-widgets/base",
            "_model_module_version": "1.2.0",
            "_model_name": "LayoutModel",
            "_view_count": null,
            "_view_module": "@jupyter-widgets/base",
            "_view_module_version": "1.2.0",
            "_view_name": "LayoutView",
            "align_content": null,
            "align_items": null,
            "align_self": null,
            "border": null,
            "bottom": null,
            "display": null,
            "flex": null,
            "flex_flow": null,
            "grid_area": null,
            "grid_auto_columns": null,
            "grid_auto_flow": null,
            "grid_auto_rows": null,
            "grid_column": null,
            "grid_gap": null,
            "grid_row": null,
            "grid_template_areas": null,
            "grid_template_columns": null,
            "grid_template_rows": null,
            "height": null,
            "justify_content": null,
            "justify_items": null,
            "left": null,
            "margin": null,
            "max_height": null,
            "max_width": null,
            "min_height": null,
            "min_width": null,
            "object_fit": null,
            "object_position": null,
            "order": null,
            "overflow": null,
            "overflow_x": null,
            "overflow_y": null,
            "padding": null,
            "right": null,
            "top": null,
            "visibility": null,
            "width": null
          }
        },
        "4dd18e15ce4a44e782bac81e82394190": {
          "model_module": "@jupyter-widgets/controls",
          "model_module_version": "1.5.0",
          "model_name": "DropdownModel",
          "state": {
            "_dom_classes": [],
            "_model_module": "@jupyter-widgets/controls",
            "_model_module_version": "1.5.0",
            "_model_name": "DropdownModel",
            "_options_labels": [
              "experiment_data_inversiones.pkl",
              "experiment_data_Experiment_pcset.pkl",
              "results_Experiment_pcset.pkl",
              "experiment_data_binary_pitch_class_set.pkl",
              "results_binary_pitch_class_set.pkl",
              "experiment_data_interval_histogram.pkl",
              "results_interval_histogram.pkl",
              "experiment_data_interval_histogram_with_dissmeasure.pkl",
              "results_interval_histogram_with_dissmeasure.pkl",
              "experiment_data_only_six_intervals.pkl",
              "results_only_six_intervals.pkl",
              "experiment_data_characteristics_1.pkl",
              "results_characteristics_1.pkl"
            ],
            "_view_count": null,
            "_view_module": "@jupyter-widgets/controls",
            "_view_module_version": "1.5.0",
            "_view_name": "DropdownView",
            "description": "Archivo:",
            "description_tooltip": null,
            "disabled": false,
            "index": 0,
            "layout": "IPY_MODEL_a4648fa1ba9c46278be42815bac80024",
            "style": "IPY_MODEL_ac347f52ae8945e4b955ae7c2c286179"
          }
        },
        "539fc9baf35a443e9e674878f58b03e8": {
          "model_module": "@jupyter-widgets/controls",
          "model_module_version": "1.5.0",
          "model_name": "DescriptionStyleModel",
          "state": {
            "_model_module": "@jupyter-widgets/controls",
            "_model_module_version": "1.5.0",
            "_model_name": "DescriptionStyleModel",
            "_view_count": null,
            "_view_module": "@jupyter-widgets/base",
            "_view_module_version": "1.2.0",
            "_view_name": "StyleView",
            "description_width": ""
          }
        },
        "5a742582277d45d5abd979343cc9d1a1": {
          "model_module": "@jupyter-widgets/base",
          "model_module_version": "1.2.0",
          "model_name": "LayoutModel",
          "state": {
            "_model_module": "@jupyter-widgets/base",
            "_model_module_version": "1.2.0",
            "_model_name": "LayoutModel",
            "_view_count": null,
            "_view_module": "@jupyter-widgets/base",
            "_view_module_version": "1.2.0",
            "_view_name": "LayoutView",
            "align_content": null,
            "align_items": null,
            "align_self": null,
            "border": null,
            "bottom": null,
            "display": null,
            "flex": null,
            "flex_flow": null,
            "grid_area": null,
            "grid_auto_columns": null,
            "grid_auto_flow": null,
            "grid_auto_rows": null,
            "grid_column": null,
            "grid_gap": null,
            "grid_row": null,
            "grid_template_areas": null,
            "grid_template_columns": null,
            "grid_template_rows": null,
            "height": null,
            "justify_content": null,
            "justify_items": null,
            "left": null,
            "margin": null,
            "max_height": null,
            "max_width": null,
            "min_height": null,
            "min_width": null,
            "object_fit": null,
            "object_position": null,
            "order": null,
            "overflow": null,
            "overflow_x": null,
            "overflow_y": null,
            "padding": null,
            "right": null,
            "top": null,
            "visibility": null,
            "width": null
          }
        },
        "5c54ab98dc614fbb962522108f489c0d": {
          "model_module": "@jupyter-widgets/base",
          "model_module_version": "1.2.0",
          "model_name": "LayoutModel",
          "state": {
            "_model_module": "@jupyter-widgets/base",
            "_model_module_version": "1.2.0",
            "_model_name": "LayoutModel",
            "_view_count": null,
            "_view_module": "@jupyter-widgets/base",
            "_view_module_version": "1.2.0",
            "_view_name": "LayoutView",
            "align_content": null,
            "align_items": null,
            "align_self": null,
            "border": null,
            "bottom": null,
            "display": null,
            "flex": null,
            "flex_flow": null,
            "grid_area": null,
            "grid_auto_columns": null,
            "grid_auto_flow": null,
            "grid_auto_rows": null,
            "grid_column": null,
            "grid_gap": null,
            "grid_row": null,
            "grid_template_areas": null,
            "grid_template_columns": null,
            "grid_template_rows": null,
            "height": null,
            "justify_content": null,
            "justify_items": null,
            "left": null,
            "margin": null,
            "max_height": null,
            "max_width": null,
            "min_height": null,
            "min_width": null,
            "object_fit": null,
            "object_position": null,
            "order": null,
            "overflow": null,
            "overflow_x": null,
            "overflow_y": null,
            "padding": null,
            "right": null,
            "top": null,
            "visibility": null,
            "width": null
          }
        },
        "6153703ff84f4b509939782919a651b0": {
          "model_module": "@jupyter-widgets/controls",
          "model_module_version": "1.5.0",
          "model_name": "ButtonStyleModel",
          "state": {
            "_model_module": "@jupyter-widgets/controls",
            "_model_module_version": "1.5.0",
            "_model_name": "ButtonStyleModel",
            "_view_count": null,
            "_view_module": "@jupyter-widgets/base",
            "_view_module_version": "1.2.0",
            "_view_name": "StyleView",
            "button_color": null,
            "font_weight": ""
          }
        },
        "64364596d6e0420fb9c0e47bc9578e4c": {
          "model_module": "@jupyter-widgets/controls",
          "model_module_version": "1.5.0",
          "model_name": "DescriptionStyleModel",
          "state": {
            "_model_module": "@jupyter-widgets/controls",
            "_model_module_version": "1.5.0",
            "_model_name": "DescriptionStyleModel",
            "_view_count": null,
            "_view_module": "@jupyter-widgets/base",
            "_view_module_version": "1.2.0",
            "_view_name": "StyleView",
            "description_width": ""
          }
        },
        "6a26e4c393b14083ae4c47f0a207f7c4": {
          "model_module": "@jupyter-widgets/base",
          "model_module_version": "1.2.0",
          "model_name": "LayoutModel",
          "state": {
            "_model_module": "@jupyter-widgets/base",
            "_model_module_version": "1.2.0",
            "_model_name": "LayoutModel",
            "_view_count": null,
            "_view_module": "@jupyter-widgets/base",
            "_view_module_version": "1.2.0",
            "_view_name": "LayoutView",
            "align_content": null,
            "align_items": null,
            "align_self": null,
            "border": null,
            "bottom": null,
            "display": null,
            "flex": null,
            "flex_flow": null,
            "grid_area": null,
            "grid_auto_columns": null,
            "grid_auto_flow": null,
            "grid_auto_rows": null,
            "grid_column": null,
            "grid_gap": null,
            "grid_row": null,
            "grid_template_areas": null,
            "grid_template_columns": null,
            "grid_template_rows": null,
            "height": null,
            "justify_content": null,
            "justify_items": null,
            "left": null,
            "margin": null,
            "max_height": null,
            "max_width": null,
            "min_height": null,
            "min_width": null,
            "object_fit": null,
            "object_position": null,
            "order": null,
            "overflow": null,
            "overflow_x": null,
            "overflow_y": null,
            "padding": null,
            "right": null,
            "top": null,
            "visibility": null,
            "width": null
          }
        },
        "6b2c9ade6c124b6c9c82d77e5016cea3": {
          "model_module": "@jupyter-widgets/controls",
          "model_module_version": "1.5.0",
          "model_name": "ButtonStyleModel",
          "state": {
            "_model_module": "@jupyter-widgets/controls",
            "_model_module_version": "1.5.0",
            "_model_name": "ButtonStyleModel",
            "_view_count": null,
            "_view_module": "@jupyter-widgets/base",
            "_view_module_version": "1.2.0",
            "_view_name": "StyleView",
            "button_color": null,
            "font_weight": ""
          }
        },
        "724651acc3fb4fdfa7701eb79f886984": {
          "model_module": "jupyterlab-plotly",
          "model_module_version": "^5.15.0",
          "model_name": "FigureModel",
          "state": {
            "_config": {
              "plotlyServerURL": "https://plot.ly"
            },
            "_data": [
              {
                "hoverinfo": "text",
                "hovertext": [
                  "Root: C<br>Bass: C<br>Octave: 5<br>Degree: 1<br>Intervals: [4, 3]",
                  "Root: C<br>Bass: E<br>Octave: 5<br>Degree: 1<br>Intervals: [4, 3]",
                  "Root: C<br>Bass: G<br>Octave: 5<br>Degree: 1<br>Intervals: [4, 3]",
                  "Root: D<br>Bass: D<br>Octave: 5<br>Degree: 2<br>Intervals: [3, 4]",
                  "Root: D<br>Bass: F<br>Octave: 5<br>Degree: 2<br>Intervals: [3, 4]",
                  "Root: D<br>Bass: A<br>Octave: 5<br>Degree: 2<br>Intervals: [3, 4]",
                  "Root: E<br>Bass: E<br>Octave: 5<br>Degree: 3<br>Intervals: [3, 4]",
                  "Root: E<br>Bass: G<br>Octave: 5<br>Degree: 3<br>Intervals: [3, 4]",
                  "Root: E<br>Bass: B<br>Octave: 5<br>Degree: 3<br>Intervals: [3, 4]",
                  "Root: F<br>Bass: F<br>Octave: 5<br>Degree: 4<br>Intervals: [4, 3]",
                  "Root: F<br>Bass: A<br>Octave: 5<br>Degree: 4<br>Intervals: [4, 3]",
                  "Root: F<br>Bass: C<br>Octave: 5<br>Degree: 4<br>Intervals: [4, 3]",
                  "Root: G<br>Bass: G<br>Octave: 5<br>Degree: 5<br>Intervals: [4, 3]",
                  "Root: G<br>Bass: B<br>Octave: 5<br>Degree: 5<br>Intervals: [4, 3]",
                  "Root: G<br>Bass: D<br>Octave: 5<br>Degree: 5<br>Intervals: [4, 3]",
                  "Root: A<br>Bass: A<br>Octave: 5<br>Degree: 6<br>Intervals: [3, 4]",
                  "Root: A<br>Bass: C<br>Octave: 5<br>Degree: 6<br>Intervals: [3, 4]",
                  "Root: A<br>Bass: E<br>Octave: 5<br>Degree: 6<br>Intervals: [3, 4]",
                  "Root: B<br>Bass: B<br>Octave: 5<br>Degree: 7<br>Intervals: [3, 3]",
                  "Root: B<br>Bass: D<br>Octave: 5<br>Degree: 7<br>Intervals: [3, 3]",
                  "Root: B<br>Bass: F<br>Octave: 5<br>Degree: 7<br>Intervals: [3, 3]"
                ],
                "marker": {
                  "color": [
                    "red",
                    "red",
                    "red",
                    "blue",
                    "blue",
                    "blue",
                    "blue",
                    "blue",
                    "blue",
                    "red",
                    "red",
                    "red",
                    "red",
                    "red",
                    "red",
                    "blue",
                    "blue",
                    "blue",
                    "green",
                    "green",
                    "green"
                  ],
                  "size": 13,
                  "symbol": [
                    "star-square",
                    "star-square",
                    "star-square",
                    "star-triangle-down",
                    "star-triangle-down",
                    "star-triangle-down",
                    "star-triangle-down",
                    "star-triangle-down",
                    "star-triangle-down",
                    "star-square",
                    "star-square",
                    "star-square",
                    "star-square",
                    "star-square",
                    "star-square",
                    "star-triangle-down",
                    "star-triangle-down",
                    "star-triangle-down",
                    "circle",
                    "circle",
                    "circle"
                  ]
                },
                "mode": "markers",
                "text": [
                  "",
                  "",
                  "",
                  "",
                  "",
                  "",
                  "",
                  "",
                  "",
                  "",
                  "",
                  "",
                  "",
                  "",
                  "",
                  "",
                  "",
                  "",
                  "",
                  "",
                  ""
                ],
                "textposition": "top center",
                "type": "scatter",
                "uid": "9567d9d9-b67d-4da4-96fd-3fb3e2123f93",
                "x": {
                  "dtype": "float64",
                  "shape": [
                    21
                  ]
                },
                "y": {
                  "dtype": "float64",
                  "shape": [
                    21
                  ]
                }
              }
            ],
            "_dom_classes": [],
            "_js2py_layoutDelta": null,
            "_js2py_pointsCallback": {},
            "_js2py_relayout": {},
            "_js2py_restyle": {},
            "_js2py_traceDeltas": null,
            "_js2py_update": {},
            "_last_layout_edit_id": 0,
            "_last_trace_edit_id": 0,
            "_layout": {
              "autosize": false,
              "height": 800,
              "showlegend": false,
              "title": {
                "text": "Chord Representation (2D)"
              },
              "width": 800,
              "xaxis": {
                "autorange": false,
                "range": [
                  -3.3434011091564337,
                  2.677727048178607
                ],
                "title": {
                  "text": ""
                }
              },
              "yaxis": {
                "autorange": false,
                "range": [
                  -2.643526238989196,
                  2.4078640120346284
                ],
                "scaleanchor": "x",
                "scaleratio": 1,
                "title": {
                  "text": ""
                }
              }
            },
            "_model_module": "jupyterlab-plotly",
            "_model_module_version": "^5.15.0",
            "_model_name": "FigureModel",
            "_py2js_addTraces": {},
            "_py2js_animate": {},
            "_py2js_deleteTraces": {},
            "_py2js_moveTraces": {},
            "_py2js_relayout": null,
            "_py2js_removeLayoutProps": null,
            "_py2js_removeTraceProps": {},
            "_py2js_restyle": {},
            "_py2js_update": {},
            "_view_count": 1,
            "_view_module": "jupyterlab-plotly",
            "_view_module_version": "^5.15.0",
            "_view_name": "FigureView"
          }
        },
        "73fb8731b3bb49ef924bf8ad37fb98aa": {
          "model_module": "@jupyter-widgets/controls",
          "model_module_version": "1.5.0",
          "model_name": "DropdownModel",
          "state": {
            "_dom_classes": [],
            "_model_module": "@jupyter-widgets/controls",
            "_model_module_version": "1.5.0",
            "_model_name": "DropdownModel",
            "_options_labels": [
              "Chord ID: chord_0, C",
              "Chord ID: chord_1, C/E",
              "Chord ID: chord_2, C/G",
              "Chord ID: chord_3, Dm",
              "Chord ID: chord_4, Dm/F",
              "Chord ID: chord_5, Dm/A",
              "Chord ID: chord_6, Em",
              "Chord ID: chord_7, Em/G",
              "Chord ID: chord_8, Em/B",
              "Chord ID: chord_9, F",
              "Chord ID: chord_10, F/A",
              "Chord ID: chord_11, F/C",
              "Chord ID: chord_12, G",
              "Chord ID: chord_13, G/B",
              "Chord ID: chord_14, G/D",
              "Chord ID: chord_15, Am",
              "Chord ID: chord_16, Am/C",
              "Chord ID: chord_17, Am/E",
              "Chord ID: chord_18, B°",
              "Chord ID: chord_19, B°/D",
              "Chord ID: chord_20, B°/F"
            ],
            "_view_count": null,
            "_view_module": "@jupyter-widgets/controls",
            "_view_module_version": "1.5.0",
            "_view_name": "DropdownView",
            "description": "Chord ID:",
            "description_tooltip": null,
            "disabled": false,
            "index": 0,
            "layout": "IPY_MODEL_4b641ada724f4f31b708f195a6f07d97",
            "style": "IPY_MODEL_777444a47eba4bfa83735822f776b160"
          }
        },
        "74a0f201cf46498b99869b7efc19d6c2": {
          "model_module": "@jupyter-widgets/base",
          "model_module_version": "1.2.0",
          "model_name": "LayoutModel",
          "state": {
            "_model_module": "@jupyter-widgets/base",
            "_model_module_version": "1.2.0",
            "_model_name": "LayoutModel",
            "_view_count": null,
            "_view_module": "@jupyter-widgets/base",
            "_view_module_version": "1.2.0",
            "_view_name": "LayoutView",
            "align_content": null,
            "align_items": null,
            "align_self": null,
            "border": null,
            "bottom": null,
            "display": null,
            "flex": null,
            "flex_flow": null,
            "grid_area": null,
            "grid_auto_columns": null,
            "grid_auto_flow": null,
            "grid_auto_rows": null,
            "grid_column": null,
            "grid_gap": null,
            "grid_row": null,
            "grid_template_areas": null,
            "grid_template_columns": null,
            "grid_template_rows": null,
            "height": null,
            "justify_content": null,
            "justify_items": null,
            "left": null,
            "margin": null,
            "max_height": null,
            "max_width": null,
            "min_height": null,
            "min_width": null,
            "object_fit": null,
            "object_position": null,
            "order": null,
            "overflow": null,
            "overflow_x": null,
            "overflow_y": null,
            "padding": null,
            "right": null,
            "top": null,
            "visibility": null,
            "width": null
          }
        },
        "777444a47eba4bfa83735822f776b160": {
          "model_module": "@jupyter-widgets/controls",
          "model_module_version": "1.5.0",
          "model_name": "DescriptionStyleModel",
          "state": {
            "_model_module": "@jupyter-widgets/controls",
            "_model_module_version": "1.5.0",
            "_model_name": "DescriptionStyleModel",
            "_view_count": null,
            "_view_module": "@jupyter-widgets/base",
            "_view_module_version": "1.2.0",
            "_view_name": "StyleView",
            "description_width": ""
          }
        },
        "80bdaac18b1c47f4a9a65edff66ba756": {
          "model_module": "@jupyter-widgets/controls",
          "model_module_version": "1.5.0",
          "model_name": "DropdownModel",
          "state": {
            "_dom_classes": [],
            "_model_module": "@jupyter-widgets/controls",
            "_model_module_version": "1.5.0",
            "_model_name": "DropdownModel",
            "_options_labels": [
              "Experimento PC set - Escala Mayor - Octava 5 - Intervalos 2 - mod_norm_inversiones",
              ".ipynb_checkpoints",
              "Experimento PC set - Escala Mayor - Octava 5 - Intervalos 2"
            ],
            "_view_count": null,
            "_view_module": "@jupyter-widgets/controls",
            "_view_module_version": "1.5.0",
            "_view_name": "DropdownView",
            "description": "Carpeta:",
            "description_tooltip": null,
            "disabled": false,
            "index": 2,
            "layout": "IPY_MODEL_6a26e4c393b14083ae4c47f0a207f7c4",
            "style": "IPY_MODEL_64364596d6e0420fb9c0e47bc9578e4c"
          }
        },
        "9383095f3a1e4548ab794d02f3927cda": {
          "model_module": "@jupyter-widgets/base",
          "model_module_version": "1.2.0",
          "model_name": "LayoutModel",
          "state": {
            "_model_module": "@jupyter-widgets/base",
            "_model_module_version": "1.2.0",
            "_model_name": "LayoutModel",
            "_view_count": null,
            "_view_module": "@jupyter-widgets/base",
            "_view_module_version": "1.2.0",
            "_view_name": "LayoutView",
            "align_content": null,
            "align_items": null,
            "align_self": null,
            "border": null,
            "bottom": null,
            "display": null,
            "flex": null,
            "flex_flow": null,
            "grid_area": null,
            "grid_auto_columns": null,
            "grid_auto_flow": null,
            "grid_auto_rows": null,
            "grid_column": null,
            "grid_gap": null,
            "grid_row": null,
            "grid_template_areas": null,
            "grid_template_columns": null,
            "grid_template_rows": null,
            "height": null,
            "justify_content": null,
            "justify_items": null,
            "left": null,
            "margin": null,
            "max_height": null,
            "max_width": null,
            "min_height": null,
            "min_width": null,
            "object_fit": null,
            "object_position": null,
            "order": null,
            "overflow": null,
            "overflow_x": null,
            "overflow_y": null,
            "padding": null,
            "right": null,
            "top": null,
            "visibility": null,
            "width": null
          }
        },
        "95f5d3f5ba4f408dbfe9384cc8777ce3": {
          "model_module": "@jupyter-widgets/controls",
          "model_module_version": "1.5.0",
          "model_name": "ButtonModel",
          "state": {
            "_dom_classes": [],
            "_model_module": "@jupyter-widgets/controls",
            "_model_module_version": "1.5.0",
            "_model_name": "ButtonModel",
            "_view_count": null,
            "_view_module": "@jupyter-widgets/controls",
            "_view_module_version": "1.5.0",
            "_view_name": "ButtonView",
            "button_style": "",
            "description": "Cargar datos",
            "disabled": false,
            "icon": "",
            "layout": "IPY_MODEL_9383095f3a1e4548ab794d02f3927cda",
            "style": "IPY_MODEL_6b2c9ade6c124b6c9c82d77e5016cea3",
            "tooltip": ""
          }
        },
        "9fad67381dde476ebf3aec6199845403": {
          "model_module": "@jupyter-widgets/controls",
          "model_module_version": "1.5.0",
          "model_name": "DescriptionStyleModel",
          "state": {
            "_model_module": "@jupyter-widgets/controls",
            "_model_module_version": "1.5.0",
            "_model_name": "DescriptionStyleModel",
            "_view_count": null,
            "_view_module": "@jupyter-widgets/base",
            "_view_module_version": "1.2.0",
            "_view_name": "StyleView",
            "description_width": ""
          }
        },
        "a4648fa1ba9c46278be42815bac80024": {
          "model_module": "@jupyter-widgets/base",
          "model_module_version": "1.2.0",
          "model_name": "LayoutModel",
          "state": {
            "_model_module": "@jupyter-widgets/base",
            "_model_module_version": "1.2.0",
            "_model_name": "LayoutModel",
            "_view_count": null,
            "_view_module": "@jupyter-widgets/base",
            "_view_module_version": "1.2.0",
            "_view_name": "LayoutView",
            "align_content": null,
            "align_items": null,
            "align_self": null,
            "border": null,
            "bottom": null,
            "display": null,
            "flex": null,
            "flex_flow": null,
            "grid_area": null,
            "grid_auto_columns": null,
            "grid_auto_flow": null,
            "grid_auto_rows": null,
            "grid_column": null,
            "grid_gap": null,
            "grid_row": null,
            "grid_template_areas": null,
            "grid_template_columns": null,
            "grid_template_rows": null,
            "height": null,
            "justify_content": null,
            "justify_items": null,
            "left": null,
            "margin": null,
            "max_height": null,
            "max_width": null,
            "min_height": null,
            "min_width": null,
            "object_fit": null,
            "object_position": null,
            "order": null,
            "overflow": null,
            "overflow_x": null,
            "overflow_y": null,
            "padding": null,
            "right": null,
            "top": null,
            "visibility": null,
            "width": null
          }
        },
        "a9f8078bf67a4db39c6193eeb9c85efc": {
          "model_module": "@jupyter-widgets/base",
          "model_module_version": "1.2.0",
          "model_name": "LayoutModel",
          "state": {
            "_model_module": "@jupyter-widgets/base",
            "_model_module_version": "1.2.0",
            "_model_name": "LayoutModel",
            "_view_count": null,
            "_view_module": "@jupyter-widgets/base",
            "_view_module_version": "1.2.0",
            "_view_name": "LayoutView",
            "align_content": null,
            "align_items": null,
            "align_self": null,
            "border": null,
            "bottom": null,
            "display": null,
            "flex": null,
            "flex_flow": null,
            "grid_area": null,
            "grid_auto_columns": null,
            "grid_auto_flow": null,
            "grid_auto_rows": null,
            "grid_column": null,
            "grid_gap": null,
            "grid_row": null,
            "grid_template_areas": null,
            "grid_template_columns": null,
            "grid_template_rows": null,
            "height": null,
            "justify_content": null,
            "justify_items": null,
            "left": null,
            "margin": null,
            "max_height": null,
            "max_width": null,
            "min_height": null,
            "min_width": null,
            "object_fit": null,
            "object_position": null,
            "order": null,
            "overflow": null,
            "overflow_x": null,
            "overflow_y": null,
            "padding": null,
            "right": null,
            "top": null,
            "visibility": null,
            "width": null
          }
        },
        "ac347f52ae8945e4b955ae7c2c286179": {
          "model_module": "@jupyter-widgets/controls",
          "model_module_version": "1.5.0",
          "model_name": "DescriptionStyleModel",
          "state": {
            "_model_module": "@jupyter-widgets/controls",
            "_model_module_version": "1.5.0",
            "_model_name": "DescriptionStyleModel",
            "_view_count": null,
            "_view_module": "@jupyter-widgets/base",
            "_view_module_version": "1.2.0",
            "_view_name": "StyleView",
            "description_width": ""
          }
        },
        "bef15f39c6f246be9963bbfe7d958449": {
          "model_module": "jupyterlab-plotly",
          "model_module_version": "^5.15.0",
          "model_name": "FigureModel",
          "state": {
            "_config": {
              "plotlyServerURL": "https://plot.ly"
            },
            "_data": [
              {
                "hoverinfo": "text",
                "hovertext": [
                  "Root: C<br>Bass: C<br>Octave: 5<br>Degree: 1<br>Intervals: [4, 3]",
                  "Root: C<br>Bass: E<br>Octave: 5<br>Degree: 1<br>Intervals: [4, 3]",
                  "Root: C<br>Bass: G<br>Octave: 5<br>Degree: 1<br>Intervals: [4, 3]",
                  "Root: D<br>Bass: D<br>Octave: 5<br>Degree: 2<br>Intervals: [3, 4]",
                  "Root: D<br>Bass: F<br>Octave: 5<br>Degree: 2<br>Intervals: [3, 4]",
                  "Root: D<br>Bass: A<br>Octave: 5<br>Degree: 2<br>Intervals: [3, 4]",
                  "Root: E<br>Bass: E<br>Octave: 5<br>Degree: 3<br>Intervals: [3, 4]",
                  "Root: E<br>Bass: G<br>Octave: 5<br>Degree: 3<br>Intervals: [3, 4]",
                  "Root: E<br>Bass: B<br>Octave: 5<br>Degree: 3<br>Intervals: [3, 4]",
                  "Root: F<br>Bass: F<br>Octave: 5<br>Degree: 4<br>Intervals: [4, 3]",
                  "Root: F<br>Bass: A<br>Octave: 5<br>Degree: 4<br>Intervals: [4, 3]",
                  "Root: F<br>Bass: C<br>Octave: 5<br>Degree: 4<br>Intervals: [4, 3]",
                  "Root: G<br>Bass: G<br>Octave: 5<br>Degree: 5<br>Intervals: [4, 3]",
                  "Root: G<br>Bass: B<br>Octave: 5<br>Degree: 5<br>Intervals: [4, 3]",
                  "Root: G<br>Bass: D<br>Octave: 5<br>Degree: 5<br>Intervals: [4, 3]",
                  "Root: A<br>Bass: A<br>Octave: 5<br>Degree: 6<br>Intervals: [3, 4]",
                  "Root: A<br>Bass: C<br>Octave: 5<br>Degree: 6<br>Intervals: [3, 4]",
                  "Root: A<br>Bass: E<br>Octave: 5<br>Degree: 6<br>Intervals: [3, 4]",
                  "Root: B<br>Bass: B<br>Octave: 5<br>Degree: 7<br>Intervals: [3, 3]",
                  "Root: B<br>Bass: D<br>Octave: 5<br>Degree: 7<br>Intervals: [3, 3]",
                  "Root: B<br>Bass: F<br>Octave: 5<br>Degree: 7<br>Intervals: [3, 3]"
                ],
                "marker": {
                  "color": [
                    "black",
                    "black",
                    "black",
                    "black",
                    "black",
                    "black",
                    "black",
                    "black",
                    "black",
                    "black",
                    "black",
                    "black",
                    "black",
                    "black",
                    "black",
                    "black",
                    "black",
                    "black",
                    "black",
                    "black",
                    "black"
                  ],
                  "size": 13,
                  "symbol": [
                    "circle",
                    "circle",
                    "circle",
                    "circle",
                    "circle",
                    "circle",
                    "circle",
                    "circle",
                    "circle",
                    "circle",
                    "circle",
                    "circle",
                    "circle",
                    "circle",
                    "circle",
                    "circle",
                    "circle",
                    "circle",
                    "circle",
                    "circle",
                    "circle"
                  ]
                },
                "mode": "markers+text",
                "text": [
                  "C",
                  "C/E",
                  "C/G",
                  "Dm",
                  "Dm/F",
                  "Dm/A",
                  "Em",
                  "Em/G",
                  "Em/B",
                  "F",
                  "F/A",
                  "F/C",
                  "G",
                  "G/B",
                  "G/D",
                  "Am",
                  "Am/C",
                  "Am/E",
                  "B°",
                  "B°/D",
                  "B°/F"
                ],
                "textposition": "top center",
                "type": "scatter",
                "uid": "2ec39e56-3fc1-4c99-b5f3-acaf8ce2cf75",
                "x": {
                  "dtype": "float64",
                  "shape": [
                    21
                  ]
                },
                "y": {
                  "dtype": "float64",
                  "shape": [
                    21
                  ]
                }
              }
            ],
            "_dom_classes": [],
            "_js2py_layoutDelta": null,
            "_js2py_pointsCallback": {},
            "_js2py_relayout": {},
            "_js2py_restyle": {},
            "_js2py_traceDeltas": null,
            "_js2py_update": {},
            "_last_layout_edit_id": 0,
            "_last_trace_edit_id": 0,
            "_layout": {
              "autosize": false,
              "height": 800,
              "showlegend": false,
              "title": {
                "text": "Chord Representation (2D)"
              },
              "width": 800,
              "xaxis": {
                "autorange": false,
                "range": [
                  -1.5422172535365053,
                  1.454165773046566
                ],
                "title": {
                  "text": ""
                }
              },
              "yaxis": {
                "autorange": false,
                "range": [
                  -1.3668404042549418,
                  2.946115436259008
                ],
                "scaleanchor": "x",
                "scaleratio": 1,
                "title": {
                  "text": ""
                }
              }
            },
            "_model_module": "jupyterlab-plotly",
            "_model_module_version": "^5.15.0",
            "_model_name": "FigureModel",
            "_py2js_addTraces": {},
            "_py2js_animate": {},
            "_py2js_deleteTraces": {},
            "_py2js_moveTraces": {},
            "_py2js_relayout": null,
            "_py2js_removeLayoutProps": null,
            "_py2js_removeTraceProps": {},
            "_py2js_restyle": {},
            "_py2js_update": {},
            "_view_count": 1,
            "_view_module": "jupyterlab-plotly",
            "_view_module_version": "^5.15.0",
            "_view_name": "FigureView"
          }
        },
        "c369dc9d60c3412983684d07cd5592dc": {
          "model_module": "@jupyter-widgets/controls",
          "model_module_version": "1.5.0",
          "model_name": "DropdownModel",
          "state": {
            "_dom_classes": [],
            "_model_module": "@jupyter-widgets/controls",
            "_model_module_version": "1.5.0",
            "_model_name": "DropdownModel",
            "_options_labels": [
              "Chord ID: chord_0, C",
              "Chord ID: chord_1, C/E",
              "Chord ID: chord_2, C/G",
              "Chord ID: chord_3, Dm",
              "Chord ID: chord_4, Dm/F",
              "Chord ID: chord_5, Dm/A",
              "Chord ID: chord_6, Em",
              "Chord ID: chord_7, Em/G",
              "Chord ID: chord_8, Em/B",
              "Chord ID: chord_9, F",
              "Chord ID: chord_10, F/A",
              "Chord ID: chord_11, F/C",
              "Chord ID: chord_12, G",
              "Chord ID: chord_13, G/B",
              "Chord ID: chord_14, G/D",
              "Chord ID: chord_15, Am",
              "Chord ID: chord_16, Am/C",
              "Chord ID: chord_17, Am/E",
              "Chord ID: chord_18, B°",
              "Chord ID: chord_19, B°/D",
              "Chord ID: chord_20, B°/F"
            ],
            "_view_count": null,
            "_view_module": "@jupyter-widgets/controls",
            "_view_module_version": "1.5.0",
            "_view_name": "DropdownView",
            "description": "Chord ID:",
            "description_tooltip": null,
            "disabled": false,
            "index": 0,
            "layout": "IPY_MODEL_5c54ab98dc614fbb962522108f489c0d",
            "style": "IPY_MODEL_9fad67381dde476ebf3aec6199845403"
          }
        },
        "cde47f21657940c1ac3e312ba408811c": {
          "model_module": "@jupyter-widgets/controls",
          "model_module_version": "1.5.0",
          "model_name": "DropdownModel",
          "state": {
            "_dom_classes": [],
            "_model_module": "@jupyter-widgets/controls",
            "_model_module_version": "1.5.0",
            "_model_name": "DropdownModel",
            "_options_labels": [
              "Chord ID: chord_0, C",
              "Chord ID: chord_1, C/E",
              "Chord ID: chord_2, C/G",
              "Chord ID: chord_3, Dm",
              "Chord ID: chord_4, Dm/F",
              "Chord ID: chord_5, Dm/A",
              "Chord ID: chord_6, Em",
              "Chord ID: chord_7, Em/G",
              "Chord ID: chord_8, Em/B",
              "Chord ID: chord_9, F",
              "Chord ID: chord_10, F/A",
              "Chord ID: chord_11, F/C",
              "Chord ID: chord_12, G",
              "Chord ID: chord_13, G/B",
              "Chord ID: chord_14, G/D",
              "Chord ID: chord_15, Am",
              "Chord ID: chord_16, Am/C",
              "Chord ID: chord_17, Am/E",
              "Chord ID: chord_18, B°",
              "Chord ID: chord_19, B°/D",
              "Chord ID: chord_20, B°/F"
            ],
            "_view_count": null,
            "_view_module": "@jupyter-widgets/controls",
            "_view_module_version": "1.5.0",
            "_view_name": "DropdownView",
            "description": "Chord ID:",
            "description_tooltip": null,
            "disabled": false,
            "index": 0,
            "layout": "IPY_MODEL_0421d3d8eedf405fab297cd18922e7aa",
            "style": "IPY_MODEL_539fc9baf35a443e9e674878f58b03e8"
          }
        },
        "dd01af81a8144882b263a3d33b861874": {
          "model_module": "@jupyter-widgets/controls",
          "model_module_version": "1.5.0",
          "model_name": "DropdownModel",
          "state": {
            "_dom_classes": [],
            "_model_module": "@jupyter-widgets/controls",
            "_model_module_version": "1.5.0",
            "_model_name": "DropdownModel",
            "_options_labels": [
              "Chord ID: chord_0, C",
              "Chord ID: chord_1, C/E",
              "Chord ID: chord_2, C/G",
              "Chord ID: chord_3, Dm",
              "Chord ID: chord_4, Dm/F",
              "Chord ID: chord_5, Dm/A",
              "Chord ID: chord_6, Em",
              "Chord ID: chord_7, Em/G",
              "Chord ID: chord_8, Em/B",
              "Chord ID: chord_9, F",
              "Chord ID: chord_10, F/A",
              "Chord ID: chord_11, F/C",
              "Chord ID: chord_12, G",
              "Chord ID: chord_13, G/B",
              "Chord ID: chord_14, G/D",
              "Chord ID: chord_15, Am",
              "Chord ID: chord_16, Am/C",
              "Chord ID: chord_17, Am/E",
              "Chord ID: chord_18, B°",
              "Chord ID: chord_19, B°/D",
              "Chord ID: chord_20, B°/F"
            ],
            "_view_count": null,
            "_view_module": "@jupyter-widgets/controls",
            "_view_module_version": "1.5.0",
            "_view_name": "DropdownView",
            "description": "Chord ID:",
            "description_tooltip": null,
            "disabled": false,
            "index": 0,
            "layout": "IPY_MODEL_a9f8078bf67a4db39c6193eeb9c85efc",
            "style": "IPY_MODEL_e24be9e4dd214ac7895775b396329ea9"
          }
        },
        "e24be9e4dd214ac7895775b396329ea9": {
          "model_module": "@jupyter-widgets/controls",
          "model_module_version": "1.5.0",
          "model_name": "DescriptionStyleModel",
          "state": {
            "_model_module": "@jupyter-widgets/controls",
            "_model_module_version": "1.5.0",
            "_model_name": "DescriptionStyleModel",
            "_view_count": null,
            "_view_module": "@jupyter-widgets/base",
            "_view_module_version": "1.2.0",
            "_view_name": "StyleView",
            "description_width": ""
          }
        },
        "fe4951b8aa644af2a57332c9c84f8b17": {
          "model_module": "jupyterlab-plotly",
          "model_module_version": "^5.15.0",
          "model_name": "FigureModel",
          "state": {
            "_config": {
              "plotlyServerURL": "https://plot.ly"
            },
            "_data": [
              {
                "hoverinfo": "text",
                "hovertext": [
                  "Root: C<br>Bass: C<br>Octave: 5<br>Degree: 1<br>Intervals: [4, 3]",
                  "Root: C<br>Bass: E<br>Octave: 5<br>Degree: 1<br>Intervals: [4, 3]",
                  "Root: C<br>Bass: G<br>Octave: 5<br>Degree: 1<br>Intervals: [4, 3]",
                  "Root: D<br>Bass: D<br>Octave: 5<br>Degree: 2<br>Intervals: [3, 4]",
                  "Root: D<br>Bass: F<br>Octave: 5<br>Degree: 2<br>Intervals: [3, 4]",
                  "Root: D<br>Bass: A<br>Octave: 5<br>Degree: 2<br>Intervals: [3, 4]",
                  "Root: E<br>Bass: E<br>Octave: 5<br>Degree: 3<br>Intervals: [3, 4]",
                  "Root: E<br>Bass: G<br>Octave: 5<br>Degree: 3<br>Intervals: [3, 4]",
                  "Root: E<br>Bass: B<br>Octave: 5<br>Degree: 3<br>Intervals: [3, 4]",
                  "Root: F<br>Bass: F<br>Octave: 5<br>Degree: 4<br>Intervals: [4, 3]",
                  "Root: F<br>Bass: A<br>Octave: 5<br>Degree: 4<br>Intervals: [4, 3]",
                  "Root: F<br>Bass: C<br>Octave: 5<br>Degree: 4<br>Intervals: [4, 3]",
                  "Root: G<br>Bass: G<br>Octave: 5<br>Degree: 5<br>Intervals: [4, 3]",
                  "Root: G<br>Bass: B<br>Octave: 5<br>Degree: 5<br>Intervals: [4, 3]",
                  "Root: G<br>Bass: D<br>Octave: 5<br>Degree: 5<br>Intervals: [4, 3]",
                  "Root: A<br>Bass: A<br>Octave: 5<br>Degree: 6<br>Intervals: [3, 4]",
                  "Root: A<br>Bass: C<br>Octave: 5<br>Degree: 6<br>Intervals: [3, 4]",
                  "Root: A<br>Bass: E<br>Octave: 5<br>Degree: 6<br>Intervals: [3, 4]",
                  "Root: B<br>Bass: B<br>Octave: 5<br>Degree: 7<br>Intervals: [3, 3]",
                  "Root: B<br>Bass: D<br>Octave: 5<br>Degree: 7<br>Intervals: [3, 3]",
                  "Root: B<br>Bass: F<br>Octave: 5<br>Degree: 7<br>Intervals: [3, 3]"
                ],
                "marker": {
                  "color": [
                    "red",
                    "red",
                    "red",
                    "blue",
                    "blue",
                    "blue",
                    "blue",
                    "blue",
                    "blue",
                    "red",
                    "red",
                    "red",
                    "red",
                    "red",
                    "red",
                    "blue",
                    "blue",
                    "blue",
                    "green",
                    "green",
                    "green"
                  ],
                  "size": 13,
                  "symbol": [
                    "star-square",
                    "star-square",
                    "star-square",
                    "star-triangle-down",
                    "star-triangle-down",
                    "star-triangle-down",
                    "star-triangle-down",
                    "star-triangle-down",
                    "star-triangle-down",
                    "star-square",
                    "star-square",
                    "star-square",
                    "star-square",
                    "star-square",
                    "star-square",
                    "star-triangle-down",
                    "star-triangle-down",
                    "star-triangle-down",
                    "circle",
                    "circle",
                    "circle"
                  ]
                },
                "mode": "markers+text",
                "text": [
                  "C",
                  "C/E",
                  "C/G",
                  "Dm",
                  "Dm/F",
                  "Dm/A",
                  "Em",
                  "Em/G",
                  "Em/B",
                  "F",
                  "F/A",
                  "F/C",
                  "G",
                  "G/B",
                  "G/D",
                  "Am",
                  "Am/C",
                  "Am/E",
                  "B°",
                  "B°/D",
                  "B°/F"
                ],
                "textposition": "top center",
                "type": "scatter",
                "uid": "c6568ca1-fa03-4ada-91b2-4a249c24cf7b",
                "x": {
                  "dtype": "float64",
                  "shape": [
                    21
                  ]
                },
                "y": {
                  "dtype": "float64",
                  "shape": [
                    21
                  ]
                }
              }
            ],
            "_dom_classes": [],
            "_js2py_layoutDelta": null,
            "_js2py_pointsCallback": {},
            "_js2py_relayout": {},
            "_js2py_restyle": {},
            "_js2py_traceDeltas": null,
            "_js2py_update": {},
            "_last_layout_edit_id": 0,
            "_last_trace_edit_id": 0,
            "_layout": {
              "autosize": false,
              "height": 800,
              "showlegend": false,
              "title": {
                "text": "Chord Representation (2D)"
              },
              "width": 800,
              "xaxis": {
                "autorange": false,
                "range": [
                  -1.3310792563510367,
                  1.319927774056562
                ],
                "title": {
                  "text": ""
                }
              },
              "yaxis": {
                "autorange": false,
                "range": [
                  -1.3212869899747988,
                  1.551356610756709
                ],
                "scaleanchor": "x",
                "scaleratio": 1,
                "title": {
                  "text": ""
                }
              }
            },
            "_model_module": "jupyterlab-plotly",
            "_model_module_version": "^5.15.0",
            "_model_name": "FigureModel",
            "_py2js_addTraces": {},
            "_py2js_animate": {},
            "_py2js_deleteTraces": {},
            "_py2js_moveTraces": {},
            "_py2js_relayout": null,
            "_py2js_removeLayoutProps": null,
            "_py2js_removeTraceProps": {},
            "_py2js_restyle": {},
            "_py2js_update": {},
            "_view_count": 1,
            "_view_module": "jupyterlab-plotly",
            "_view_module_version": "^5.15.0",
            "_view_name": "FigureView"
          }
        }
      }
    }
  },
  "nbformat": 4,
  "nbformat_minor": 0
}
